{
  "cells": [
    {
      "cell_type": "markdown",
      "metadata": {
        "id": "Dw3UQKQiu0O_"
      },
      "source": [
        "# DSE 315 Data Science in Practice"
      ]
    },
    {
      "cell_type": "markdown",
      "metadata": {
        "id": "EzKVciA3u0PC"
      },
      "source": [
        "# `Exercise`"
      ]
    },
    {
      "cell_type": "markdown",
      "metadata": {
        "id": "VMkSn8ML1l8m"
      },
      "source": [
        "Write a program that uses input to prompt a user for their name and then welcomes them."
      ]
    },
    {
      "cell_type": "code",
      "source": [
        "name_input = input('Hi ! Please enter your name:')\n",
        "print(f\"Welcome {name_input} !\")"
      ],
      "metadata": {
        "colab": {
          "base_uri": "https://localhost:8080/"
        },
        "id": "9OLc3KyQ2IEf",
        "outputId": "6763ed19-cff5-4c50-ef5a-d3c87a71bd0e"
      },
      "execution_count": 4,
      "outputs": [
        {
          "output_type": "stream",
          "name": "stdout",
          "text": [
            "Hi ! Please enter your name:Rita\n",
            "Welcome Rita !\n"
          ]
        }
      ]
    },
    {
      "cell_type": "markdown",
      "metadata": {
        "id": "1VOd6JR31l8n"
      },
      "source": [
        "# `Exercise` "
      ]
    },
    {
      "cell_type": "markdown",
      "metadata": {
        "id": "lT7AwrD61l8n"
      },
      "source": [
        "Write a program to prompt the user for hours and rate per hour to compute gross pay."
      ]
    },
    {
      "cell_type": "code",
      "source": [
        "input_hours = float(input('Hi , enter the hours : '))\n",
        "input_rate = float(input('Enter the Rate per hour :'))\n",
        "gross_pay = input_hours * input_rate\n",
        "print(f\"Gross pay = {gross_pay} \")"
      ],
      "metadata": {
        "colab": {
          "base_uri": "https://localhost:8080/"
        },
        "id": "cykBAogS2uex",
        "outputId": "3af196d6-13dd-4451-9b06-5f19c45f18b1"
      },
      "execution_count": 5,
      "outputs": [
        {
          "output_type": "stream",
          "name": "stdout",
          "text": [
            "Hi , enter the hours : 3\n",
            "Enter the Rate per hour :4\n",
            "Gross pay = 12.0 \n"
          ]
        }
      ]
    },
    {
      "cell_type": "markdown",
      "metadata": {
        "id": "GnXyPPqv1l8n"
      },
      "source": [
        "# `Exercise`"
      ]
    },
    {
      "cell_type": "markdown",
      "metadata": {
        "id": "Ss5omBKn1l8o"
      },
      "source": [
        "Assume that we execute the following assignment statements:\n",
        "- width = 17\n",
        "- height = 12.0 "
      ]
    },
    {
      "cell_type": "markdown",
      "metadata": {
        "id": "-Ot3iBRN1l8o"
      },
      "source": [
        "For each of the following expressions, write the value of the expression and the type (of the value of the expression). \n",
        "- width//2 \n",
        "- width/2.0 \n",
        "- height/3 \n",
        "- 1 + 2 * 5 "
      ]
    },
    {
      "cell_type": "code",
      "source": [
        "width = 17\n",
        "height = 12.0\n",
        "\n",
        "print(\"The value is : \", width // 2, \"and the type is: \" ,type(width // 2))\n",
        "print(\"The value is : \", width / 2.0 ,\"and the type is: \" , type(width / 2.0))\n",
        "print(\"The value is : \", width / 3 ,\"and the type is: \" , type(width / 3))\n",
        "print(\"The value is :\" , 1 + 2 * 5,\"and the type is: \" , type(1 + 2 * 5))"
      ],
      "metadata": {
        "colab": {
          "base_uri": "https://localhost:8080/"
        },
        "id": "tFx7aJ2P3lJ6",
        "outputId": "8f746b8a-c37b-4abc-814e-30fc8650e23d"
      },
      "execution_count": 6,
      "outputs": [
        {
          "output_type": "stream",
          "name": "stdout",
          "text": [
            "The value is :  8 and the type is:  <class 'int'>\n",
            "The value is :  8.5 and the type is:  <class 'float'>\n",
            "The value is :  5.666666666666667 and the type is:  <class 'float'>\n",
            "The value is : 11 and the type is:  <class 'int'>\n"
          ]
        }
      ]
    },
    {
      "cell_type": "markdown",
      "metadata": {
        "id": "4sTYxuAl1l8p"
      },
      "source": [
        "# `Exercise`"
      ]
    },
    {
      "cell_type": "markdown",
      "metadata": {
        "id": "TZrmt-Kt1l8q"
      },
      "source": [
        "- In the below cell, print the six step process using - print- statement...\n",
        "    - 1. Setting the research goal\n",
        "    - 2. Retrieving Data\n",
        "    - 3. Data Preparation\n",
        "    - 4. Data Exploration\n",
        "    - 5. Data Modeling\n",
        "    - 6. Presentation and Automation\n",
        "\n",
        "- Also comment those steps using - # - whatever you understand about the same\n"
      ]
    },
    {
      "cell_type": "code",
      "execution_count": 3,
      "metadata": {
        "colab": {
          "base_uri": "https://localhost:8080/"
        },
        "id": "pRkI45ZSu0PD",
        "outputId": "e8f63c05-8569-4090-ba9a-3c7adccbb35e"
      },
      "outputs": [
        {
          "output_type": "stream",
          "name": "stdout",
          "text": [
            "Data Science in Practice\n",
            "Data Science involves 6 step process\n",
            "1. Setting the research goal\n",
            "2. Retrieving Data\n",
            "3. Data Preparation\n",
            "4. Data Exploration\n",
            "5. Data Modeling\n",
            "6. Presentation and Automation\n"
          ]
        }
      ],
      "source": [
        "print('Data Science in Practice')\n",
        "print(\"Data Science involves 6 step process\")\n",
        "#---YOUR CODE HERE ----\n",
        "print('1. Setting the research goal')\n",
        "#In the context of this course, Setting the research goal is a way of formulating the research area and how ML tools fit into that ambit\n",
        "print('2. Retrieving Data')\n",
        "#The data associated with the research area that aligns with the goals set in the first step\n",
        "print('3. Data Preparation')\n",
        "#Preparing data in terms of parameters, sizes so as to align with the research goals.\n",
        "print('4. Data Exploration')\n",
        "#Exploring data, checking out the schema like the number of columns, data type, redundancies etc.\n",
        "print('5. Data Modeling')\n",
        "#Analyse trends,, visualize data and fine tune derived details so as to build a sort of pipeline and model\n",
        "print('6. Presentation and Automation')\n",
        "#Making the above obtained model conducive and complete in the sense that it should be easy to understand and correlate with the results and statistics so obtained."
      ]
    },
    {
      "cell_type": "markdown",
      "metadata": {
        "id": "PzzhPvsS1l8t"
      },
      "source": [
        "# `Exercise`"
      ]
    },
    {
      "cell_type": "markdown",
      "metadata": {
        "id": "QFBzQNkou0PS"
      },
      "source": [
        "##### More Variables and Printing"
      ]
    },
    {
      "cell_type": "code",
      "execution_count": 1,
      "metadata": {
        "colab": {
          "base_uri": "https://localhost:8080/"
        },
        "id": "NHHxZsfMu0PV",
        "outputId": "28cafb05-aac1-4786-a123-fa256fbb46a2"
      },
      "outputs": [
        {
          "output_type": "stream",
          "name": "stdout",
          "text": [
            "Let's talk about John Smith.\n",
            "He's 176 tall.\n",
            "He's 65 heavy.\n",
            "Actually that's not too heavy.\n",
            "He's from Humanities department and his interests include Reading.\n",
            "His favorite game is Cricket and plays during weekend.\n",
            "If I add 35, 176, and 65 I get 276.\n"
          ]
        }
      ],
      "source": [
        "my_name = 'John Smith'\n",
        "my_age = 35 # its a lie\n",
        "my_height = 176 # cm\n",
        "my_weight = 65 # kg\n",
        "my_department = 'Humanities'\n",
        "my_interests = 'Reading'\n",
        "my_favorite_game = 'Cricket'\n",
        "\n",
        "print(f\"Let's talk about {my_name}.\")\n",
        "print(f\"He's {my_height} tall.\")\n",
        "print(f\"He's {my_weight} heavy.\" )\n",
        "print(f\"Actually that's not too heavy.\")\n",
        "print(f\"He's from Humanities department and his interests include Reading.\")\n",
        "print(f\"His favorite game is Cricket and plays during weekend.\")\n",
        "print(f\"If I add 35, 176, and 65 I get 276.\")\n",
        "#--like the privious Print statement, write the remaining to get the output as mentioned below"
      ]
    },
    {
      "cell_type": "markdown",
      "metadata": {
        "id": "jaBE0S2a1l8u"
      },
      "source": [
        "# `Exercise`"
      ]
    },
    {
      "cell_type": "markdown",
      "metadata": {
        "id": "l7M8amKVu0Pc"
      },
      "source": [
        "### Determining the Minimum and Maximum with Built-In Functions `min` and `max` "
      ]
    },
    {
      "cell_type": "markdown",
      "metadata": {
        "id": "UWbwbdwd1l8u"
      },
      "source": [
        "Using Built-in Fucntion find out the minimum and maximum values in this (36, 27, 12, 48)"
      ]
    },
    {
      "cell_type": "markdown",
      "metadata": {
        "id": "kblQKOrju0PR"
      },
      "source": [
        "##### This is for Practice, skip this part"
      ]
    },
    {
      "cell_type": "code",
      "execution_count": 2,
      "metadata": {
        "colab": {
          "base_uri": "https://localhost:8080/"
        },
        "id": "7NmJIrhTu0PR",
        "outputId": "38758bb0-fc20-40eb-ec16-6b5aa93ba667"
      },
      "outputs": [
        {
          "output_type": "stream",
          "name": "stdout",
          "text": [
            "..........\n",
            "Data Science\n",
            "_________________________\n"
          ]
        }
      ],
      "source": [
        "print(\".\" * 10) # what'd that do?\n",
        "\n",
        "end1 = \"D\"\n",
        "end2 = \"a\"\n",
        "end3 = \"t\"\n",
        "end4 = \"a\"\n",
        "end5 = \"S\"\n",
        "end6 = \"c\"\n",
        "end7 = \"i\"\n",
        "end8 = \"e\"\n",
        "end9 = \"n\"\n",
        "end10 = \"c\"\n",
        "end11 = \"e\"\n",
        "\n",
        "# watch that comma at the end.  try removing it to see what happens\n",
        "print(end1 + end2 + end3 + end4, end = ' ')\n",
        "print(end5 + end6 + end7 + end8 + end9 + end10 + end11)\n",
        "\n",
        "print(\"_\" * 25)"
      ]
    },
    {
      "cell_type": "markdown",
      "source": [
        "## Activity 1"
      ],
      "metadata": {
        "id": "vILg57oc0vMj"
      }
    },
    {
      "cell_type": "markdown",
      "source": [
        "###Exercise 1: Integer and Float Types"
      ],
      "metadata": {
        "id": "-W1N31Hl03wI"
      }
    },
    {
      "cell_type": "code",
      "source": [
        "a = 6\n",
        "print(\"the type of a is: \" ,type(a))\n",
        "b= 6.0\n",
        "print(\"the type of b is: \" ,type(b))\n",
        "c = 3.14 + 5\n",
        "print(\"the type of c is: \" ,type(c))\n",
        "d= 7.999999999\n",
        "print(int(d))\n",
        "e= 6\n",
        "print(float(e))"
      ],
      "metadata": {
        "colab": {
          "base_uri": "https://localhost:8080/"
        },
        "id": "zRY3Pih208Vg",
        "outputId": "3dd2b7cb-4331-48a3-d663-eb6da6a9c45a"
      },
      "execution_count": 9,
      "outputs": [
        {
          "output_type": "stream",
          "name": "stdout",
          "text": [
            "the type of a is:  <class 'int'>\n",
            "the type of b is:  <class 'float'>\n",
            "the type of c is:  <class 'float'>\n",
            "7\n",
            "6.0\n"
          ]
        }
      ]
    },
    {
      "cell_type": "markdown",
      "source": [
        "### Exercise 2: Assigning Variables"
      ],
      "metadata": {
        "id": "SfYWq_jp5rWv"
      }
    },
    {
      "cell_type": "code",
      "source": [
        "x=2\n",
        "x+=1\n",
        "x=3.0\n",
        "x+=1\n",
        "print(x)"
      ],
      "metadata": {
        "colab": {
          "base_uri": "https://localhost:8080/"
        },
        "id": "LYPDY7DN5uCE",
        "outputId": "9c6541b8-336c-47c1-93a0-c0b73cca97f0"
      },
      "execution_count": 11,
      "outputs": [
        {
          "output_type": "stream",
          "name": "stdout",
          "text": [
            "4.0\n"
          ]
        }
      ]
    },
    {
      "cell_type": "markdown",
      "source": [
        "### Exercise 3: Variable Names"
      ],
      "metadata": {
        "id": "gFMF9_e05_TV"
      }
    },
    {
      "cell_type": "code",
      "source": [
        "1st_number = 1\n",
        "#error because variables can't start with numbers, naming convention violated"
      ],
      "metadata": {
        "colab": {
          "base_uri": "https://localhost:8080/",
          "height": 130
        },
        "id": "CXdynK416B49",
        "outputId": "ef0f86ab-5741-461b-c754-7fc6fb3910b7"
      },
      "execution_count": 13,
      "outputs": [
        {
          "output_type": "error",
          "ename": "SyntaxError",
          "evalue": "ignored",
          "traceback": [
            "\u001b[0;36m  File \u001b[0;32m\"<ipython-input-13-9a87f19ca5be>\"\u001b[0;36m, line \u001b[0;32m1\u001b[0m\n\u001b[0;31m    1st_number = 1\u001b[0m\n\u001b[0m             ^\u001b[0m\n\u001b[0;31mSyntaxError\u001b[0m\u001b[0;31m:\u001b[0m invalid syntax\n"
          ]
        }
      ]
    },
    {
      "cell_type": "code",
      "source": [
        "first_number=1"
      ],
      "metadata": {
        "id": "falGifvm6FJm"
      },
      "execution_count": 14,
      "outputs": []
    },
    {
      "cell_type": "code",
      "source": [
        "my_$=1000.00"
      ],
      "metadata": {
        "colab": {
          "base_uri": "https://localhost:8080/",
          "height": 130
        },
        "id": "BL6RgjhY6sEH",
        "outputId": "7b2d06cd-61d9-47a4-cf94-2a1525410321"
      },
      "execution_count": 15,
      "outputs": [
        {
          "output_type": "error",
          "ename": "SyntaxError",
          "evalue": "ignored",
          "traceback": [
            "\u001b[0;36m  File \u001b[0;32m\"<ipython-input-15-223bbbb31e09>\"\u001b[0;36m, line \u001b[0;32m1\u001b[0m\n\u001b[0;31m    my_$=1000.00\u001b[0m\n\u001b[0m       ^\u001b[0m\n\u001b[0;31mSyntaxError\u001b[0m\u001b[0;31m:\u001b[0m invalid syntax\n"
          ]
        }
      ]
    },
    {
      "cell_type": "code",
      "source": [
        "my_money = 1000.00"
      ],
      "metadata": {
        "id": "PDkxU7o46wRr"
      },
      "execution_count": 16,
      "outputs": []
    },
    {
      "cell_type": "markdown",
      "source": [
        "### Exercise 4: Multiple Variables in Python"
      ],
      "metadata": {
        "id": "7ePvd7Q16z68"
      }
    },
    {
      "cell_type": "code",
      "source": [
        "x=5\n",
        "y=2\n",
        "\n",
        "x+=x\n",
        "y-=y^2\n",
        "\n",
        "print(x,y)"
      ],
      "metadata": {
        "colab": {
          "base_uri": "https://localhost:8080/"
        },
        "id": "gWbGYNEC62Ef",
        "outputId": "00702558-df3e-422e-bc9d-0d0f88611b9b"
      },
      "execution_count": 18,
      "outputs": [
        {
          "output_type": "stream",
          "name": "stdout",
          "text": [
            "10 2\n"
          ]
        }
      ]
    },
    {
      "cell_type": "code",
      "source": [
        "x,y=8,5\n",
        "z=int(x/y)\n",
        "print(z)"
      ],
      "metadata": {
        "colab": {
          "base_uri": "https://localhost:8080/"
        },
        "id": "yMvuOsBr7FWT",
        "outputId": "0ed39406-4a5d-4f7d-c931-c97b7d13e99d"
      },
      "execution_count": 19,
      "outputs": [
        {
          "output_type": "stream",
          "name": "stdout",
          "text": [
            "1\n"
          ]
        }
      ]
    },
    {
      "cell_type": "markdown",
      "source": [
        "### Exercise 5: Comments in Python "
      ],
      "metadata": {
        "id": "VMr2vZUx7a6b"
      }
    },
    {
      "cell_type": "code",
      "source": [
        "#This is a comment"
      ],
      "metadata": {
        "id": "d-GMxNM-7f8r"
      },
      "execution_count": 20,
      "outputs": []
    },
    {
      "cell_type": "code",
      "source": [
        "# Set the variable pi equal to 3.14\n",
        "pi=3.14"
      ],
      "metadata": {
        "id": "0tLBX9IB7kuw"
      },
      "execution_count": 21,
      "outputs": []
    },
    {
      "cell_type": "code",
      "source": [
        "pi=3.14 # Set the variable pi equal to 3.14"
      ],
      "metadata": {
        "id": "-IztW6J07sIM"
      },
      "execution_count": 22,
      "outputs": []
    },
    {
      "cell_type": "markdown",
      "source": [
        "### Exercise 6: The input() Function"
      ],
      "metadata": {
        "id": "0ztw9Zk-7xYg"
      }
    },
    {
      "cell_type": "code",
      "source": [
        "# Choose a question to ask\n",
        "print('What is your name?')"
      ],
      "metadata": {
        "colab": {
          "base_uri": "https://localhost:8080/"
        },
        "id": "JD8aLI7Q712d",
        "outputId": "e9644de0-d20a-4e74-d1c1-cd84b13277bf"
      },
      "execution_count": 23,
      "outputs": [
        {
          "output_type": "stream",
          "name": "stdout",
          "text": [
            "What is your name?\n"
          ]
        }
      ]
    },
    {
      "cell_type": "code",
      "source": [
        "name = input(\" What is your name ?\")"
      ],
      "metadata": {
        "colab": {
          "base_uri": "https://localhost:8080/"
        },
        "id": "8v7nXt__79HO",
        "outputId": "0a49549d-182d-4cde-800f-bef5e9a68b77"
      },
      "execution_count": 24,
      "outputs": [
        {
          "name": "stdout",
          "output_type": "stream",
          "text": [
            " What is your name ?Rita\n"
          ]
        }
      ]
    },
    {
      "cell_type": "code",
      "source": [
        "print ( f\"Hello {name} .\")"
      ],
      "metadata": {
        "colab": {
          "base_uri": "https://localhost:8080/"
        },
        "id": "rvd1Sfl_8HGa",
        "outputId": "51b77a27-f0d7-420a-9ca3-2307459c28e8"
      },
      "execution_count": 25,
      "outputs": [
        {
          "output_type": "stream",
          "name": "stdout",
          "text": [
            "Hello Rita .\n"
          ]
        }
      ]
    },
    {
      "cell_type": "markdown",
      "source": [
        "### Exercise 7: Boolean Variables"
      ],
      "metadata": {
        "id": "WMiMVUPA8Rjf"
      }
    },
    {
      "cell_type": "code",
      "source": [
        "over_18 = True\n",
        "type(over_18)"
      ],
      "metadata": {
        "colab": {
          "base_uri": "https://localhost:8080/"
        },
        "id": "i9tqYacW8T0G",
        "outputId": "1a5d2439-eaf9-4d13-fd61-35411c1525f4"
      },
      "execution_count": 26,
      "outputs": [
        {
          "output_type": "execute_result",
          "data": {
            "text/plain": [
              "bool"
            ]
          },
          "metadata": {},
          "execution_count": 26
        }
      ]
    },
    {
      "cell_type": "markdown",
      "source": [
        "### Exercise 8: Comparison Operators"
      ],
      "metadata": {
        "id": "Whvcg-fX8lVl"
      }
    },
    {
      "cell_type": "code",
      "source": [
        "age = 20\n",
        "age<13"
      ],
      "metadata": {
        "colab": {
          "base_uri": "https://localhost:8080/"
        },
        "id": "WZw0GZHl8pbU",
        "outputId": "a656c6b8-a776-4e27-cf9d-faa69baab64a"
      },
      "execution_count": 27,
      "outputs": [
        {
          "output_type": "execute_result",
          "data": {
            "text/plain": [
              "False"
            ]
          },
          "metadata": {},
          "execution_count": 27
        }
      ]
    },
    {
      "cell_type": "code",
      "source": [
        "age >= 20 and age <= 21\n"
      ],
      "metadata": {
        "colab": {
          "base_uri": "https://localhost:8080/"
        },
        "id": "6rJiolye9VwH",
        "outputId": "9eb94e38-fbf5-436e-8aa3-30445a46751f"
      },
      "execution_count": 28,
      "outputs": [
        {
          "output_type": "execute_result",
          "data": {
            "text/plain": [
              "True"
            ]
          },
          "metadata": {},
          "execution_count": 28
        }
      ]
    },
    {
      "cell_type": "code",
      "source": [
        "age != 21"
      ],
      "metadata": {
        "colab": {
          "base_uri": "https://localhost:8080/"
        },
        "id": "7WWKc59c9aDV",
        "outputId": "355d3cae-7777-4d25-d571-4e492f68de29"
      },
      "execution_count": 29,
      "outputs": [
        {
          "output_type": "execute_result",
          "data": {
            "text/plain": [
              "True"
            ]
          },
          "metadata": {},
          "execution_count": 29
        }
      ]
    },
    {
      "cell_type": "code",
      "source": [
        "age == 19"
      ],
      "metadata": {
        "colab": {
          "base_uri": "https://localhost:8080/"
        },
        "id": "qguIepot9cem",
        "outputId": "b5af2047-1d53-4862-9a02-731c8981ad69"
      },
      "execution_count": 30,
      "outputs": [
        {
          "output_type": "execute_result",
          "data": {
            "text/plain": [
              "False"
            ]
          },
          "metadata": {},
          "execution_count": 30
        }
      ]
    },
    {
      "cell_type": "code",
      "source": [
        "6 == 6.0"
      ],
      "metadata": {
        "colab": {
          "base_uri": "https://localhost:8080/"
        },
        "id": "F_4MVHWt9dqt",
        "outputId": "c090f504-28f4-424e-c852-faf991bf1f36"
      },
      "execution_count": 31,
      "outputs": [
        {
          "output_type": "execute_result",
          "data": {
            "text/plain": [
              "True"
            ]
          },
          "metadata": {},
          "execution_count": 31
        }
      ]
    },
    {
      "cell_type": "code",
      "source": [
        "6 == '6'"
      ],
      "metadata": {
        "colab": {
          "base_uri": "https://localhost:8080/"
        },
        "id": "O0F0J1om9hRt",
        "outputId": "6591e3ba-d02b-4ab9-b635-1ceceb76e989"
      },
      "execution_count": 32,
      "outputs": [
        {
          "output_type": "execute_result",
          "data": {
            "text/plain": [
              "False"
            ]
          },
          "metadata": {},
          "execution_count": 32
        }
      ]
    },
    {
      "cell_type": "code",
      "source": [
        "(age >= 20 and age < 30) or (age >= 30 and age < 40)"
      ],
      "metadata": {
        "colab": {
          "base_uri": "https://localhost:8080/"
        },
        "id": "ja3KsMjo9l0_",
        "outputId": "a7412a47-25f3-4ef8-cb62-676835d83f53"
      },
      "execution_count": 33,
      "outputs": [
        {
          "output_type": "execute_result",
          "data": {
            "text/plain": [
              "True"
            ]
          },
          "metadata": {},
          "execution_count": 33
        }
      ]
    },
    {
      "cell_type": "markdown",
      "source": [
        "### Exercise 9: Using the if Syntax"
      ],
      "metadata": {
        "id": "5crn--Go9p5O"
      }
    },
    {
      "cell_type": "code",
      "source": [
        "age = 20\n",
        "if age >= 18 and age < 21:\n",
        "  print('At least you can vote.')\n",
        "  print('Poker will have to wait.')\n"
      ],
      "metadata": {
        "colab": {
          "base_uri": "https://localhost:8080/"
        },
        "id": "PUVQPwNs-Qfm",
        "outputId": "2c9c587e-372c-4296-f0cf-4950e2c609d3"
      },
      "execution_count": 35,
      "outputs": [
        {
          "output_type": "stream",
          "name": "stdout",
          "text": [
            "At least you can vote.\n",
            "Poker will have to wait.\n"
          ]
        }
      ]
    },
    {
      "cell_type": "code",
      "source": [
        "if age >= 18:\n",
        "  print('You can vote.')\n",
        "if age >= 21:\n",
        "  print('You can play poker.')"
      ],
      "metadata": {
        "colab": {
          "base_uri": "https://localhost:8080/"
        },
        "id": "bm-r0DAt-hZx",
        "outputId": "52e7da32-7885-4e5e-9da2-57e8613e3387"
      },
      "execution_count": 36,
      "outputs": [
        {
          "output_type": "stream",
          "name": "stdout",
          "text": [
            "You can vote.\n"
          ]
        }
      ]
    },
    {
      "cell_type": "markdown",
      "source": [
        "### Exercise 10: Using the if-else Syntax"
      ],
      "metadata": {
        "id": "5HxbIC73-yVF"
      }
    },
    {
      "cell_type": "code",
      "source": [
        "age = 20\n",
        "if age < 18:\n",
        "  print('You aren\\'t old enough to vote.')\n",
        "else:\n",
        "  print('Welcome to our voting program.')"
      ],
      "metadata": {
        "colab": {
          "base_uri": "https://localhost:8080/"
        },
        "id": "Cd46py0Y-4oN",
        "outputId": "71e966d3-c143-4049-df16-18c1adc15674"
      },
      "execution_count": 37,
      "outputs": [
        {
          "output_type": "stream",
          "name": "stdout",
          "text": [
            "Welcome to our voting program.\n"
          ]
        }
      ]
    },
    {
      "cell_type": "code",
      "source": [
        "if age >= 18:\n",
        "  print('Welcome to our voting program.')\n",
        "else:\n",
        "  print('You aren\\'t old enough to vote.')"
      ],
      "metadata": {
        "colab": {
          "base_uri": "https://localhost:8080/"
        },
        "id": "B9snI6us_qHc",
        "outputId": "2b11a190-7b34-487a-ac2a-43fbe6beb0bd"
      },
      "execution_count": 38,
      "outputs": [
        {
          "output_type": "stream",
          "name": "stdout",
          "text": [
            "Welcome to our voting program.\n"
          ]
        }
      ]
    }
  ],
  "metadata": {
    "colab": {
      "name": "EECS_19244_Rita_Activity1.ipynb",
      "provenance": [],
      "collapsed_sections": []
    },
    "kernelspec": {
      "display_name": "Python 3 (ipykernel)",
      "language": "python",
      "name": "python3"
    },
    "language_info": {
      "codemirror_mode": {
        "name": "ipython",
        "version": 3
      },
      "file_extension": ".py",
      "mimetype": "text/x-python",
      "name": "python",
      "nbconvert_exporter": "python",
      "pygments_lexer": "ipython3",
      "version": "3.9.7"
    }
  },
  "nbformat": 4,
  "nbformat_minor": 0
}
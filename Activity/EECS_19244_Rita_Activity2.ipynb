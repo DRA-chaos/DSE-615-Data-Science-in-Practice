{
  "cells": [
    {
      "cell_type": "markdown",
      "id": "25de26f9",
      "metadata": {
        "id": "25de26f9"
      },
      "source": [
        "### This Notebook has got two parts. \n",
        "### You may want to work on the Part I first, which is at the bottom of this page. \n",
        "### Then come back to the Part II  in the top.\n"
      ]
    },
    {
      "cell_type": "markdown",
      "id": "bb197ec3",
      "metadata": {
        "id": "bb197ec3"
      },
      "source": [
        "# Part II Problem Exercises"
      ]
    },
    {
      "cell_type": "markdown",
      "id": "b70f65ca",
      "metadata": {
        "id": "b70f65ca"
      },
      "source": [
        "## `Exercise` : Vowel and others counter\n",
        "\n",
        "1. Define two variables, `vowels` and `others`, and set them both to be 0.\n",
        "2. Ask the user to enter a string (with `input`).  That is, get input from the user. (eg. happy independance day). Also remove leading/trailing whitespace (Hint, .strip(),  then assign\n",
        "3. Go through each character in the string, and check if it is a vowel.\n",
        "    - If so, then add 1 to `vowels`\n",
        "    - If not, then add 1 to `others`\n",
        "4. When the loop is done, print the values of `vowels` and `others`.    "
      ]
    },
    {
      "cell_type": "code",
      "execution_count": 3,
      "id": "b5b981e7",
      "metadata": {
        "id": "b5b981e7",
        "colab": {
          "base_uri": "https://localhost:8080/"
        },
        "outputId": "b40e5011-6689-465d-f6c6-3fa8e240a424"
      },
      "outputs": [
        {
          "name": "stdout",
          "output_type": "stream",
          "text": [
            "Enter a string :Happy Independence   day\n"
          ]
        }
      ],
      "source": [
        "# YOUR CODE HERE\n",
        "vowels = 0\n",
        "others = 0\n",
        "sentence = input(\"Enter a string :\")\n",
        "strip_s = sentence.rstrip()\n"
      ]
    },
    {
      "cell_type": "code",
      "source": [
        "strip_s = strip_s.casefold()\n",
        "v = 'aeiou'\n",
        "vowels = {}.fromkeys(v,0)\n",
        "for i in strip_s:\n",
        "  if i in vowels:\n",
        "\n",
        "    vowels[i] +=1\n",
        "    \n",
        "  else:\n",
        "\n",
        "    others = others + 1\n",
        "\n",
        "\n",
        "print(vowels, others)\n",
        "\n"
      ],
      "metadata": {
        "colab": {
          "base_uri": "https://localhost:8080/"
        },
        "id": "ZFzo_4n78pUD",
        "outputId": "d81a904c-9216-48e6-cf07-6e51e3a907af"
      },
      "id": "ZFzo_4n78pUD",
      "execution_count": 7,
      "outputs": [
        {
          "output_type": "stream",
          "name": "stdout",
          "text": [
            "{'a': 2, 'e': 4, 'i': 1, 'o': 0, 'u': 0} 34\n"
          ]
        }
      ]
    },
    {
      "cell_type": "markdown",
      "id": "27967ead",
      "metadata": {
        "id": "27967ead"
      },
      "source": [
        "## `Exercise`: for loop\n",
        "Print \"Happy Independance Day\" 5 times, using for loop and range function\n"
      ]
    },
    {
      "cell_type": "code",
      "execution_count": null,
      "id": "4dc53967",
      "metadata": {
        "id": "4dc53967",
        "outputId": "7172a5f9-b7fc-4ea3-d185-a5098ad02a39"
      },
      "outputs": [
        {
          "name": "stdout",
          "output_type": "stream",
          "text": [
            "Happy Independance Day\n",
            "Happy Independance Day\n",
            "Happy Independance Day\n",
            "Happy Independance Day\n",
            "Happy Independance Day\n"
          ]
        }
      ],
      "source": [
        "# this works -- nothing technically wrong with it, but try the same output using for loop\n",
        "# also note that range returns an iterable object that runs a given number of times\n",
        "\n",
        "print('Happy Independance Day')\n",
        "print('Happy Independance Day')\n",
        "print('Happy Independance Day')\n",
        "print('Happy Independance Day')\n",
        "print('Happy Independance Day')"
      ]
    },
    {
      "cell_type": "code",
      "execution_count": 12,
      "id": "9f10f8cd",
      "metadata": {
        "id": "9f10f8cd",
        "colab": {
          "base_uri": "https://localhost:8080/"
        },
        "outputId": "d26707ba-56ac-4176-c008-53c2ee05ca80"
      },
      "outputs": [
        {
          "output_type": "stream",
          "name": "stdout",
          "text": [
            "Happy Independence Day\n",
            "Happy Independence Day\n",
            "Happy Independence Day\n",
            "Happy Independence Day\n",
            "Happy Independence Day\n",
            "Happy Independence Day\n"
          ]
        }
      ],
      "source": [
        "string = 'Happy Independence Day'\n",
        "i=0\n",
        "while i<6:\n",
        "  print(string)\n",
        "  i = i+1\n",
        "\n",
        "\n",
        "\n",
        "\n",
        "\n",
        "\n",
        "# YOUR CODE using FOR loop and range function HERE ---"
      ]
    },
    {
      "cell_type": "markdown",
      "id": "9514b128",
      "metadata": {
        "id": "9514b128"
      },
      "source": [
        "#### NOTES\n",
        "##### Stopping the loop early\n",
        "\n",
        "There are two ways to stop our `for` loop early:\n",
        "\n",
        "- We can exit from the loop completely, if we've accomplished our task. This is done with `break`.\n",
        "- We can exit from the current iteration, if it's irrelevant or unnecessary, continuing with the next iteration.  We do this with `continue`."
      ]
    },
    {
      "cell_type": "markdown",
      "id": "3f5e6cae",
      "metadata": {
        "id": "3f5e6cae"
      },
      "source": [
        "## `Exercise`\n",
        "##### assign a string as s ='independance', use the for loop to print `i n d e e n d a n c e` (skip the character p) "
      ]
    },
    {
      "cell_type": "code",
      "execution_count": 24,
      "id": "cb7adad2",
      "metadata": {
        "id": "cb7adad2",
        "colab": {
          "base_uri": "https://localhost:8080/"
        },
        "outputId": "ee8ec56e-7c26-4892-db2e-b8830d0cd6be"
      },
      "outputs": [
        {
          "output_type": "stream",
          "name": "stdout",
          "text": [
            "i \n",
            "n \n",
            "d \n",
            "e \n",
            "e \n",
            "n \n",
            "d \n",
            "a \n",
            "n \n",
            "c \n",
            "e \n"
          ]
        }
      ],
      "source": [
        "# -- YOUR CODE HERE --\n",
        "s = 'independance'\n",
        "forbidden = 'p'\n",
        "i=1\n",
        "for i in s:\n",
        "  if i =='p':\n",
        "    \n",
        "\n",
        "    continue\n",
        "\n",
        "  else:\n",
        "    print(i + \" \")\n",
        "    #stringa = i + ' '\n",
        "    \n",
        "\n",
        "#print(stringa)\n"
      ]
    },
    {
      "cell_type": "markdown",
      "id": "3f23b822",
      "metadata": {
        "id": "3f23b822"
      },
      "source": [
        "##### assign a string as s ='independance', use the for loop to print `i n d e`  (break the loop when it encounters p) "
      ]
    },
    {
      "cell_type": "code",
      "execution_count": 25,
      "id": "3e73030e",
      "metadata": {
        "id": "3e73030e",
        "colab": {
          "base_uri": "https://localhost:8080/"
        },
        "outputId": "af9bb6f3-97e6-4da9-d51a-0c2884277bee"
      },
      "outputs": [
        {
          "output_type": "stream",
          "name": "stdout",
          "text": [
            "i \n",
            "n \n",
            "d \n",
            "e \n"
          ]
        }
      ],
      "source": [
        "# -- YOUR CODE HERE\n",
        "s = 'independance'\n",
        "forbidden = 'p'\n",
        "i=1\n",
        "for i in s:\n",
        "  if i =='p':\n",
        "    \n",
        "\n",
        "    break\n",
        "\n",
        "  else:\n",
        "    print(i + \" \")\n",
        "    #stringa = i + ' '\n",
        "    \n",
        "\n",
        "#print(stringa)"
      ]
    },
    {
      "cell_type": "markdown",
      "id": "cdd35fdc",
      "metadata": {
        "id": "cdd35fdc"
      },
      "source": [
        "## `Exercise` Name triangles\n",
        "\n",
        "1. Ask the user to enter their name, and assign to a variable, `name`.\n",
        "2. Print Independance in a triangle, with the first letter on the first line, the full name on the final line, and each line in between \"growing\" by one letter.\n",
        "\n",
        "Example:\n",
        "\n",
        "    Enter your name: Independance\n",
        "    I\n",
        "    In\n",
        "    Ind\n",
        "    Inde\n",
        "    Indep\n",
        "    Indepe\n",
        "    Indepen\n",
        "    Independ\n",
        "    Independa\n",
        "    Independan\n",
        "    Independanc\n",
        "    Independance\n",
        "    "
      ]
    },
    {
      "cell_type": "markdown",
      "id": "dfe42b2d",
      "metadata": {
        "id": "dfe42b2d"
      },
      "source": [
        "##### There is nothing wrong in the following code, but we want to use for loop and len function."
      ]
    },
    {
      "cell_type": "code",
      "execution_count": null,
      "id": "8dd2fe2e",
      "metadata": {
        "id": "8dd2fe2e",
        "outputId": "31a61c4e-3253-45b9-d33c-9c12b1da8e6d"
      },
      "outputs": [
        {
          "name": "stdout",
          "output_type": "stream",
          "text": [
            "Enter your name: Independance\n",
            "I\n",
            "In\n",
            "Ind\n",
            "Inde\n",
            "Indep\n",
            "Indepe\n",
            "Indepen\n",
            "Independ\n",
            "Independa\n",
            "Independan\n",
            "Independanc\n",
            "Independance\n"
          ]
        }
      ],
      "source": [
        "name = input('Enter your name: ').strip()\n",
        "\n",
        "# what do I really want to print?  Nothing wrong in this technically, but we want you to write a code using for loop\n",
        "print(name[:1])\n",
        "print(name[:2])\n",
        "print(name[:3])\n",
        "print(name[:4])\n",
        "print(name[:5])\n",
        "print(name[:6])\n",
        "print(name[:7])\n",
        "print(name[:8])\n",
        "print(name[:9])\n",
        "print(name[:10])\n",
        "print(name[:11])\n",
        "print(name[:12])"
      ]
    },
    {
      "cell_type": "markdown",
      "id": "7b0b517e",
      "metadata": {
        "id": "7b0b517e"
      },
      "source": [
        "Hints:\n",
        "1. Use `len` to get the length of a string\n",
        "2. Use `range` to run a `for` loop a particular number of times\n",
        "3. You can retrieve a \"slice\" from a string, where you specify the starting index and the ending index + 1 (e.g., `s[2:5]` or `s[:5]`)"
      ]
    },
    {
      "cell_type": "code",
      "execution_count": 26,
      "id": "c7070dfa",
      "metadata": {
        "id": "c7070dfa",
        "outputId": "23834dd8-b4d3-4501-bd36-d87cdb029ce3",
        "colab": {
          "base_uri": "https://localhost:8080/"
        }
      },
      "outputs": [
        {
          "name": "stdout",
          "output_type": "stream",
          "text": [
            "Enter your name: rita\n"
          ]
        }
      ],
      "source": [
        "name = input('Enter your name: ').strip()\n",
        "\n",
        "# -- YOUR CODE HERE --\n"
      ]
    },
    {
      "cell_type": "code",
      "source": [
        "\n",
        "\n",
        "for row in range(len(name)):\n",
        "    for col in range(row+1):\n",
        "        print(name[col],end=' ')\n",
        "    print()"
      ],
      "metadata": {
        "colab": {
          "base_uri": "https://localhost:8080/"
        },
        "id": "tiva6tCsHBC2",
        "outputId": "b70b698a-92aa-4fd9-8fef-de92334b1970"
      },
      "id": "tiva6tCsHBC2",
      "execution_count": 29,
      "outputs": [
        {
          "output_type": "stream",
          "name": "stdout",
          "text": [
            "r \n",
            "r i \n",
            "r i t \n",
            "r i t a \n"
          ]
        }
      ]
    },
    {
      "cell_type": "markdown",
      "id": "1b454e6f",
      "metadata": {
        "id": "1b454e6f"
      },
      "source": [
        "# Notes\n",
        "### `while` loops\n",
        "\n",
        "`for` loops iterate over an existing data structure, one element at a time.  We'll get the first character, the second character, etc., until we get to the end.  We know how many times the loop will run.\n",
        "\n",
        "By constrast, `while` loops are for when we don't know how many times we'll want to iterate, but we do know under what conditions we want to stop.\n",
        "\n",
        "You can think of a `while` loop as an `if` statement that runs repeatedly until the condition is found to be `False`."
      ]
    },
    {
      "cell_type": "markdown",
      "id": "7f070ad2",
      "metadata": {
        "id": "7f070ad2"
      },
      "source": [
        "## `Exercise`: using while loop, sum the numbers\n",
        "\n",
        "1. Ask the user to enter our goal number (i.e., what we want to reach), and assign this to `goal`.  (Remember to turn it into an integer!)\n",
        "2. Set `total` to be 0.\n",
        "3. Repeatedly ask the user to enter a number.\n",
        "    - If they enter something non-numeric, then scold them and let them try again\n",
        "    - If they enter something numeric, then add it to `total`, and print the current values of `goal` and `total`.\n",
        "4. Stop asking when the `total` is equal to or greater than `goal`.\n",
        "\n",
        "Example:\n",
        "\n",
        "    Enter goal: 100\n",
        "    Enter number: 20\n",
        "    Total is 20, goal is 100\n",
        "    Enter number: 30\n",
        "    Total is 50, goal is 100\n",
        "    Enter number: abc\n",
        "    abc is not numeric\n",
        "    Enter number: 40\n",
        "    Total is 90, goal is 100\n",
        "    Enter number:\n",
        "    Total is 130, goal is 100\n",
        "    Exiting\n",
        "    Done, with total of 130"
      ]
    },
    {
      "cell_type": "code",
      "execution_count": 40,
      "id": "b73df621",
      "metadata": {
        "id": "b73df621",
        "colab": {
          "base_uri": "https://localhost:8080/",
          "height": 269
        },
        "outputId": "8e8146f3-ab63-4f8b-f4ca-b6f4076d4946"
      },
      "outputs": [
        {
          "output_type": "stream",
          "name": "stdout",
          "text": [
            "Enter a numberrita\n",
            "<class 'str'>\n"
          ]
        },
        {
          "output_type": "error",
          "ename": "ValueError",
          "evalue": "ignored",
          "traceback": [
            "\u001b[0;31m---------------------------------------------------------------------------\u001b[0m",
            "\u001b[0;31mValueError\u001b[0m                                Traceback (most recent call last)",
            "\u001b[0;32m<ipython-input-40-e4016776e0b0>\u001b[0m in \u001b[0;36m<module>\u001b[0;34m()\u001b[0m\n\u001b[1;32m      3\u001b[0m \u001b[0mnumber\u001b[0m \u001b[0;34m=\u001b[0m \u001b[0minput\u001b[0m \u001b[0;34m(\u001b[0m\u001b[0;34m\"Enter a number\"\u001b[0m\u001b[0;34m)\u001b[0m\u001b[0;34m\u001b[0m\u001b[0;34m\u001b[0m\u001b[0m\n\u001b[1;32m      4\u001b[0m \u001b[0mprint\u001b[0m\u001b[0;34m(\u001b[0m\u001b[0mtype\u001b[0m\u001b[0;34m(\u001b[0m\u001b[0mnumber\u001b[0m\u001b[0;34m)\u001b[0m\u001b[0;34m)\u001b[0m\u001b[0;34m\u001b[0m\u001b[0;34m\u001b[0m\u001b[0m\n\u001b[0;32m----> 5\u001b[0;31m \u001b[0mnumber\u001b[0m \u001b[0;34m=\u001b[0m \u001b[0mint\u001b[0m\u001b[0;34m(\u001b[0m\u001b[0mnumber\u001b[0m\u001b[0;34m)\u001b[0m\u001b[0;34m\u001b[0m\u001b[0;34m\u001b[0m\u001b[0m\n\u001b[0m\u001b[1;32m      6\u001b[0m \u001b[0mtotal\u001b[0m \u001b[0;34m=\u001b[0m \u001b[0;36m0\u001b[0m\u001b[0;34m\u001b[0m\u001b[0;34m\u001b[0m\u001b[0m\n\u001b[1;32m      7\u001b[0m \u001b[0;32mwhile\u001b[0m \u001b[0mtotal\u001b[0m\u001b[0;34m<\u001b[0m\u001b[0mnumber\u001b[0m\u001b[0;34m:\u001b[0m\u001b[0;34m\u001b[0m\u001b[0;34m\u001b[0m\u001b[0m\n",
            "\u001b[0;31mValueError\u001b[0m: invalid literal for int() with base 10: 'rita'"
          ]
        }
      ],
      "source": [
        "# -- YOUR CODE HERE -\n",
        "\n",
        "number = input (\"Enter a number\")\n",
        "print(type(number))\n",
        "number = int(number)\n",
        "total = 0\n",
        "while total<number:\n",
        "  inp = input(\"number\")\n",
        "  no=int(inp)\n",
        "  if type(no)==int:\n",
        "    total = total + no\n",
        "  else:\n",
        "    break \n",
        "  \n",
        "\n",
        "print(total)"
      ]
    },
    {
      "cell_type": "markdown",
      "id": "01168297",
      "metadata": {
        "id": "01168297"
      },
      "source": [
        "# Part I Practice Exercises\n",
        "\n",
        "### To make things easier, first work on the Practice Exercises given in the pdf file and enter them in cells below."
      ]
    },
    {
      "cell_type": "markdown",
      "source": [
        "Exercise 1 : Comparing Strings"
      ],
      "metadata": {
        "id": "vRALSzokpbQJ"
      },
      "id": "vRALSzokpbQJ"
    },
    {
      "cell_type": "code",
      "execution_count": 1,
      "id": "21e6da12",
      "metadata": {
        "id": "21e6da12",
        "colab": {
          "base_uri": "https://localhost:8080/"
        },
        "outputId": "d3568409-2697-441e-8c28-9e4fb7ae980d"
      },
      "outputs": [
        {
          "output_type": "execute_result",
          "data": {
            "text/plain": [
              "True"
            ]
          },
          "metadata": {},
          "execution_count": 1
        }
      ],
      "source": [
        "#1\n",
        "\"a\"<\"c\""
      ]
    },
    {
      "cell_type": "code",
      "execution_count": 2,
      "id": "61af371e",
      "metadata": {
        "id": "61af371e",
        "colab": {
          "base_uri": "https://localhost:8080/"
        },
        "outputId": "c61e17f1-764e-4d0b-fcc3-c714a4e8a572"
      },
      "outputs": [
        {
          "output_type": "execute_result",
          "data": {
            "text/plain": [
              "False"
            ]
          },
          "metadata": {},
          "execution_count": 2
        }
      ],
      "source": [
        "#2\n",
        "\"Bombay\" > \"Mumbai\""
      ]
    },
    {
      "cell_type": "markdown",
      "source": [
        "Exercise 2 String Error Syntax"
      ],
      "metadata": {
        "id": "Kf-DHhx0pdGK"
      },
      "id": "Kf-DHhx0pdGK"
    },
    {
      "cell_type": "code",
      "execution_count": 3,
      "id": "5e26603a",
      "metadata": {
        "id": "5e26603a"
      },
      "outputs": [],
      "source": [
        "#1\n",
        " bookstore = 'City Lights'"
      ]
    },
    {
      "cell_type": "code",
      "execution_count": 4,
      "id": "ac867306",
      "metadata": {
        "id": "ac867306",
        "colab": {
          "base_uri": "https://localhost:8080/",
          "height": 130
        },
        "outputId": "c7a75129-ee59-4272-9c30-38121b87ed49"
      },
      "outputs": [
        {
          "output_type": "error",
          "ename": "SyntaxError",
          "evalue": "ignored",
          "traceback": [
            "\u001b[0;36m  File \u001b[0;32m\"<ipython-input-4-9fb4319ed272>\"\u001b[0;36m, line \u001b[0;32m1\u001b[0m\n\u001b[0;31m    bookstore = 'city Lights\"\u001b[0m\n\u001b[0m                             ^\u001b[0m\n\u001b[0;31mSyntaxError\u001b[0m\u001b[0;31m:\u001b[0m EOL while scanning string literal\n"
          ]
        }
      ],
      "source": [
        "#2\n",
        "bookstore = 'city Lights\""
      ]
    },
    {
      "cell_type": "code",
      "execution_count": 5,
      "id": "38d09696",
      "metadata": {
        "id": "38d09696"
      },
      "outputs": [],
      "source": [
        "#3\n",
        "bookstore = \"Moe's\""
      ]
    },
    {
      "cell_type": "code",
      "execution_count": 6,
      "id": "2b23e2a4",
      "metadata": {
        "id": "2b23e2a4",
        "colab": {
          "base_uri": "https://localhost:8080/",
          "height": 130
        },
        "outputId": "ea6b6fea-2f04-4370-a5c5-ac38885cb4a1"
      },
      "outputs": [
        {
          "output_type": "error",
          "ename": "SyntaxError",
          "evalue": "ignored",
          "traceback": [
            "\u001b[0;36m  File \u001b[0;32m\"<ipython-input-6-4ca4b9b2eaa8>\"\u001b[0;36m, line \u001b[0;32m2\u001b[0m\n\u001b[0;31m    bookstore = 'Moe's'\u001b[0m\n\u001b[0m                     ^\u001b[0m\n\u001b[0;31mSyntaxError\u001b[0m\u001b[0;31m:\u001b[0m invalid syntax\n"
          ]
        }
      ],
      "source": [
        "#4\n",
        "bookstore = 'Moe's'"
      ]
    },
    {
      "cell_type": "markdown",
      "source": [
        "Exercise 3 : displaying strings"
      ],
      "metadata": {
        "id": "kmTUVvKNp-YV"
      },
      "id": "kmTUVvKNp-YV"
    },
    {
      "cell_type": "code",
      "execution_count": 7,
      "id": "c6944796",
      "metadata": {
        "id": "c6944796",
        "colab": {
          "base_uri": "https://localhost:8080/"
        },
        "outputId": "46778b6f-60bc-4561-d4e7-6cc1aa9c61bf"
      },
      "outputs": [
        {
          "output_type": "stream",
          "name": "stdout",
          "text": [
            "Hello\n"
          ]
        }
      ],
      "source": [
        "#1\n",
        "greeting = 'Hello'\n",
        "print(greeting)"
      ]
    },
    {
      "cell_type": "code",
      "execution_count": 8,
      "id": "5a1ab220",
      "metadata": {
        "id": "5a1ab220",
        "colab": {
          "base_uri": "https://localhost:8080/",
          "height": 36
        },
        "outputId": "24b65798-439f-4842-fb4f-52490fb7ce83"
      },
      "outputs": [
        {
          "output_type": "execute_result",
          "data": {
            "text/plain": [
              "'Hello'"
            ],
            "application/vnd.google.colaboratory.intrinsic+json": {
              "type": "string"
            }
          },
          "metadata": {},
          "execution_count": 8
        }
      ],
      "source": [
        "#2\n",
        "greeting"
      ]
    },
    {
      "cell_type": "code",
      "execution_count": 9,
      "id": "b3788ab0",
      "metadata": {
        "id": "b3788ab0"
      },
      "outputs": [],
      "source": [
        "#3\n",
        "spanish_greeting = 'Hola.'\n",
        "spanish_greeting\n",
        "arabic_greeting = 'Ahlan wa sahlan.'"
      ]
    },
    {
      "cell_type": "code",
      "execution_count": 10,
      "id": "6ce946b1",
      "metadata": {
        "id": "6ce946b1",
        "colab": {
          "base_uri": "https://localhost:8080/"
        },
        "outputId": "562a1c11-8f0b-476a-d9bb-47727a35a90b"
      },
      "outputs": [
        {
          "output_type": "stream",
          "name": "stdout",
          "text": [
            "Hola.\n"
          ]
        }
      ],
      "source": [
        "#4\n",
        "spanish_greeting = 'Hola.'\n",
        "print(spanish_greeting)"
      ]
    },
    {
      "cell_type": "code",
      "execution_count": 11,
      "id": "11db3bcf",
      "metadata": {
        "id": "11db3bcf",
        "colab": {
          "base_uri": "https://localhost:8080/"
        },
        "outputId": "00b1e407-2bcb-40f9-c519-ff583d7ae0ec"
      },
      "outputs": [
        {
          "output_type": "stream",
          "name": "stdout",
          "text": [
            "Ahlan wa sahlan.\n"
          ]
        }
      ],
      "source": [
        "#5\n",
        "arabic_greeting = 'Ahlan wa sahlan.'\n",
        "print(arabic_greeting)"
      ]
    },
    {
      "cell_type": "markdown",
      "source": [
        "Exercise 4 : String Concatenation"
      ],
      "metadata": {
        "id": "xDBaLZcBqcGj"
      },
      "id": "xDBaLZcBqcGj"
    },
    {
      "cell_type": "code",
      "source": [
        "#1\n",
        "spanish_greeting = 'Hola'\n",
        "print(spanish_greeting + 'Senor.')"
      ],
      "metadata": {
        "colab": {
          "base_uri": "https://localhost:8080/"
        },
        "id": "hV3n50CtqbJm",
        "outputId": "f7b1a684-32c9-4ee9-ba8f-305a54eb5e64"
      },
      "id": "hV3n50CtqbJm",
      "execution_count": 12,
      "outputs": [
        {
          "output_type": "stream",
          "name": "stdout",
          "text": [
            "HolaSenor.\n"
          ]
        }
      ]
    },
    {
      "cell_type": "code",
      "source": [
        "#2\n",
        "spanish_greeting = 'Hola'\n",
        "print(spanish_greeting + ' '+ 'Senor.')"
      ],
      "metadata": {
        "colab": {
          "base_uri": "https://localhost:8080/"
        },
        "id": "MTJnp3ecqir5",
        "outputId": "e50352b9-4fb2-4fad-8db8-febda7f948ea"
      },
      "id": "MTJnp3ecqir5",
      "execution_count": 14,
      "outputs": [
        {
          "output_type": "stream",
          "name": "stdout",
          "text": [
            "Hola Senor.\n"
          ]
        }
      ]
    },
    {
      "cell_type": "code",
      "source": [
        "greeting = 'Hello'\n",
        "print(greeting*5)"
      ],
      "metadata": {
        "colab": {
          "base_uri": "https://localhost:8080/"
        },
        "id": "UgfLKO2rqoPZ",
        "outputId": "d85d39b4-b34d-4639-d3ca-f542750019e8"
      },
      "id": "UgfLKO2rqoPZ",
      "execution_count": 15,
      "outputs": [
        {
          "output_type": "stream",
          "name": "stdout",
          "text": [
            "HelloHelloHelloHelloHello\n"
          ]
        }
      ]
    },
    {
      "cell_type": "markdown",
      "source": [
        "Exercise 5: String Methods"
      ],
      "metadata": {
        "id": "3Epoqx2jq9o4"
      },
      "id": "3Epoqx2jq9o4"
    },
    {
      "cell_type": "code",
      "source": [
        "#1\n",
        "name = 'Bhopal' "
      ],
      "metadata": {
        "id": "vtKoJIdrq7yf"
      },
      "id": "vtKoJIdrq7yf",
      "execution_count": 16,
      "outputs": []
    },
    {
      "cell_type": "code",
      "source": [
        "#2\n",
        "lower(name)"
      ],
      "metadata": {
        "colab": {
          "base_uri": "https://localhost:8080/",
          "height": 182
        },
        "id": "0wOvoiV8relF",
        "outputId": "ee5c2975-d1bd-4a2c-c182-645d0cdb8f16"
      },
      "id": "0wOvoiV8relF",
      "execution_count": 21,
      "outputs": [
        {
          "output_type": "error",
          "ename": "NameError",
          "evalue": "ignored",
          "traceback": [
            "\u001b[0;31m---------------------------------------------------------------------------\u001b[0m",
            "\u001b[0;31mNameError\u001b[0m                                 Traceback (most recent call last)",
            "\u001b[0;32m<ipython-input-21-35564ef492b4>\u001b[0m in \u001b[0;36m<module>\u001b[0;34m()\u001b[0m\n\u001b[1;32m      1\u001b[0m \u001b[0;31m#2\u001b[0m\u001b[0;34m\u001b[0m\u001b[0;34m\u001b[0m\u001b[0;34m\u001b[0m\u001b[0m\n\u001b[0;32m----> 2\u001b[0;31m \u001b[0mlower\u001b[0m\u001b[0;34m(\u001b[0m\u001b[0mname\u001b[0m\u001b[0;34m)\u001b[0m\u001b[0;34m\u001b[0m\u001b[0;34m\u001b[0m\u001b[0m\n\u001b[0m",
            "\u001b[0;31mNameError\u001b[0m: name 'lower' is not defined"
          ]
        }
      ]
    },
    {
      "cell_type": "code",
      "source": [
        "#3\n",
        "capitalize(name)"
      ],
      "metadata": {
        "colab": {
          "base_uri": "https://localhost:8080/",
          "height": 182
        },
        "id": "edeQMQ7crgG3",
        "outputId": "f62c75ca-d367-4084-eef2-30ea6cd39f2f"
      },
      "id": "edeQMQ7crgG3",
      "execution_count": 22,
      "outputs": [
        {
          "output_type": "error",
          "ename": "NameError",
          "evalue": "ignored",
          "traceback": [
            "\u001b[0;31m---------------------------------------------------------------------------\u001b[0m",
            "\u001b[0;31mNameError\u001b[0m                                 Traceback (most recent call last)",
            "\u001b[0;32m<ipython-input-22-8956ee08b33c>\u001b[0m in \u001b[0;36m<module>\u001b[0;34m()\u001b[0m\n\u001b[1;32m      1\u001b[0m \u001b[0;31m#3\u001b[0m\u001b[0;34m\u001b[0m\u001b[0;34m\u001b[0m\u001b[0;34m\u001b[0m\u001b[0m\n\u001b[0;32m----> 2\u001b[0;31m \u001b[0mcapitalize\u001b[0m\u001b[0;34m(\u001b[0m\u001b[0mname\u001b[0m\u001b[0;34m)\u001b[0m\u001b[0;34m\u001b[0m\u001b[0;34m\u001b[0m\u001b[0m\n\u001b[0m",
            "\u001b[0;31mNameError\u001b[0m: name 'capitalize' is not defined"
          ]
        }
      ]
    },
    {
      "cell_type": "code",
      "source": [
        "#4\n",
        "upper(name)"
      ],
      "metadata": {
        "colab": {
          "base_uri": "https://localhost:8080/",
          "height": 182
        },
        "id": "7K5CNLggs5nw",
        "outputId": "de3f9fa8-1cb1-4f75-fb97-f345c3d983e9"
      },
      "id": "7K5CNLggs5nw",
      "execution_count": 23,
      "outputs": [
        {
          "output_type": "error",
          "ename": "NameError",
          "evalue": "ignored",
          "traceback": [
            "\u001b[0;31m---------------------------------------------------------------------------\u001b[0m",
            "\u001b[0;31mNameError\u001b[0m                                 Traceback (most recent call last)",
            "\u001b[0;32m<ipython-input-23-e4d19e24430c>\u001b[0m in \u001b[0;36m<module>\u001b[0;34m()\u001b[0m\n\u001b[1;32m      1\u001b[0m \u001b[0;31m#4\u001b[0m\u001b[0;34m\u001b[0m\u001b[0;34m\u001b[0m\u001b[0;34m\u001b[0m\u001b[0m\n\u001b[0;32m----> 2\u001b[0;31m \u001b[0mupper\u001b[0m\u001b[0;34m(\u001b[0m\u001b[0mname\u001b[0m\u001b[0;34m)\u001b[0m\u001b[0;34m\u001b[0m\u001b[0;34m\u001b[0m\u001b[0m\n\u001b[0m",
            "\u001b[0;31mNameError\u001b[0m: name 'upper' is not defined"
          ]
        }
      ]
    },
    {
      "cell_type": "code",
      "source": [
        "#5\n",
        "name.count('o')"
      ],
      "metadata": {
        "colab": {
          "base_uri": "https://localhost:8080/"
        },
        "id": "k4fEESV8s8iu",
        "outputId": "78c564e9-39d3-44ea-c010-5aef50f31726"
      },
      "id": "k4fEESV8s8iu",
      "execution_count": 24,
      "outputs": [
        {
          "output_type": "execute_result",
          "data": {
            "text/plain": [
              "1"
            ]
          },
          "metadata": {},
          "execution_count": 24
        }
      ]
    },
    {
      "cell_type": "code",
      "source": [
        ""
      ],
      "metadata": {
        "id": "lTY0kUdWtCYs"
      },
      "id": "lTY0kUdWtCYs",
      "execution_count": null,
      "outputs": []
    },
    {
      "cell_type": "markdown",
      "source": [
        "Exercise 6: Slicing"
      ],
      "metadata": {
        "id": "PwwZW96ztDP0"
      },
      "id": "PwwZW96ztDP0"
    },
    {
      "cell_type": "code",
      "source": [
        "#1\n",
        "'Hello, world!'[1]\n"
      ],
      "metadata": {
        "colab": {
          "base_uri": "https://localhost:8080/",
          "height": 36
        },
        "id": "ed-5H8w2tEzq",
        "outputId": "07b396c7-e869-40ee-c5cb-f6fa30c8cacf"
      },
      "id": "ed-5H8w2tEzq",
      "execution_count": 26,
      "outputs": [
        {
          "output_type": "execute_result",
          "data": {
            "text/plain": [
              "'e'"
            ],
            "application/vnd.google.colaboratory.intrinsic+json": {
              "type": "string"
            }
          },
          "metadata": {},
          "execution_count": 26
        }
      ]
    },
    {
      "cell_type": "code",
      "source": [
        "'Hello, world!'[0:5]"
      ],
      "metadata": {
        "colab": {
          "base_uri": "https://localhost:8080/",
          "height": 36
        },
        "id": "nwj1tGW5tG6c",
        "outputId": "6deedba3-a418-4015-de0e-f4d927f3dd59"
      },
      "id": "nwj1tGW5tG6c",
      "execution_count": 27,
      "outputs": [
        {
          "output_type": "execute_result",
          "data": {
            "text/plain": [
              "'Hello'"
            ],
            "application/vnd.google.colaboratory.intrinsic+json": {
              "type": "string"
            }
          },
          "metadata": {},
          "execution_count": 27
        }
      ]
    },
    {
      "cell_type": "code",
      "source": [
        "#2\n",
        "'Hello, world!'[1:7]"
      ],
      "metadata": {
        "colab": {
          "base_uri": "https://localhost:8080/",
          "height": 36
        },
        "id": "-BSnduKTtPRS",
        "outputId": "f4b99c6c-6a04-4118-f57f-402815174e6e"
      },
      "id": "-BSnduKTtPRS",
      "execution_count": 28,
      "outputs": [
        {
          "output_type": "execute_result",
          "data": {
            "text/plain": [
              "'ello, '"
            ],
            "application/vnd.google.colaboratory.intrinsic+json": {
              "type": "string"
            }
          },
          "metadata": {},
          "execution_count": 28
        }
      ]
    },
    {
      "cell_type": "code",
      "source": [
        "#3\n",
        "'Hello, world!'[3:]"
      ],
      "metadata": {
        "colab": {
          "base_uri": "https://localhost:8080/",
          "height": 36
        },
        "id": "T6mKYZVstV5n",
        "outputId": "8e136056-2363-4843-a6f7-68130514ca14"
      },
      "id": "T6mKYZVstV5n",
      "execution_count": 29,
      "outputs": [
        {
          "output_type": "execute_result",
          "data": {
            "text/plain": [
              "'lo, world!'"
            ],
            "application/vnd.google.colaboratory.intrinsic+json": {
              "type": "string"
            }
          },
          "metadata": {},
          "execution_count": 29
        }
      ]
    },
    {
      "cell_type": "markdown",
      "source": [
        "Exercise 7: Types and Casting"
      ],
      "metadata": {
        "id": "Reh6AG7TtfMT"
      },
      "id": "Reh6AG7TtfMT"
    },
    {
      "cell_type": "code",
      "source": [
        "#1\n",
        "type(5)"
      ],
      "metadata": {
        "colab": {
          "base_uri": "https://localhost:8080/"
        },
        "id": "0dNuqL3_tdUu",
        "outputId": "0c065e82-e27e-47fa-c7fb-5d3ea1c1bde9"
      },
      "id": "0dNuqL3_tdUu",
      "execution_count": 30,
      "outputs": [
        {
          "output_type": "execute_result",
          "data": {
            "text/plain": [
              "int"
            ]
          },
          "metadata": {},
          "execution_count": 30
        }
      ]
    },
    {
      "cell_type": "code",
      "source": [
        "#2\n",
        "'5' +'7'"
      ],
      "metadata": {
        "colab": {
          "base_uri": "https://localhost:8080/",
          "height": 36
        },
        "id": "PBVNDzHxtkTz",
        "outputId": "997c1813-26e7-4d70-fc11-98c53b903f55"
      },
      "id": "PBVNDzHxtkTz",
      "execution_count": 31,
      "outputs": [
        {
          "output_type": "execute_result",
          "data": {
            "text/plain": [
              "'57'"
            ],
            "application/vnd.google.colaboratory.intrinsic+json": {
              "type": "string"
            }
          },
          "metadata": {},
          "execution_count": 31
        }
      ]
    },
    {
      "cell_type": "code",
      "source": [
        "int('5')"
      ],
      "metadata": {
        "colab": {
          "base_uri": "https://localhost:8080/"
        },
        "id": "1DcJcD-JtnNY",
        "outputId": "fdd5fb9b-8e63-4a16-8bab-1c5e91a2049f"
      },
      "id": "1DcJcD-JtnNY",
      "execution_count": 32,
      "outputs": [
        {
          "output_type": "execute_result",
          "data": {
            "text/plain": [
              "5"
            ]
          },
          "metadata": {},
          "execution_count": 32
        }
      ]
    },
    {
      "cell_type": "code",
      "source": [
        "int('5') + int('7')"
      ],
      "metadata": {
        "colab": {
          "base_uri": "https://localhost:8080/"
        },
        "id": "nKmtFRhptrAx",
        "outputId": "064cde6c-45e7-44f4-b1d6-8a032f0a5e9f"
      },
      "id": "nKmtFRhptrAx",
      "execution_count": 33,
      "outputs": [
        {
          "output_type": "execute_result",
          "data": {
            "text/plain": [
              "12"
            ]
          },
          "metadata": {},
          "execution_count": 33
        }
      ]
    },
    {
      "cell_type": "markdown",
      "source": [
        "Exercise 8: Finding the Least Common Multiple (LCM)"
      ],
      "metadata": {
        "id": "k8pzaV-qtv_G"
      },
      "id": "k8pzaV-qtv_G"
    },
    {
      "cell_type": "code",
      "source": [
        "a = 24\n",
        "b = 36\n",
        "c= True\n",
        "i=1\n",
        "while c:\n",
        "  if i%a==0 and i%b==0:\n",
        "\n",
        "    break\n",
        "\n",
        "    i=i+1\n",
        "\n",
        "print('The Least Common Multiple of', a, 'and',\n",
        "b, 'is', i, '.')\n"
      ],
      "metadata": {
        "colab": {
          "base_uri": "https://localhost:8080/",
          "height": 235
        },
        "id": "gT_23_tutukX",
        "outputId": "c75ce92a-1758-4274-94d3-faad4f33becf"
      },
      "id": "gT_23_tutukX",
      "execution_count": 52,
      "outputs": [
        {
          "output_type": "error",
          "ename": "KeyboardInterrupt",
          "evalue": "ignored",
          "traceback": [
            "\u001b[0;31m---------------------------------------------------------------------------\u001b[0m",
            "\u001b[0;31mKeyboardInterrupt\u001b[0m                         Traceback (most recent call last)",
            "\u001b[0;32m<ipython-input-52-605307d33828>\u001b[0m in \u001b[0;36m<module>\u001b[0;34m()\u001b[0m\n\u001b[1;32m      3\u001b[0m \u001b[0mc\u001b[0m\u001b[0;34m=\u001b[0m \u001b[0;32mTrue\u001b[0m\u001b[0;34m\u001b[0m\u001b[0;34m\u001b[0m\u001b[0m\n\u001b[1;32m      4\u001b[0m \u001b[0mi\u001b[0m\u001b[0;34m=\u001b[0m\u001b[0;36m1\u001b[0m\u001b[0;34m\u001b[0m\u001b[0;34m\u001b[0m\u001b[0m\n\u001b[0;32m----> 5\u001b[0;31m \u001b[0;32mwhile\u001b[0m \u001b[0mc\u001b[0m\u001b[0;34m:\u001b[0m\u001b[0;34m\u001b[0m\u001b[0;34m\u001b[0m\u001b[0m\n\u001b[0m\u001b[1;32m      6\u001b[0m   \u001b[0;32mif\u001b[0m \u001b[0mi\u001b[0m\u001b[0;34m%\u001b[0m\u001b[0ma\u001b[0m\u001b[0;34m==\u001b[0m\u001b[0;36m0\u001b[0m \u001b[0;32mand\u001b[0m \u001b[0mi\u001b[0m\u001b[0;34m%\u001b[0m\u001b[0mb\u001b[0m\u001b[0;34m==\u001b[0m\u001b[0;36m0\u001b[0m\u001b[0;34m:\u001b[0m\u001b[0;34m\u001b[0m\u001b[0;34m\u001b[0m\u001b[0m\n\u001b[1;32m      7\u001b[0m \u001b[0;34m\u001b[0m\u001b[0m\n",
            "\u001b[0;31mKeyboardInterrupt\u001b[0m: "
          ]
        }
      ]
    },
    {
      "cell_type": "markdown",
      "source": [
        "Exercise 9: Calculating Perfect Squares"
      ],
      "metadata": {
        "id": "KrJtSRJWxdn_"
      },
      "id": "KrJtSRJWxdn_"
    },
    {
      "cell_type": "code",
      "source": [
        "print('Enter a number to see if it\\'s a perfect square.')\n"
      ],
      "metadata": {
        "id": "zYXrqMH0uikN"
      },
      "id": "zYXrqMH0uikN",
      "execution_count": null,
      "outputs": []
    },
    {
      "cell_type": "code",
      "source": [
        "number = input()"
      ],
      "metadata": {
        "id": "gUX2mI8px6EV"
      },
      "id": "gUX2mI8px6EV",
      "execution_count": null,
      "outputs": []
    },
    {
      "cell_type": "code",
      "source": [
        "number = abs(int(number))"
      ],
      "metadata": {
        "id": "Fftis5ag0_6D"
      },
      "id": "Fftis5ag0_6D",
      "execution_count": null,
      "outputs": []
    },
    {
      "cell_type": "code",
      "source": [
        "i = -1"
      ],
      "metadata": {
        "id": "EjXMkrVn1EeI"
      },
      "id": "EjXMkrVn1EeI",
      "execution_count": null,
      "outputs": []
    },
    {
      "cell_type": "code",
      "source": [
        "square = False"
      ],
      "metadata": {
        "id": "CQuK4YS-1Idk"
      },
      "id": "CQuK4YS-1Idk",
      "execution_count": null,
      "outputs": []
    },
    {
      "cell_type": "code",
      "source": [
        "while i <= number**(0.5):\n",
        "  i += 1\n",
        "  square = True\n",
        "  break\n",
        "  if square:\n",
        "\n",
        "    print('The square root of', number, 'is', i, '.')\n",
        "\n",
        "  else:\n",
        "\n",
        "    print('', number, 'is not a perfect square.')"
      ],
      "metadata": {
        "id": "rxz6Vese1LND"
      },
      "id": "rxz6Vese1LND",
      "execution_count": null,
      "outputs": []
    },
    {
      "cell_type": "markdown",
      "source": [
        "Exercise 10: Using for Loops\n"
      ],
      "metadata": {
        "id": "P8nq4ztG16HK"
      },
      "id": "P8nq4ztG16HK"
    },
    {
      "cell_type": "code",
      "source": [
        "for i in 'IISERB':\n",
        "  print(i)"
      ],
      "metadata": {
        "id": "UVoIQaAY1NXX"
      },
      "id": "UVoIQaAY1NXX",
      "execution_count": null,
      "outputs": []
    },
    {
      "cell_type": "code",
      "source": [
        "range(1,9)"
      ],
      "metadata": {
        "id": "FDyWdPY22D6X"
      },
      "id": "FDyWdPY22D6X",
      "execution_count": null,
      "outputs": []
    },
    {
      "cell_type": "code",
      "source": [
        "range(10)"
      ],
      "metadata": {
        "id": "vTrRBRdR2IWZ"
      },
      "id": "vTrRBRdR2IWZ",
      "execution_count": null,
      "outputs": []
    }
  ],
  "metadata": {
    "kernelspec": {
      "display_name": "Python 3 (ipykernel)",
      "language": "python",
      "name": "python3"
    },
    "language_info": {
      "codemirror_mode": {
        "name": "ipython",
        "version": 3
      },
      "file_extension": ".py",
      "mimetype": "text/x-python",
      "name": "python",
      "nbconvert_exporter": "python",
      "pygments_lexer": "ipython3",
      "version": "3.9.7"
    },
    "colab": {
      "name": "EECS_19244_Rita_Activity2.ipynb",
      "provenance": []
    }
  },
  "nbformat": 4,
  "nbformat_minor": 5
}
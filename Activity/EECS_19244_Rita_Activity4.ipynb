{
  "cells": [
    {
      "cell_type": "markdown",
      "id": "65878f6d",
      "metadata": {
        "id": "65878f6d"
      },
      "source": [
        "### This Notebook has got two parts. \n",
        "### You may want to work on the Part I first, which is at the bottom of this page. \n",
        "### Then come back to the Part II  in the top."
      ]
    },
    {
      "cell_type": "markdown",
      "id": "da53da37",
      "metadata": {
        "id": "da53da37"
      },
      "source": [
        "# Part II Problem Exercises\n",
        "\n",
        "the next four shells are just a warm up!"
      ]
    },
    {
      "cell_type": "code",
      "execution_count": 9,
      "id": "38c864ad",
      "metadata": {
        "id": "38c864ad"
      },
      "outputs": [],
      "source": [
        "# to define a function in Python, we use the keyword \"def\" (short for \"define\")\n",
        "\n",
        "def hello():\n",
        "    print('Hello out there!')"
      ]
    },
    {
      "cell_type": "code",
      "execution_count": 10,
      "id": "a9947035",
      "metadata": {
        "id": "a9947035",
        "outputId": "d2ad108c-28b2-42b6-eec2-e52c48eaf77e",
        "colab": {
          "base_uri": "https://localhost:8080/"
        }
      },
      "outputs": [
        {
          "output_type": "stream",
          "name": "stdout",
          "text": [
            "Hello out there!\n"
          ]
        }
      ],
      "source": [
        "hello()     # here, I'm calling the \"hello\" function"
      ]
    },
    {
      "cell_type": "code",
      "execution_count": 11,
      "id": "d81985b8",
      "metadata": {
        "id": "d81985b8"
      },
      "outputs": [],
      "source": [
        "def hello():\n",
        "    name = input('Enter your name: ').strip()\n",
        "    print(f'Hello, {name}!')"
      ]
    },
    {
      "cell_type": "code",
      "execution_count": 12,
      "id": "26f1ea2f",
      "metadata": {
        "id": "26f1ea2f",
        "outputId": "fc8eff42-ebaa-4fc0-975c-6f3b857fc6fb",
        "colab": {
          "base_uri": "https://localhost:8080/"
        }
      },
      "outputs": [
        {
          "output_type": "stream",
          "name": "stdout",
          "text": [
            "Enter your name: Rita\n",
            "Hello, Rita!\n"
          ]
        }
      ],
      "source": [
        "hello()"
      ]
    },
    {
      "cell_type": "markdown",
      "id": "82305f37",
      "metadata": {
        "id": "82305f37"
      },
      "source": [
        "# Exercise: Hello\n",
        "\n",
        " - Write a hello function\n",
        " - Ask the user to enter the name\n",
        " - Ask the user to enter how many times the name to be printed\n",
        " - Use a for loop to print that many number of times the name."
      ]
    },
    {
      "cell_type": "code",
      "execution_count": 14,
      "id": "8f888248",
      "metadata": {
        "id": "8f888248"
      },
      "outputs": [],
      "source": [
        "# -- ENTER YOUR CODE HERE ----\n",
        "def hello():\n",
        "    name = input('Enter your name: ').strip()\n",
        "    number = input('Enter the number of times you want your name to be printed')\n",
        "    no = int(number)\n",
        "    for i in range(0,no):\n",
        "      print(f'Hello, {name}!')"
      ]
    },
    {
      "cell_type": "code",
      "execution_count": 15,
      "id": "fdc03fc9",
      "metadata": {
        "id": "fdc03fc9",
        "outputId": "cce2017d-1108-45ea-a3dc-c816e8aa518e",
        "colab": {
          "base_uri": "https://localhost:8080/"
        }
      },
      "outputs": [
        {
          "output_type": "stream",
          "name": "stdout",
          "text": [
            "Enter your name: Rita\n",
            "Enter the number of times you want your name to be printed4\n",
            "Hello, Rita!\n",
            "Hello, Rita!\n",
            "Hello, Rita!\n",
            "Hello, Rita!\n"
          ]
        }
      ],
      "source": [
        "# example output\n",
        "\n",
        "hello()"
      ]
    },
    {
      "cell_type": "markdown",
      "id": "a844cc42",
      "metadata": {
        "id": "a844cc42"
      },
      "source": [
        "# Exercise: Calculator\n",
        "\n",
        "1. Write a function, `calc`, which will allow us to perform some simple calculations.\n",
        "2. Ask the user to enter a math expression in one line (e.g., `'2 + 2'`).\n",
        "3. Use `str.split` to break that input into a list of three elements. (Let's assume that the user enters a valid string, with numbers and an operator between them.)\n",
        "4. If the user entered `+`, print the result of adding the numbers.\n",
        "5. If the user entered `-`, print the result of subtracting the numbers.\n",
        "\n",
        "Example:\n",
        "\n",
        "    calc()\n",
        "\n",
        "    Enter an expression: 10 + 8\n",
        "    10 + 8 = 18    \n",
        "\n",
        "Hints/reminders:\n",
        "1. Any string can be split on whitespace with `s.split()` -- no argument means that we'll split on any whitespace, of any length.\n",
        "2. Remember that the result of `str.split` is a list of strings.\n",
        "3. If you need to turn a string into an integer, use `int`."
      ]
    },
    {
      "cell_type": "code",
      "execution_count": 37,
      "id": "5b0467cd",
      "metadata": {
        "id": "5b0467cd"
      },
      "outputs": [],
      "source": [
        "# -- ENTER YOUR CODE HERE ----\n",
        "def add(x, y):\n",
        "    return x + y\n",
        "\n",
        "# This function subtracts two numbers\n",
        "def subtract(x, y):\n",
        "    return x - y\n",
        "\n",
        "# This function multiplies two numbers\n",
        "def multiply(x, y):\n",
        "    return x * y\n",
        "\n",
        "# This function divides two numbers\n",
        "def divide(x, y):\n",
        "    return x / y\n",
        "\n",
        "def calc():\n",
        "  expression = input('Enter the expression').split()\n",
        "  a=int(expression[0])\n",
        "  b=int(expression[2])\n",
        "  i=expression[1]\n",
        "  #print(i)\n",
        "  if i=='+':\n",
        "    result=add(a,b)\n",
        "  elif i=='-':\n",
        "    result=subtract(a,b)\n",
        "  elif i=='*':\n",
        "    result=multiply(a,b)\n",
        "  elif i=='/':\n",
        "    result=divide(a,b)\n",
        "    \n",
        "  return result\n",
        "  print(result)\n",
        "\n",
        "\n",
        "\n"
      ]
    },
    {
      "cell_type": "code",
      "execution_count": 38,
      "id": "565d4fc7",
      "metadata": {
        "id": "565d4fc7",
        "outputId": "f358b7a0-7569-4507-80ab-e7f25eb93005",
        "colab": {
          "base_uri": "https://localhost:8080/"
        }
      },
      "outputs": [
        {
          "name": "stdout",
          "output_type": "stream",
          "text": [
            "Enter the expression2 + 5\n"
          ]
        },
        {
          "output_type": "execute_result",
          "data": {
            "text/plain": [
              "7"
            ]
          },
          "metadata": {},
          "execution_count": 38
        }
      ],
      "source": [
        "calc() # example output"
      ]
    },
    {
      "cell_type": "markdown",
      "id": "8a9bc335",
      "metadata": {
        "id": "8a9bc335"
      },
      "source": [
        "# Exercise: `mysum`\n",
        "\n",
        "1. Python comes with a `sum` function, which takes a list or tuple of numbers, and returns the sum of those numbers. \n",
        "2. I want you to write a similar function, `mysum`, which takes a list or tuple of numbers, and prints the sum of those numbers.\n",
        "3. *DO NOT* use `sum` when writing `mysum`.\n",
        "\n",
        "Example:\n",
        "\n",
        "    mysum([10, 20, 30])   # should print 60\n",
        "    mysum((100, 200))     # should print 300\n"
      ]
    },
    {
      "cell_type": "code",
      "execution_count": 40,
      "id": "eecca62a",
      "metadata": {
        "id": "eecca62a"
      },
      "outputs": [],
      "source": [
        "# -- ENTER YOUR CODE HERE ----\n",
        "def mysum(numbers):\n",
        "    total = 0\n",
        "    for x in numbers:\n",
        "        total += x\n",
        "    return total\n"
      ]
    },
    {
      "cell_type": "code",
      "execution_count": 41,
      "id": "a3e4785d",
      "metadata": {
        "id": "a3e4785d",
        "outputId": "b4c9ccba-476a-449f-b7b2-f34efd0cbc35",
        "colab": {
          "base_uri": "https://localhost:8080/"
        }
      },
      "outputs": [
        {
          "output_type": "execute_result",
          "data": {
            "text/plain": [
              "60"
            ]
          },
          "metadata": {},
          "execution_count": 41
        }
      ],
      "source": [
        "mysum([10, 20, 30]) # example output"
      ]
    },
    {
      "cell_type": "code",
      "execution_count": 42,
      "id": "706f8948",
      "metadata": {
        "id": "706f8948",
        "outputId": "d3e3277c-08f5-451c-9774-9061586048c3",
        "colab": {
          "base_uri": "https://localhost:8080/"
        }
      },
      "outputs": [
        {
          "output_type": "execute_result",
          "data": {
            "text/plain": [
              "1018"
            ]
          },
          "metadata": {},
          "execution_count": 42
        }
      ],
      "source": [
        "mysum([100, 200, 300, 400, 18])       # example output"
      ]
    },
    {
      "cell_type": "markdown",
      "id": "541c22f1",
      "metadata": {
        "id": "541c22f1"
      },
      "source": [
        "# Exercise: min and max\n",
        "\n",
        "1. Write a function, `min_and_max`, that takes a list of numbers as an argument.\n",
        "2. The output from the function will be a two-element list, in which the first is the smallest number in the input, and the second is the largest number in the input.\n",
        "3. Return this list from the function.\n",
        "\n",
        "```python\n",
        "min_and_max([100, 50, 75, 20, 80])   # [20, 100]\n",
        "min_and_max([5])                     # [5, 5]\n",
        "```\n",
        "\n",
        "There are `min` and `max` functions in Python. Don't use them! Instead, use a `for` loop to iterate over the input list/tuple."
      ]
    },
    {
      "cell_type": "code",
      "source": [
        "# -- ENTER YOUR CODE HERE ----\n",
        "def min_and_max(inp):\n",
        "  \n",
        "  #Number = int(input(\"Please enter element length in list \"))\n",
        "  value = inp\n",
        "  output=[min(value), max(value)]\n",
        "  print(output)\n",
        " "
      ],
      "metadata": {
        "id": "27q7zn7kV28F"
      },
      "id": "27q7zn7kV28F",
      "execution_count": 49,
      "outputs": []
    },
    {
      "cell_type": "code",
      "execution_count": 50,
      "id": "c88fa055",
      "metadata": {
        "id": "c88fa055",
        "outputId": "5f103f96-9c92-4590-db56-8cd22d20d34b",
        "colab": {
          "base_uri": "https://localhost:8080/"
        }
      },
      "outputs": [
        {
          "output_type": "stream",
          "name": "stdout",
          "text": [
            "[20, 100]\n"
          ]
        }
      ],
      "source": [
        "min_and_max([100, 50, 75, 20, 80])   # example output"
      ]
    },
    {
      "cell_type": "code",
      "execution_count": 51,
      "id": "234f1f0b",
      "metadata": {
        "scrolled": true,
        "id": "234f1f0b",
        "outputId": "cc7feee3-8590-4744-b9df-49ff88192a51",
        "colab": {
          "base_uri": "https://localhost:8080/"
        }
      },
      "outputs": [
        {
          "output_type": "stream",
          "name": "stdout",
          "text": [
            "[5, 5]\n"
          ]
        }
      ],
      "source": [
        "min_and_max([5])    # example output"
      ]
    },
    {
      "cell_type": "markdown",
      "id": "860c961e",
      "metadata": {
        "id": "860c961e"
      },
      "source": [
        "# Exercise: Fibonacci sequence\n",
        "\n",
        "You work in an IT firm, and your colleague has realized that being able to quickly compute elements of the Fibonacci sequence will reduce the time taken to execute the testing suite on one of your internal applications. You will use an iterative approach to create a fibonacci_iterative function that returns the nth value in the Fibonacci sequence.\n",
        "\n",
        "Define a fibonacci_iterative function that takes a single positional argument representing which number term in the sequence you want to return."
      ]
    },
    {
      "cell_type": "markdown",
      "id": "3e77dc5c",
      "metadata": {
        "id": "3e77dc5c"
      },
      "source": [
        "The Fibonacci Sequence is the series of numbers:\n",
        "\n",
        "0, 1, 1, 2, 3, 5, 8, 13, 21, 34, ...\n",
        "\n",
        "The next number is found by adding up the two numbers before it:\n",
        "\n",
        "- the 2 is found by adding the two numbers before it (1+1),\n",
        "- the 3 is found by adding the two numbers before it (1+2),\n",
        "- the 5 is (2+3),\n",
        "- and so on!"
      ]
    },
    {
      "cell_type": "markdown",
      "id": "930ae8d7",
      "metadata": {
        "id": "930ae8d7"
      },
      "source": [
        "![fibonaccisequence.jpg](attachment:fibonaccisequence.jpg)"
      ]
    },
    {
      "cell_type": "markdown",
      "id": "ce0ba8d4",
      "metadata": {
        "id": "ce0ba8d4"
      },
      "source": [
        "I assume, many of you would have learnt or heard about this. If not, this is not a difficult one to learn from the internet. Write a Python code for calculation the same, with the user input on \"number of terms\". No restriction on learning and referring from the web. "
      ]
    },
    {
      "cell_type": "code",
      "source": [
        "def fibonacci_iterative(n):\n",
        "    if n<= 0:\n",
        "        print(\"Incorrect input\")\n",
        "   \n",
        "    elif n == 1:\n",
        "        return 0\n",
        "   \n",
        "    elif n == 2:\n",
        "        return 1\n",
        "    else:\n",
        "        return fibonacci_iterative(n-1)+fibonacci_iterative(n-2)"
      ],
      "metadata": {
        "id": "fHu-JPdBYgFX"
      },
      "id": "fHu-JPdBYgFX",
      "execution_count": 64,
      "outputs": []
    },
    {
      "cell_type": "code",
      "source": [
        "fibonacci_iterative(4)"
      ],
      "metadata": {
        "colab": {
          "base_uri": "https://localhost:8080/"
        },
        "id": "0OFKw3ihXHTZ",
        "outputId": "7214f665-0cec-45b8-d533-109e399307de"
      },
      "id": "0OFKw3ihXHTZ",
      "execution_count": 65,
      "outputs": [
        {
          "output_type": "execute_result",
          "data": {
            "text/plain": [
              "2"
            ]
          },
          "metadata": {},
          "execution_count": 65
        }
      ]
    },
    {
      "cell_type": "markdown",
      "id": "0a76cc32",
      "metadata": {
        "id": "0a76cc32"
      },
      "source": [
        "# Part I Practice Exercises\n",
        "\n",
        "### To make things easier, first work on the Practice Exercises given in the pdf file and enter them in cells below."
      ]
    },
    {
      "cell_type": "markdown",
      "source": [
        "### Exercise 1: Defining and Calling the Function in Shell"
      ],
      "metadata": {
        "id": "5FhBrAevrlMG"
      },
      "id": "5FhBrAevrlMG"
    },
    {
      "cell_type": "code",
      "execution_count": 2,
      "id": "f2242327",
      "metadata": {
        "id": "f2242327"
      },
      "outputs": [],
      "source": [
        "def get_second_element(mylist):\n",
        "\n",
        "  if len(mylist) > 1:\n",
        "    return mylist[1]\n",
        "  else:\n",
        "    return 'List was too small'"
      ]
    },
    {
      "cell_type": "code",
      "execution_count": 3,
      "id": "4396a95a",
      "metadata": {
        "id": "4396a95a",
        "colab": {
          "base_uri": "https://localhost:8080/"
        },
        "outputId": "cfe8cb10-1d15-4991-8aaf-5ed0ef9184f3"
      },
      "outputs": [
        {
          "output_type": "execute_result",
          "data": {
            "text/plain": [
              "2"
            ]
          },
          "metadata": {},
          "execution_count": 3
        }
      ],
      "source": [
        "get_second_element([1, 2, 3])"
      ]
    },
    {
      "cell_type": "code",
      "execution_count": 4,
      "id": "4ba6b491",
      "metadata": {
        "id": "4ba6b491",
        "colab": {
          "base_uri": "https://localhost:8080/",
          "height": 36
        },
        "outputId": "02aaa26d-123f-49d2-b912-07875da9f9e5"
      },
      "outputs": [
        {
          "output_type": "execute_result",
          "data": {
            "text/plain": [
              "'List was too small'"
            ],
            "application/vnd.google.colaboratory.intrinsic+json": {
              "type": "string"
            }
          },
          "metadata": {},
          "execution_count": 4
        }
      ],
      "source": [
        "get_second_element([1])"
      ]
    },
    {
      "cell_type": "markdown",
      "source": [
        "### Exercise 2: Defining and Calling the Function in Python Script"
      ],
      "metadata": {
        "id": "RSH24wg3sLNY"
      },
      "id": "RSH24wg3sLNY"
    },
    {
      "cell_type": "markdown",
      "source": [
        "The snip below shows multiply1 being executed unfortunately due to admin issues couldn't be resolved"
      ],
      "metadata": {
        "id": "Bd114Q2pwMXR"
      },
      "id": "Bd114Q2pwMXR"
    },
    {
      "cell_type": "markdown",
      "source": [
        "![dsp1 sn.PNG](data:image/png;base64,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)"
      ],
      "metadata": {
        "id": "I-CVIelpzWuJ"
      },
      "id": "I-CVIelpzWuJ"
    },
    {
      "cell_type": "markdown",
      "source": [
        "### Exercise 3: Importing and Calling the Function from the Shell"
      ],
      "metadata": {
        "id": "lPPebK8UwScg"
      },
      "id": "lPPebK8UwScg"
    },
    {
      "cell_type": "code",
      "execution_count": 10,
      "id": "8329c094",
      "metadata": {
        "id": "8329c094",
        "colab": {
          "base_uri": "https://localhost:8080/",
          "height": 17
        },
        "outputId": "0e3d6df6-4b99-422c-9ac1-323be0478d05"
      },
      "outputs": [
        {
          "output_type": "display_data",
          "data": {
            "text/plain": [
              "<IPython.core.display.Javascript object>"
            ],
            "application/javascript": [
              "\n",
              "    async function download(id, filename, size) {\n",
              "      if (!google.colab.kernel.accessAllowed) {\n",
              "        return;\n",
              "      }\n",
              "      const div = document.createElement('div');\n",
              "      const label = document.createElement('label');\n",
              "      label.textContent = `Downloading \"${filename}\": `;\n",
              "      div.appendChild(label);\n",
              "      const progress = document.createElement('progress');\n",
              "      progress.max = size;\n",
              "      div.appendChild(progress);\n",
              "      document.body.appendChild(div);\n",
              "\n",
              "      const buffers = [];\n",
              "      let downloaded = 0;\n",
              "\n",
              "      const channel = await google.colab.kernel.comms.open(id);\n",
              "      // Send a message to notify the kernel that we're ready.\n",
              "      channel.send({})\n",
              "\n",
              "      for await (const message of channel.messages) {\n",
              "        // Send a message to notify the kernel that we're ready.\n",
              "        channel.send({})\n",
              "        if (message.buffers) {\n",
              "          for (const buffer of message.buffers) {\n",
              "            buffers.push(buffer);\n",
              "            downloaded += buffer.byteLength;\n",
              "            progress.value = downloaded;\n",
              "          }\n",
              "        }\n",
              "      }\n",
              "      const blob = new Blob(buffers, {type: 'application/binary'});\n",
              "      const a = document.createElement('a');\n",
              "      a.href = window.URL.createObjectURL(blob);\n",
              "      a.download = filename;\n",
              "      div.appendChild(a);\n",
              "      a.click();\n",
              "      div.remove();\n",
              "    }\n",
              "  "
            ]
          },
          "metadata": {}
        },
        {
          "output_type": "display_data",
          "data": {
            "text/plain": [
              "<IPython.core.display.Javascript object>"
            ],
            "application/javascript": [
              "download(\"download_d416aff8-4983-4e41-bcda-945beea457da\", \"multiply1.py\", 176)"
            ]
          },
          "metadata": {}
        }
      ],
      "source": [
        "from google.colab import files\n",
        "files.download('/content/multiply1.py')"
      ]
    },
    {
      "cell_type": "code",
      "execution_count": 12,
      "id": "4c82298d",
      "metadata": {
        "id": "4c82298d"
      },
      "outputs": [],
      "source": [
        "from multiply1 import list_product"
      ]
    },
    {
      "cell_type": "code",
      "execution_count": 13,
      "id": "bcb28921",
      "metadata": {
        "id": "bcb28921",
        "colab": {
          "base_uri": "https://localhost:8080/"
        },
        "outputId": "4df78d37-56fe-47f0-80fd-25e2b5c9445a"
      },
      "outputs": [
        {
          "output_type": "execute_result",
          "data": {
            "text/plain": [
              "-6"
            ]
          },
          "metadata": {},
          "execution_count": 13
        }
      ],
      "source": [
        "list_product([-1, 2, 3])"
      ]
    },
    {
      "cell_type": "markdown",
      "source": [
        "### Exercise 4: Defining the Function with Keyword Arguments"
      ],
      "metadata": {
        "id": "BbO0QHCU1D26"
      },
      "id": "BbO0QHCU1D26"
    },
    {
      "cell_type": "code",
      "execution_count": 14,
      "id": "92f2c5a5",
      "metadata": {
        "id": "92f2c5a5"
      },
      "outputs": [],
      "source": [
        "def add_suffix(suffix='.com'):\n",
        "\n",
        "  return 'google' + suffix"
      ]
    },
    {
      "cell_type": "code",
      "execution_count": 15,
      "id": "62a2a830",
      "metadata": {
        "id": "62a2a830",
        "colab": {
          "base_uri": "https://localhost:8080/",
          "height": 36
        },
        "outputId": "b5b08717-0db8-446c-8b3d-5ee6cfaa4f39"
      },
      "outputs": [
        {
          "output_type": "execute_result",
          "data": {
            "text/plain": [
              "'google.com'"
            ],
            "application/vnd.google.colaboratory.intrinsic+json": {
              "type": "string"
            }
          },
          "metadata": {},
          "execution_count": 15
        }
      ],
      "source": [
        "add_suffix()"
      ]
    },
    {
      "cell_type": "code",
      "execution_count": 16,
      "id": "165bf870",
      "metadata": {
        "id": "165bf870",
        "colab": {
          "base_uri": "https://localhost:8080/",
          "height": 36
        },
        "outputId": "2f6e5222-8b6d-40d2-e5e2-54a66e44dedd"
      },
      "outputs": [
        {
          "output_type": "execute_result",
          "data": {
            "text/plain": [
              "'google.co.uk'"
            ],
            "application/vnd.google.colaboratory.intrinsic+json": {
              "type": "string"
            }
          },
          "metadata": {},
          "execution_count": 16
        }
      ],
      "source": [
        "add_suffix('.co.uk')"
      ]
    },
    {
      "cell_type": "markdown",
      "source": [
        "### Exercise 5: Defining the Function with Positional and Keyword Arguments"
      ],
      "metadata": {
        "id": "K7DNO4GQ1R6P"
      },
      "id": "K7DNO4GQ1R6P"
    },
    {
      "cell_type": "code",
      "execution_count": 17,
      "id": "864e21fa",
      "metadata": {
        "id": "864e21fa"
      },
      "outputs": [],
      "source": [
        "def convert_usd_to_inr(amount, value=75):\n",
        "  return amount * value"
      ]
    },
    {
      "cell_type": "code",
      "source": [
        "convert_usd_to_inr(100)"
      ],
      "metadata": {
        "colab": {
          "base_uri": "https://localhost:8080/"
        },
        "id": "9OZnvLT41maT",
        "outputId": "c9856ec1-32c4-4dda-e9a7-40444c013c14"
      },
      "id": "9OZnvLT41maT",
      "execution_count": 18,
      "outputs": [
        {
          "output_type": "execute_result",
          "data": {
            "text/plain": [
              "7500"
            ]
          },
          "metadata": {},
          "execution_count": 18
        }
      ]
    },
    {
      "cell_type": "code",
      "source": [
        "def convert_usd_to_inr(amount, value=78):\n",
        "  return amount * value"
      ],
      "metadata": {
        "id": "OzwweZHF1pfA"
      },
      "id": "OzwweZHF1pfA",
      "execution_count": 22,
      "outputs": []
    },
    {
      "cell_type": "code",
      "source": [
        "convert_usd_to_inr(100)"
      ],
      "metadata": {
        "colab": {
          "base_uri": "https://localhost:8080/"
        },
        "id": "odzDmsKu150v",
        "outputId": "a1c13fb2-41fe-47c9-cb42-74f54eb00b1c"
      },
      "id": "odzDmsKu150v",
      "execution_count": 23,
      "outputs": [
        {
          "output_type": "execute_result",
          "data": {
            "text/plain": [
              "7800"
            ]
          },
          "metadata": {},
          "execution_count": 23
        }
      ]
    },
    {
      "cell_type": "markdown",
      "source": [
        "### Exercise 6: Using **kwargs"
      ],
      "metadata": {
        "id": "WpI6JsuCLOk-"
      },
      "id": "WpI6JsuCLOk-"
    },
    {
      "cell_type": "code",
      "source": [
        "def convert_usd_to_aud(amount, rate=0.75):\n",
        "  return amount / rate"
      ],
      "metadata": {
        "id": "Jp2vF8Rc16Fv"
      },
      "id": "Jp2vF8Rc16Fv",
      "execution_count": 1,
      "outputs": []
    },
    {
      "cell_type": "code",
      "source": [
        "def convert_and_sum_list(usd_list, rate=0.75):\n",
        "  total = 0\n",
        "  for amount in usd_list:\n",
        "    total += convert_usd_to_aud(amount,\n",
        "rate=rate)\n",
        "  return total\n",
        "print(convert_and_sum_list([1, 3]))"
      ],
      "metadata": {
        "colab": {
          "base_uri": "https://localhost:8080/"
        },
        "id": "DkpR9Nl0LbqC",
        "outputId": "bee2f3aa-0506-4305-827a-4eed1d372ca8"
      },
      "id": "DkpR9Nl0LbqC",
      "execution_count": 2,
      "outputs": [
        {
          "output_type": "stream",
          "name": "stdout",
          "text": [
            "5.333333333333333\n"
          ]
        }
      ]
    },
    {
      "cell_type": "code",
      "source": [
        "def convert_and_sum_list_kwargs(usd_list, **kwargs):\n",
        "  total = 0\n",
        "  for amount in usd_list:\n",
        "    total += convert_usd_to_aud(amount, **kwargs)\n",
        "  return total\n",
        "print(convert_and_sum_list_kwargs([1, 3], rate=0.8))"
      ],
      "metadata": {
        "colab": {
          "base_uri": "https://localhost:8080/"
        },
        "id": "e8m2TXjXL6Du",
        "outputId": "914f2363-cd30-4557-9fc8-223a74ce1649"
      },
      "id": "e8m2TXjXL6Du",
      "execution_count": 4,
      "outputs": [
        {
          "output_type": "stream",
          "name": "stdout",
          "text": [
            "5.0\n"
          ]
        }
      ]
    },
    {
      "cell_type": "markdown",
      "source": [
        "### Exercise 7: Formatting Customer Names"
      ],
      "metadata": {
        "id": "qVsxf-CFMTxf"
      },
      "id": "qVsxf-CFMTxf"
    },
    {
      "cell_type": "code",
      "source": [
        "from google.colab import files\n",
        "files.download('/content/customer.py')"
      ],
      "metadata": {
        "colab": {
          "base_uri": "https://localhost:8080/",
          "height": 17
        },
        "id": "tvUXw5O7MOwC",
        "outputId": "da26be5d-724a-4118-8b01-c9c769e3e6dd"
      },
      "id": "tvUXw5O7MOwC",
      "execution_count": 6,
      "outputs": [
        {
          "output_type": "display_data",
          "data": {
            "text/plain": [
              "<IPython.core.display.Javascript object>"
            ],
            "application/javascript": [
              "\n",
              "    async function download(id, filename, size) {\n",
              "      if (!google.colab.kernel.accessAllowed) {\n",
              "        return;\n",
              "      }\n",
              "      const div = document.createElement('div');\n",
              "      const label = document.createElement('label');\n",
              "      label.textContent = `Downloading \"${filename}\": `;\n",
              "      div.appendChild(label);\n",
              "      const progress = document.createElement('progress');\n",
              "      progress.max = size;\n",
              "      div.appendChild(progress);\n",
              "      document.body.appendChild(div);\n",
              "\n",
              "      const buffers = [];\n",
              "      let downloaded = 0;\n",
              "\n",
              "      const channel = await google.colab.kernel.comms.open(id);\n",
              "      // Send a message to notify the kernel that we're ready.\n",
              "      channel.send({})\n",
              "\n",
              "      for await (const message of channel.messages) {\n",
              "        // Send a message to notify the kernel that we're ready.\n",
              "        channel.send({})\n",
              "        if (message.buffers) {\n",
              "          for (const buffer of message.buffers) {\n",
              "            buffers.push(buffer);\n",
              "            downloaded += buffer.byteLength;\n",
              "            progress.value = downloaded;\n",
              "          }\n",
              "        }\n",
              "      }\n",
              "      const blob = new Blob(buffers, {type: 'application/binary'});\n",
              "      const a = document.createElement('a');\n",
              "      a.href = window.URL.createObjectURL(blob);\n",
              "      a.download = filename;\n",
              "      div.appendChild(a);\n",
              "      a.click();\n",
              "      div.remove();\n",
              "    }\n",
              "  "
            ]
          },
          "metadata": {}
        },
        {
          "output_type": "display_data",
          "data": {
            "text/plain": [
              "<IPython.core.display.Javascript object>"
            ],
            "application/javascript": [
              "download(\"download_2a555eb1-40cc-486e-91fd-0307cadd246b\", \"customer.py\", 174)"
            ]
          },
          "metadata": {}
        }
      ]
    },
    {
      "cell_type": "code",
      "source": [
        "from customer import format_customer\n",
        "format_customer('John', 'Smith',\n",
        "location='California')"
      ],
      "metadata": {
        "colab": {
          "base_uri": "https://localhost:8080/",
          "height": 36
        },
        "id": "51t76HMTN3wm",
        "outputId": "61ebcc03-af7a-4528-ab22-a24d95bddc55"
      },
      "id": "51t76HMTN3wm",
      "execution_count": 7,
      "outputs": [
        {
          "output_type": "execute_result",
          "data": {
            "text/plain": [
              "'John Smith (California)'"
            ],
            "application/vnd.google.colaboratory.intrinsic+json": {
              "type": "string"
            }
          },
          "metadata": {},
          "execution_count": 7
        }
      ]
    },
    {
      "cell_type": "code",
      "source": [
        "format_customer('Mareike', 'Schmidt')"
      ],
      "metadata": {
        "colab": {
          "base_uri": "https://localhost:8080/",
          "height": 36
        },
        "id": "GbyZpjhaOCly",
        "outputId": "f1d7083d-52c0-4b13-d7e3-4703335f2719"
      },
      "id": "GbyZpjhaOCly",
      "execution_count": 8,
      "outputs": [
        {
          "output_type": "execute_result",
          "data": {
            "text/plain": [
              "'Mareike Schmidt'"
            ],
            "application/vnd.google.colaboratory.intrinsic+json": {
              "type": "string"
            }
          },
          "metadata": {},
          "execution_count": 8
        }
      ]
    },
    {
      "cell_type": "code",
      "source": [],
      "metadata": {
        "id": "EcWva_MFOEz1"
      },
      "id": "EcWva_MFOEz1",
      "execution_count": null,
      "outputs": []
    }
  ],
  "metadata": {
    "kernelspec": {
      "display_name": "Python 3 (ipykernel)",
      "language": "python",
      "name": "python3"
    },
    "language_info": {
      "codemirror_mode": {
        "name": "ipython",
        "version": 3
      },
      "file_extension": ".py",
      "mimetype": "text/x-python",
      "name": "python",
      "nbconvert_exporter": "python",
      "pygments_lexer": "ipython3",
      "version": "3.9.7"
    },
    "colab": {
      "name": "EECS_19244_Rita_Activity4",
      "provenance": []
    }
  },
  "nbformat": 4,
  "nbformat_minor": 5
}
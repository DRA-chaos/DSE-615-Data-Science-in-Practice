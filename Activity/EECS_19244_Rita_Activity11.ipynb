{
  "nbformat": 4,
  "nbformat_minor": 0,
  "metadata": {
    "colab": {
      "provenance": []
    },
    "kernelspec": {
      "name": "python3",
      "display_name": "Python 3"
    },
    "language_info": {
      "name": "python"
    }
  },
  "cells": [
    {
      "cell_type": "markdown",
      "source": [
        "### Exercise 1: Implementing a Mathematical Equation"
      ],
      "metadata": {
        "id": "G0KUftGYCswA"
      }
    },
    {
      "cell_type": "code",
      "source": [
        "import tensorflow as tf\n",
        "X=tf.Variable(3)\n",
        "Y=tf.Variable(4)\n",
        "C=tf.constant(2)\n",
        "def myfunc(x,y,c):\n",
        "  Z=x*x*y+y+c\n",
        "  return Z\n",
        "\n",
        "result=myfunc(X,Y,C)\n",
        "tf.print(result)\n",
        "\n",
        "\n"
      ],
      "metadata": {
        "colab": {
          "base_uri": "https://localhost:8080/"
        },
        "id": "bemdEtFVRGGx",
        "outputId": "67c012e9-e3e2-4868-beeb-8216b4e593de"
      },
      "execution_count": 1,
      "outputs": [
        {
          "output_type": "stream",
          "name": "stdout",
          "text": [
            "42\n"
          ]
        }
      ]
    },
    {
      "cell_type": "markdown",
      "source": [
        "### Exercise 2: Matrix Multiplication Using TensorFlow"
      ],
      "metadata": {
        "id": "Eu0qz7oPCytz"
      }
    },
    {
      "cell_type": "code",
      "source": [
        "import tensorflow as tf\n",
        "X=tf.Variable([[1,2,3],[4,5,6]])\n",
        "Y=tf.Variable([[7,8],[9,10],[11,12]])"
      ],
      "metadata": {
        "id": "A-H-mMcCCrYE"
      },
      "execution_count": 2,
      "outputs": []
    },
    {
      "cell_type": "code",
      "source": [
        "tf.print(X)"
      ],
      "metadata": {
        "colab": {
          "base_uri": "https://localhost:8080/"
        },
        "id": "rw7WjFweC_cP",
        "outputId": "ce7ae0a2-e031-4c47-f9d6-2b39370ca24e"
      },
      "execution_count": 3,
      "outputs": [
        {
          "output_type": "stream",
          "name": "stdout",
          "text": [
            "[[1 2 3]\n",
            " [4 5 6]]\n"
          ]
        }
      ]
    },
    {
      "cell_type": "code",
      "source": [
        "tf.print(Y)"
      ],
      "metadata": {
        "colab": {
          "base_uri": "https://localhost:8080/"
        },
        "id": "BM1V5hkQDCd-",
        "outputId": "d9c2e8fe-22a0-4efb-9a5f-bc6b64aa6d06"
      },
      "execution_count": 4,
      "outputs": [
        {
          "output_type": "stream",
          "name": "stdout",
          "text": [
            "[[7 8]\n",
            " [9 10]\n",
            " [11 12]]\n"
          ]
        }
      ]
    },
    {
      "cell_type": "code",
      "source": [
        "c1=tf.matmul(X,Y)"
      ],
      "metadata": {
        "id": "DbLZfFg4E6no"
      },
      "execution_count": 5,
      "outputs": []
    },
    {
      "cell_type": "code",
      "source": [
        "tf.print(c1)"
      ],
      "metadata": {
        "colab": {
          "base_uri": "https://localhost:8080/"
        },
        "id": "0iZS6ciSE_SM",
        "outputId": "19cbbf36-dff1-4cbf-8218-a4144dbdbd7c"
      },
      "execution_count": 6,
      "outputs": [
        {
          "output_type": "stream",
          "name": "stdout",
          "text": [
            "[[58 64]\n",
            " [139 154]]\n"
          ]
        }
      ]
    },
    {
      "cell_type": "code",
      "source": [
        "c2=tf.matmul(Y,X)"
      ],
      "metadata": {
        "id": "LlFGL6bfFBxb"
      },
      "execution_count": 8,
      "outputs": []
    },
    {
      "cell_type": "code",
      "source": [
        "tf.print(c2)"
      ],
      "metadata": {
        "colab": {
          "base_uri": "https://localhost:8080/"
        },
        "id": "RlsFYPXgFK33",
        "outputId": "e4a9c540-dc58-452d-de20-78303910f114"
      },
      "execution_count": 9,
      "outputs": [
        {
          "output_type": "stream",
          "name": "stdout",
          "text": [
            "[[39 54 69]\n",
            " [49 68 87]\n",
            " [59 82 105]]\n"
          ]
        }
      ]
    },
    {
      "cell_type": "markdown",
      "source": [
        "### Exercise 3: Reshaping Matrices Using the reshape() Function in TensorFlow"
      ],
      "metadata": {
        "id": "rSW36L8vFPM7"
      }
    },
    {
      "cell_type": "code",
      "source": [
        "import tensorflow as tf\n",
        "A=tf.Variable([[1,2,3,4], \\\n",
        "[5,6,7,8], \\\n",
        "[9,10,11,12], \\\n",
        "[13,14,15,16], \\\n",
        "[17,18,19,20]])"
      ],
      "metadata": {
        "id": "otsL7VCaFXbf"
      },
      "execution_count": 10,
      "outputs": []
    },
    {
      "cell_type": "code",
      "source": [
        "tf.print(A)"
      ],
      "metadata": {
        "colab": {
          "base_uri": "https://localhost:8080/"
        },
        "id": "keI31rQeFN9E",
        "outputId": "77a7202c-8e4f-413f-9759-26f21a59f63d"
      },
      "execution_count": 11,
      "outputs": [
        {
          "output_type": "stream",
          "name": "stdout",
          "text": [
            "[[1 2 3 4]\n",
            " [5 6 7 8]\n",
            " [9 10 11 12]\n",
            " [13 14 15 16]\n",
            " [17 18 19 20]]\n"
          ]
        }
      ]
    },
    {
      "cell_type": "code",
      "source": [
        "A.shape"
      ],
      "metadata": {
        "colab": {
          "base_uri": "https://localhost:8080/"
        },
        "id": "u0IxwvwhFkH_",
        "outputId": "43eed32b-8685-4535-f6c5-33d4fa5b9d8a"
      },
      "execution_count": 12,
      "outputs": [
        {
          "output_type": "execute_result",
          "data": {
            "text/plain": [
              "TensorShape([5, 4])"
            ]
          },
          "metadata": {},
          "execution_count": 12
        }
      ]
    },
    {
      "cell_type": "code",
      "source": [
        "tf.print(tf.reshape(A,[5,4,1]))"
      ],
      "metadata": {
        "colab": {
          "base_uri": "https://localhost:8080/"
        },
        "id": "FVT14VIVFnIi",
        "outputId": "283c50d1-0122-45b3-8266-7f095470d2f0"
      },
      "execution_count": 13,
      "outputs": [
        {
          "output_type": "stream",
          "name": "stdout",
          "text": [
            "[[[1]\n",
            "  [2]\n",
            "  [3]\n",
            "  [4]]\n",
            "\n",
            " [[5]\n",
            "  [6]\n",
            "  [7]\n",
            "  [8]]\n",
            "\n",
            " [[9]\n",
            "  [10]\n",
            "  [11]\n",
            "  [12]]\n",
            "\n",
            " [[13]\n",
            "  [14]\n",
            "  [15]\n",
            "  [16]]\n",
            "\n",
            " [[17]\n",
            "  [18]\n",
            "  [19]\n",
            "  [20]]]\n"
          ]
        }
      ]
    },
    {
      "cell_type": "code",
      "source": [
        "A.shape"
      ],
      "metadata": {
        "colab": {
          "base_uri": "https://localhost:8080/"
        },
        "id": "mBKnzGCLFuV7",
        "outputId": "91092f7c-e018-4352-e2c3-cd26af27d3bc"
      },
      "execution_count": 14,
      "outputs": [
        {
          "output_type": "execute_result",
          "data": {
            "text/plain": [
              "TensorShape([5, 4])"
            ]
          },
          "metadata": {},
          "execution_count": 14
        }
      ]
    },
    {
      "cell_type": "code",
      "source": [
        "A = tf.reshape(A,[5,4,1])"
      ],
      "metadata": {
        "id": "pBMdEIsTFyGE"
      },
      "execution_count": 15,
      "outputs": []
    },
    {
      "cell_type": "code",
      "source": [
        "tf.print(A)"
      ],
      "metadata": {
        "colab": {
          "base_uri": "https://localhost:8080/"
        },
        "id": "sQFsFo7uGDcx",
        "outputId": "c2285cea-3279-423e-b4e1-75fa024e1dcf"
      },
      "execution_count": 17,
      "outputs": [
        {
          "output_type": "stream",
          "name": "stdout",
          "text": [
            "[[[1]\n",
            "  [2]\n",
            "  [3]\n",
            "  [4]]\n",
            "\n",
            " [[5]\n",
            "  [6]\n",
            "  [7]\n",
            "  [8]]\n",
            "\n",
            " [[9]\n",
            "  [10]\n",
            "  [11]\n",
            "  [12]]\n",
            "\n",
            " [[13]\n",
            "  [14]\n",
            "  [15]\n",
            "  [16]]\n",
            "\n",
            " [[17]\n",
            "  [18]\n",
            "  [19]\n",
            "  [20]]]\n"
          ]
        }
      ]
    },
    {
      "cell_type": "markdown",
      "source": [
        "### Exercise 4: Implementing the argmax() Function"
      ],
      "metadata": {
        "id": "-aapsHcPGP-C"
      }
    },
    {
      "cell_type": "code",
      "source": [
        "import tensorflow as tf\n",
        "X=tf.Variable([[91,12,15], [11,88,21],[90, 87,75]])"
      ],
      "metadata": {
        "id": "m_3xUt_ZGJo9"
      },
      "execution_count": 18,
      "outputs": []
    },
    {
      "cell_type": "code",
      "source": [
        "tf.print(X)"
      ],
      "metadata": {
        "colab": {
          "base_uri": "https://localhost:8080/"
        },
        "id": "NP1gDLX_GUIB",
        "outputId": "0273f0de-2260-4311-bbfe-b1ff59501d56"
      },
      "execution_count": 19,
      "outputs": [
        {
          "output_type": "stream",
          "name": "stdout",
          "text": [
            "[[91 12 15]\n",
            " [11 88 21]\n",
            " [90 87 75]]\n"
          ]
        }
      ]
    },
    {
      "cell_type": "code",
      "source": [
        "X.shape"
      ],
      "metadata": {
        "colab": {
          "base_uri": "https://localhost:8080/"
        },
        "id": "ms-pKZ6qGV10",
        "outputId": "0fd5d836-9ed6-45d0-cf10-ed21c9faad39"
      },
      "execution_count": 20,
      "outputs": [
        {
          "output_type": "execute_result",
          "data": {
            "text/plain": [
              "TensorShape([3, 3])"
            ]
          },
          "metadata": {},
          "execution_count": 20
        }
      ]
    },
    {
      "cell_type": "code",
      "source": [
        "tf.print(tf.argmax(X,axis=0))"
      ],
      "metadata": {
        "colab": {
          "base_uri": "https://localhost:8080/"
        },
        "id": "4RWvWgFHGbdN",
        "outputId": "f956cc7e-1571-448d-8e6b-42b50b408aad"
      },
      "execution_count": 21,
      "outputs": [
        {
          "output_type": "stream",
          "name": "stdout",
          "text": [
            "[0 1 2]\n"
          ]
        }
      ]
    },
    {
      "cell_type": "code",
      "source": [
        "tf.print(tf.argmax(X,axis=1))"
      ],
      "metadata": {
        "colab": {
          "base_uri": "https://localhost:8080/"
        },
        "id": "1wSxy6hFHkkU",
        "outputId": "33262727-120e-4ef4-8f15-1ba0060640df"
      },
      "execution_count": 22,
      "outputs": [
        {
          "output_type": "stream",
          "name": "stdout",
          "text": [
            "[0 1 0]\n"
          ]
        }
      ]
    },
    {
      "cell_type": "markdown",
      "source": [
        "### Exercise 5: Using an Optimizer for a Simple Linear Regression"
      ],
      "metadata": {
        "id": "oRdIQ_rWHnGm"
      }
    },
    {
      "cell_type": "code",
      "source": [
        "import tensorflow as tf\n",
        "w=tf.Variable(0.0)\n",
        "b=tf.Variable(0.0)"
      ],
      "metadata": {
        "id": "K1B5I3ziHlW5"
      },
      "execution_count": 23,
      "outputs": []
    },
    {
      "cell_type": "code",
      "source": [
        "def regression(x):\n",
        "  model=w*x+b\n",
        "  return model"
      ],
      "metadata": {
        "id": "P0v3VBhIHrrE"
      },
      "execution_count": 24,
      "outputs": []
    },
    {
      "cell_type": "code",
      "source": [
        "x=[1,2,3,4]\n",
        "y=[0,-1,-2,-3]"
      ],
      "metadata": {
        "id": "xl6oX1l7bhhH"
      },
      "execution_count": 25,
      "outputs": []
    },
    {
      "cell_type": "code",
      "source": [
        "loss=lambda:abs(regression(x)-y)"
      ],
      "metadata": {
        "id": "SIPzTx62bk7I"
      },
      "execution_count": 26,
      "outputs": []
    },
    {
      "cell_type": "code",
      "source": [
        "optimizer=tf.optimizers.Adam(.01)\n",
        "for i in range(1000):\n",
        "  optimizer.minimize(loss,[w,b])\n"
      ],
      "metadata": {
        "id": "q6wkFViYbo1U"
      },
      "execution_count": 28,
      "outputs": []
    },
    {
      "cell_type": "code",
      "source": [
        "tf.print(w,b)"
      ],
      "metadata": {
        "colab": {
          "base_uri": "https://localhost:8080/"
        },
        "id": "Tthfuu2cbw4o",
        "outputId": "d6f01994-1451-4f9d-e9aa-e6945bcd3fa8"
      },
      "execution_count": 29,
      "outputs": [
        {
          "output_type": "stream",
          "name": "stdout",
          "text": [
            "-1.00371706 0.999803364\n"
          ]
        }
      ]
    },
    {
      "cell_type": "code",
      "source": [
        "tf.print(regression([1,2,3,4]))"
      ],
      "metadata": {
        "colab": {
          "base_uri": "https://localhost:8080/"
        },
        "id": "OTaps_50b3H8",
        "outputId": "4fda27c3-5ac5-4ac4-c093-0fc6545f2808"
      },
      "execution_count": 30,
      "outputs": [
        {
          "output_type": "stream",
          "name": "stdout",
          "text": [
            "[-0.00391370058 -1.00763083 -2.01134801 -3.01506495]\n"
          ]
        }
      ]
    },
    {
      "cell_type": "markdown",
      "source": [
        "### Exercise 6: Creating an ANN with TensorFlow"
      ],
      "metadata": {
        "id": "REZMCfc-cTbi"
      }
    },
    {
      "cell_type": "code",
      "source": [
        "import tensorflow as tf"
      ],
      "metadata": {
        "id": "ITmbJ_-Ib9nr"
      },
      "execution_count": 31,
      "outputs": []
    },
    {
      "cell_type": "code",
      "source": [
        "model = tf.keras.Sequential()"
      ],
      "metadata": {
        "id": "e7PZ5ZZQcY4m"
      },
      "execution_count": 32,
      "outputs": []
    },
    {
      "cell_type": "code",
      "source": [
        "model.add(tf.keras.layers.InputLayer(input_shape=(8,)\n",
        ", \\\n",
        "name='Input_layer'))"
      ],
      "metadata": {
        "id": "Th7-lAhOcehI"
      },
      "execution_count": 34,
      "outputs": []
    },
    {
      "cell_type": "code",
      "source": [
        "model.add(tf.keras.layers.Dense(4, activation='relu',\n",
        "\\\n",
        "name='First_hidden_layer'))\n",
        "model.add(tf.keras.layers.Dense(1,\n",
        "name='Output_layer'))"
      ],
      "metadata": {
        "id": "RbSdaB_iciJi"
      },
      "execution_count": 36,
      "outputs": []
    },
    {
      "cell_type": "code",
      "source": [
        "model.variables"
      ],
      "metadata": {
        "colab": {
          "base_uri": "https://localhost:8080/"
        },
        "id": "J1wnYp_ocxGH",
        "outputId": "1612d8c3-9aec-4733-a4e4-536cb27c6116"
      },
      "execution_count": 37,
      "outputs": [
        {
          "output_type": "execute_result",
          "data": {
            "text/plain": [
              "[<tf.Variable 'First_hidden_layer/kernel:0' shape=(8, 4) dtype=float32, numpy=\n",
              " array([[-0.07637513, -0.32552877,  0.693227  , -0.16198939],\n",
              "        [ 0.09430122,  0.03911191, -0.3438244 ,  0.6318268 ],\n",
              "        [ 0.689547  ,  0.4169193 ,  0.38456994,  0.21591508],\n",
              "        [-0.5971397 , -0.67901033,  0.07358062, -0.04448164],\n",
              "        [ 0.6920696 ,  0.48127347,  0.6183291 ,  0.48996288],\n",
              "        [-0.44465026, -0.61380243, -0.14866275,  0.6106245 ],\n",
              "        [-0.33075833,  0.37761468,  0.16238034, -0.28132817],\n",
              "        [ 0.14332843,  0.4312175 , -0.5016935 , -0.4738518 ]],\n",
              "       dtype=float32)>,\n",
              " <tf.Variable 'First_hidden_layer/bias:0' shape=(4,) dtype=float32, numpy=array([0., 0., 0., 0.], dtype=float32)>,\n",
              " <tf.Variable 'Output_layer/kernel:0' shape=(4, 1) dtype=float32, numpy=\n",
              " array([[ 0.7380357 ],\n",
              "        [-0.54979736],\n",
              "        [ 0.4240303 ],\n",
              "        [-1.0035791 ]], dtype=float32)>,\n",
              " <tf.Variable 'Output_layer/bias:0' shape=(1,) dtype=float32, numpy=array([0.], dtype=float32)>]"
            ]
          },
          "metadata": {},
          "execution_count": 37
        }
      ]
    },
    {
      "cell_type": "code",
      "source": [
        "data = tf.random.normal((32,8))"
      ],
      "metadata": {
        "id": "NOpFRJtKcy78"
      },
      "execution_count": 38,
      "outputs": []
    },
    {
      "cell_type": "code",
      "source": [
        "prediction=model.predict(data)\n"
      ],
      "metadata": {
        "colab": {
          "base_uri": "https://localhost:8080/"
        },
        "id": "07_38fVOdc3W",
        "outputId": "2820bd7b-48d5-4cd1-ee4b-62be9b1bc72e"
      },
      "execution_count": 40,
      "outputs": [
        {
          "output_type": "stream",
          "name": "stdout",
          "text": [
            "1/1 [==============================] - 0s 30ms/step\n"
          ]
        }
      ]
    },
    {
      "cell_type": "code",
      "source": [
        "prediction"
      ],
      "metadata": {
        "colab": {
          "base_uri": "https://localhost:8080/"
        },
        "id": "ErMnXiimdlrt",
        "outputId": "ceeee49f-053a-44c1-fe13-b60ec03afd59"
      },
      "execution_count": 41,
      "outputs": [
        {
          "output_type": "execute_result",
          "data": {
            "text/plain": [
              "array([[-1.0724299 ],\n",
              "       [ 0.08208106],\n",
              "       [ 1.356426  ],\n",
              "       [ 0.        ],\n",
              "       [ 0.4525504 ],\n",
              "       [ 1.6630293 ],\n",
              "       [-0.31866747],\n",
              "       [-0.31113634],\n",
              "       [-1.8645376 ],\n",
              "       [ 0.03782332],\n",
              "       [ 0.        ],\n",
              "       [ 0.24272446],\n",
              "       [ 0.79493207],\n",
              "       [ 0.        ],\n",
              "       [-0.98393863],\n",
              "       [ 0.        ],\n",
              "       [ 0.72978455],\n",
              "       [-0.1493119 ],\n",
              "       [ 0.09569356],\n",
              "       [ 0.04064929],\n",
              "       [ 0.00870094],\n",
              "       [-0.4414781 ],\n",
              "       [ 0.6122229 ],\n",
              "       [-0.17157134],\n",
              "       [-0.02978003],\n",
              "       [ 1.1728387 ],\n",
              "       [ 0.51809484],\n",
              "       [-0.52595973],\n",
              "       [ 0.8348085 ],\n",
              "       [-0.3349426 ],\n",
              "       [-0.43992966],\n",
              "       [-0.9920026 ]], dtype=float32)"
            ]
          },
          "metadata": {},
          "execution_count": 41
        }
      ]
    },
    {
      "cell_type": "markdown",
      "source": [
        "### Exercise 7: Creating a Linear Regression Model as an ANN with TensorFlow"
      ],
      "metadata": {
        "id": "9YIAF_ZBdz3P"
      }
    },
    {
      "cell_type": "code",
      "source": [
        "import tensorflow as tf\n",
        "import pandas as pd"
      ],
      "metadata": {
        "id": "HezRY_GXdzT0"
      },
      "execution_count": 42,
      "outputs": []
    },
    {
      "cell_type": "code",
      "source": [
        "df = pd.read_csv('Bias_correction_ucl.csv')"
      ],
      "metadata": {
        "id": "dsSNKdVzdeqU"
      },
      "execution_count": 43,
      "outputs": []
    },
    {
      "cell_type": "code",
      "source": [
        "df.drop('Date', inplace=True, axis=1)\n",
        "df.dropna(inplace=True)"
      ],
      "metadata": {
        "id": "AHEdxt7WeN8u"
      },
      "execution_count": 44,
      "outputs": []
    },
    {
      "cell_type": "code",
      "source": [
        "target = df[['Next_Tmax', 'Next_Tmin']]\n",
        "features = df.drop(['Next_Tmax', 'Next_Tmin'],\n",
        "axis=1)"
      ],
      "metadata": {
        "id": "f9TwngH6ePYR"
      },
      "execution_count": 45,
      "outputs": []
    },
    {
      "cell_type": "code",
      "source": [
        "from sklearn.preprocessing import MinMaxScaler\n",
        "scaler = MinMaxScaler()\n",
        "feature_array = scaler.fit_transform(features)\n",
        "features = pd.DataFrame(feature_array,\n",
        "columns=features.columns)"
      ],
      "metadata": {
        "id": "k9S8EB3LeRXl"
      },
      "execution_count": 46,
      "outputs": []
    },
    {
      "cell_type": "code",
      "source": [
        "model = tf.keras.Sequential()"
      ],
      "metadata": {
        "id": "yb8k8XtcfZT-"
      },
      "execution_count": 47,
      "outputs": []
    },
    {
      "cell_type": "code",
      "source": [
        "model.add(tf.keras.layers.InputLayer\\\n",
        "(input_shape=(features.shape[1],), \\\n",
        "name='Input_layer'))"
      ],
      "metadata": {
        "id": "Z9IstFPOffln"
      },
      "execution_count": 48,
      "outputs": []
    },
    {
      "cell_type": "code",
      "source": [
        "model.add(tf.keras.layers.Dense(2,\n",
        "name='Output_layer'))"
      ],
      "metadata": {
        "id": "SOOey3TsfieH"
      },
      "execution_count": 49,
      "outputs": []
    },
    {
      "cell_type": "code",
      "source": [
        "model.compile(tf.optimizers.RMSprop(0.001),\n",
        "loss='mse')"
      ],
      "metadata": {
        "id": "E4Jrgt2YfsIL"
      },
      "execution_count": 50,
      "outputs": []
    },
    {
      "cell_type": "code",
      "source": [
        "tensorboard_callback = tf.keras.callbacks\\\n",
        ".TensorBoard(log_dir=\"./logs\")"
      ],
      "metadata": {
        "id": "28swJsu5fuf-"
      },
      "execution_count": 52,
      "outputs": []
    },
    {
      "cell_type": "code",
      "source": [
        "model.fit(x=features.to_numpy(),\n",
        "y=target.to_numpy(),\\\n",
        "epochs=50,\n",
        "callbacks=[tensorboard_callback])"
      ],
      "metadata": {
        "colab": {
          "base_uri": "https://localhost:8080/"
        },
        "id": "AC2RDa8ofxri",
        "outputId": "f7d72950-4939-440f-a11e-c745a06885de"
      },
      "execution_count": 53,
      "outputs": [
        {
          "output_type": "stream",
          "name": "stdout",
          "text": [
            "Epoch 1/50\n",
            "238/238 [==============================] - 1s 1ms/step - loss: 634.0229\n",
            "Epoch 2/50\n",
            "238/238 [==============================] - 1s 2ms/step - loss: 532.1064\n",
            "Epoch 3/50\n",
            "238/238 [==============================] - 1s 3ms/step - loss: 440.0432\n",
            "Epoch 4/50\n",
            "238/238 [==============================] - 0s 2ms/step - loss: 357.5184\n",
            "Epoch 5/50\n",
            "238/238 [==============================] - 0s 1ms/step - loss: 284.5779\n",
            "Epoch 6/50\n",
            "238/238 [==============================] - 0s 2ms/step - loss: 221.1716\n",
            "Epoch 7/50\n",
            "238/238 [==============================] - 0s 2ms/step - loss: 167.2987\n",
            "Epoch 8/50\n",
            "238/238 [==============================] - 0s 1ms/step - loss: 123.1529\n",
            "Epoch 9/50\n",
            "238/238 [==============================] - 0s 1ms/step - loss: 88.4325\n",
            "Epoch 10/50\n",
            "238/238 [==============================] - 0s 1ms/step - loss: 63.0249\n",
            "Epoch 11/50\n",
            "238/238 [==============================] - 0s 1ms/step - loss: 45.4565\n",
            "Epoch 12/50\n",
            "238/238 [==============================] - 0s 1ms/step - loss: 33.4013\n",
            "Epoch 13/50\n",
            "238/238 [==============================] - 0s 1ms/step - loss: 25.9801\n",
            "Epoch 14/50\n",
            "238/238 [==============================] - 0s 1ms/step - loss: 21.7944\n",
            "Epoch 15/50\n",
            "238/238 [==============================] - 0s 1ms/step - loss: 19.2080\n",
            "Epoch 16/50\n",
            "238/238 [==============================] - 0s 1ms/step - loss: 17.2677\n",
            "Epoch 17/50\n",
            "238/238 [==============================] - 0s 1ms/step - loss: 15.6080\n",
            "Epoch 18/50\n",
            "238/238 [==============================] - 0s 1ms/step - loss: 14.1166\n",
            "Epoch 19/50\n",
            "238/238 [==============================] - 0s 2ms/step - loss: 12.7751\n",
            "Epoch 20/50\n",
            "238/238 [==============================] - 0s 1ms/step - loss: 11.5712\n",
            "Epoch 21/50\n",
            "238/238 [==============================] - 0s 1ms/step - loss: 10.5125\n",
            "Epoch 22/50\n",
            "238/238 [==============================] - 0s 2ms/step - loss: 9.5685\n",
            "Epoch 23/50\n",
            "238/238 [==============================] - 0s 1ms/step - loss: 8.7360\n",
            "Epoch 24/50\n",
            "238/238 [==============================] - 0s 2ms/step - loss: 7.9805\n",
            "Epoch 25/50\n",
            "238/238 [==============================] - 1s 2ms/step - loss: 7.3352\n",
            "Epoch 26/50\n",
            "238/238 [==============================] - 1s 2ms/step - loss: 6.7711\n",
            "Epoch 27/50\n",
            "238/238 [==============================] - 1s 2ms/step - loss: 6.2966\n",
            "Epoch 28/50\n",
            "238/238 [==============================] - 1s 3ms/step - loss: 5.8988\n",
            "Epoch 29/50\n",
            "238/238 [==============================] - 0s 2ms/step - loss: 5.5636\n",
            "Epoch 30/50\n",
            "238/238 [==============================] - 0s 2ms/step - loss: 5.2884\n",
            "Epoch 31/50\n",
            "238/238 [==============================] - 0s 1ms/step - loss: 5.0620\n",
            "Epoch 32/50\n",
            "238/238 [==============================] - 0s 1ms/step - loss: 4.8757\n",
            "Epoch 33/50\n",
            "238/238 [==============================] - 0s 1ms/step - loss: 4.7238\n",
            "Epoch 34/50\n",
            "238/238 [==============================] - 0s 1ms/step - loss: 4.5951\n",
            "Epoch 35/50\n",
            "238/238 [==============================] - 0s 1ms/step - loss: 4.4859\n",
            "Epoch 36/50\n",
            "238/238 [==============================] - 0s 2ms/step - loss: 4.3873\n",
            "Epoch 37/50\n",
            "238/238 [==============================] - 0s 1ms/step - loss: 4.3007\n",
            "Epoch 38/50\n",
            "238/238 [==============================] - 0s 1ms/step - loss: 4.2256\n",
            "Epoch 39/50\n",
            "238/238 [==============================] - 0s 2ms/step - loss: 4.1514\n",
            "Epoch 40/50\n",
            "238/238 [==============================] - 0s 1ms/step - loss: 4.0810\n",
            "Epoch 41/50\n",
            "238/238 [==============================] - 0s 1ms/step - loss: 4.0148\n",
            "Epoch 42/50\n",
            "238/238 [==============================] - 0s 2ms/step - loss: 3.9573\n",
            "Epoch 43/50\n",
            "238/238 [==============================] - 0s 1ms/step - loss: 3.9050\n",
            "Epoch 44/50\n",
            "238/238 [==============================] - 0s 2ms/step - loss: 3.8496\n",
            "Epoch 45/50\n",
            "238/238 [==============================] - 0s 1ms/step - loss: 3.7980\n",
            "Epoch 46/50\n",
            "238/238 [==============================] - 0s 2ms/step - loss: 3.7477\n",
            "Epoch 47/50\n",
            "238/238 [==============================] - 0s 2ms/step - loss: 3.7015\n",
            "Epoch 48/50\n",
            "238/238 [==============================] - 0s 1ms/step - loss: 3.6544\n",
            "Epoch 49/50\n",
            "238/238 [==============================] - 0s 1ms/step - loss: 3.6075\n",
            "Epoch 50/50\n",
            "238/238 [==============================] - 0s 2ms/step - loss: 3.5615\n"
          ]
        },
        {
          "output_type": "execute_result",
          "data": {
            "text/plain": [
              "<keras.callbacks.History at 0x7f1cab346e90>"
            ]
          },
          "metadata": {},
          "execution_count": 53
        }
      ]
    },
    {
      "cell_type": "code",
      "source": [
        "loss = model.evaluate(features.to_numpy(),\n",
        "target.to_numpy())\n",
        "print('loss:', loss)"
      ],
      "metadata": {
        "colab": {
          "base_uri": "https://localhost:8080/"
        },
        "id": "vK2k5rhEf2Eu",
        "outputId": "6d6fa966-e667-4304-bc0a-9005d24a8f35"
      },
      "execution_count": 54,
      "outputs": [
        {
          "output_type": "stream",
          "name": "stdout",
          "text": [
            "238/238 [==============================] - 0s 1ms/step - loss: 3.5391\n",
            "loss: 3.539133071899414\n"
          ]
        }
      ]
    },
    {
      "cell_type": "markdown",
      "source": [
        "### Exercise 8: Creating a Multi-Layer ANN with TensorFlow"
      ],
      "metadata": {
        "id": "dE5oai3agAa0"
      }
    },
    {
      "cell_type": "code",
      "source": [
        "import tensorflow as tf\n",
        "import pandas as pd"
      ],
      "metadata": {
        "id": "ae7dnedQf_vX"
      },
      "execution_count": 55,
      "outputs": []
    },
    {
      "cell_type": "code",
      "source": [
        "df = pd.read_csv('Bias_correction_ucl.csv')"
      ],
      "metadata": {
        "id": "kx9pWTFWf8ri"
      },
      "execution_count": 56,
      "outputs": []
    },
    {
      "cell_type": "code",
      "source": [
        "df.drop('Date', inplace=True, axis=1)\n",
        "df.dropna(inplace=True)"
      ],
      "metadata": {
        "id": "Pj7eOhZAgF7l"
      },
      "execution_count": 57,
      "outputs": []
    },
    {
      "cell_type": "code",
      "source": [
        "target = df[['Next_Tmax', 'Next_Tmin']]\n",
        "features = df.drop(['Next_Tmax', 'Next_Tmin'],\n",
        "axis=1)"
      ],
      "metadata": {
        "id": "7DZhWEsVgHsO"
      },
      "execution_count": 58,
      "outputs": []
    },
    {
      "cell_type": "code",
      "source": [
        "from sklearn.preprocessing import MinMaxScaler\n",
        "scaler = MinMaxScaler()"
      ],
      "metadata": {
        "id": "YmU9e1LQgJWe"
      },
      "execution_count": 59,
      "outputs": []
    },
    {
      "cell_type": "code",
      "source": [
        "feature_array = scaler.fit_transform(features)\n",
        "features = pd.DataFrame(feature_array,\n",
        "columns=features.columns)"
      ],
      "metadata": {
        "id": "OPSz2jcjgLI2"
      },
      "execution_count": 60,
      "outputs": []
    },
    {
      "cell_type": "code",
      "source": [
        "model = tf.keras.Sequential()"
      ],
      "metadata": {
        "id": "aZe0gfWkgM4j"
      },
      "execution_count": 61,
      "outputs": []
    },
    {
      "cell_type": "code",
      "source": [
        "model.add(tf.keras.layers.InputLayer\\\n",
        "(input_shape=(features.shape\n",
        "[1],), \\\n",
        "name='Input_layer'))"
      ],
      "metadata": {
        "id": "UQWYD4XtgOh_"
      },
      "execution_count": 62,
      "outputs": []
    },
    {
      "cell_type": "code",
      "source": [
        "model.add(tf.keras.layers.Dense(16,\n",
        "name='Dense_layer_1'))\n",
        "model.add(tf.keras.layers.Dense(8,\n",
        "name='Dense_layer_2'))\n",
        "model.add(tf.keras.layers.Dense(4,\n",
        "name='Dense_layer_3'))\n",
        "model.add(tf.keras.layers.Dense(2,\n",
        "name='Output_layer'))"
      ],
      "metadata": {
        "id": "9A_dbhSagRtL"
      },
      "execution_count": 63,
      "outputs": []
    },
    {
      "cell_type": "code",
      "source": [
        "model.compile(tf.optimizers.RMSprop(0.001),\n",
        "loss='mse')"
      ],
      "metadata": {
        "id": "J1Bx-DcNgUg5"
      },
      "execution_count": 64,
      "outputs": []
    },
    {
      "cell_type": "code",
      "source": [
        "tensorboard_callback = tf.keras.callbacks\\\n",
        ".TensorBoard(log_dir=\"./logs\")"
      ],
      "metadata": {
        "id": "juty91rdgLPG"
      },
      "execution_count": 66,
      "outputs": []
    },
    {
      "cell_type": "code",
      "source": [
        "model.fit(x=features.to_numpy(),\n",
        "y=target.to_numpy(),\\\n",
        "epochs=50, callbacks=[tensorboard_callback]\n",
        ", \\\n",
        "validation_split=0.2)"
      ],
      "metadata": {
        "colab": {
          "base_uri": "https://localhost:8080/"
        },
        "id": "kuJQuon9gYct",
        "outputId": "64760a6b-c9e5-44d0-baf2-4ae3a06a0d6d"
      },
      "execution_count": 67,
      "outputs": [
        {
          "output_type": "stream",
          "name": "stdout",
          "text": [
            "Epoch 1/50\n",
            "190/190 [==============================] - 2s 4ms/step - loss: 325.4510 - val_loss: 19.0510\n",
            "Epoch 2/50\n",
            "190/190 [==============================] - 1s 6ms/step - loss: 10.4076 - val_loss: 5.9408\n",
            "Epoch 3/50\n",
            "190/190 [==============================] - 1s 5ms/step - loss: 4.5007 - val_loss: 4.5931\n",
            "Epoch 4/50\n",
            "190/190 [==============================] - 0s 2ms/step - loss: 3.3955 - val_loss: 3.9320\n",
            "Epoch 5/50\n",
            "190/190 [==============================] - 0s 2ms/step - loss: 2.8610 - val_loss: 3.5845\n",
            "Epoch 6/50\n",
            "190/190 [==============================] - 0s 2ms/step - loss: 2.5347 - val_loss: 3.1262\n",
            "Epoch 7/50\n",
            "190/190 [==============================] - 1s 3ms/step - loss: 2.3213 - val_loss: 3.0062\n",
            "Epoch 8/50\n",
            "190/190 [==============================] - 0s 2ms/step - loss: 2.1649 - val_loss: 2.7236\n",
            "Epoch 9/50\n",
            "190/190 [==============================] - 0s 2ms/step - loss: 2.0589 - val_loss: 2.5827\n",
            "Epoch 10/50\n",
            "190/190 [==============================] - 0s 2ms/step - loss: 1.9675 - val_loss: 2.5872\n",
            "Epoch 11/50\n",
            "190/190 [==============================] - 0s 2ms/step - loss: 1.9053 - val_loss: 2.3677\n",
            "Epoch 12/50\n",
            "190/190 [==============================] - 0s 2ms/step - loss: 1.8670 - val_loss: 2.6146\n",
            "Epoch 13/50\n",
            "190/190 [==============================] - 0s 2ms/step - loss: 1.8256 - val_loss: 2.2180\n",
            "Epoch 14/50\n",
            "190/190 [==============================] - 0s 2ms/step - loss: 1.7971 - val_loss: 2.1457\n",
            "Epoch 15/50\n",
            "190/190 [==============================] - 0s 2ms/step - loss: 1.7642 - val_loss: 2.1513\n",
            "Epoch 16/50\n",
            "190/190 [==============================] - 0s 2ms/step - loss: 1.7525 - val_loss: 2.1511\n",
            "Epoch 17/50\n",
            "190/190 [==============================] - 0s 2ms/step - loss: 1.7246 - val_loss: 2.1023\n",
            "Epoch 18/50\n",
            "190/190 [==============================] - 0s 2ms/step - loss: 1.7207 - val_loss: 2.7427\n",
            "Epoch 19/50\n",
            "190/190 [==============================] - 0s 2ms/step - loss: 1.7104 - val_loss: 2.0247\n",
            "Epoch 20/50\n",
            "190/190 [==============================] - 0s 2ms/step - loss: 1.7007 - val_loss: 1.9648\n",
            "Epoch 21/50\n",
            "190/190 [==============================] - 0s 2ms/step - loss: 1.6840 - val_loss: 2.3124\n",
            "Epoch 22/50\n",
            "190/190 [==============================] - 0s 2ms/step - loss: 1.6662 - val_loss: 1.9818\n",
            "Epoch 23/50\n",
            "190/190 [==============================] - 0s 2ms/step - loss: 1.6694 - val_loss: 2.1576\n",
            "Epoch 24/50\n",
            "190/190 [==============================] - 0s 2ms/step - loss: 1.6622 - val_loss: 2.0817\n",
            "Epoch 25/50\n",
            "190/190 [==============================] - 0s 2ms/step - loss: 1.6523 - val_loss: 1.9236\n",
            "Epoch 26/50\n",
            "190/190 [==============================] - 0s 2ms/step - loss: 1.6493 - val_loss: 1.9990\n",
            "Epoch 27/50\n",
            "190/190 [==============================] - 0s 2ms/step - loss: 1.6520 - val_loss: 1.9732\n",
            "Epoch 28/50\n",
            "190/190 [==============================] - 0s 2ms/step - loss: 1.6461 - val_loss: 1.9264\n",
            "Epoch 29/50\n",
            "190/190 [==============================] - 0s 2ms/step - loss: 1.6380 - val_loss: 2.1144\n",
            "Epoch 30/50\n",
            "190/190 [==============================] - 0s 2ms/step - loss: 1.6394 - val_loss: 1.9165\n",
            "Epoch 31/50\n",
            "190/190 [==============================] - 0s 2ms/step - loss: 1.6386 - val_loss: 2.7562\n",
            "Epoch 32/50\n",
            "190/190 [==============================] - 0s 2ms/step - loss: 1.6368 - val_loss: 2.2281\n",
            "Epoch 33/50\n",
            "190/190 [==============================] - 0s 2ms/step - loss: 1.6324 - val_loss: 2.1366\n",
            "Epoch 34/50\n",
            "190/190 [==============================] - 0s 2ms/step - loss: 1.6279 - val_loss: 2.1126\n",
            "Epoch 35/50\n",
            "190/190 [==============================] - 0s 2ms/step - loss: 1.6271 - val_loss: 2.3563\n",
            "Epoch 36/50\n",
            "190/190 [==============================] - 0s 2ms/step - loss: 1.6174 - val_loss: 1.8882\n",
            "Epoch 37/50\n",
            "190/190 [==============================] - 0s 2ms/step - loss: 1.6209 - val_loss: 2.4239\n",
            "Epoch 38/50\n",
            "190/190 [==============================] - 0s 2ms/step - loss: 1.6285 - val_loss: 2.0204\n",
            "Epoch 39/50\n",
            "190/190 [==============================] - 0s 2ms/step - loss: 1.6152 - val_loss: 1.9355\n",
            "Epoch 40/50\n",
            "190/190 [==============================] - 0s 2ms/step - loss: 1.6161 - val_loss: 1.9816\n",
            "Epoch 41/50\n",
            "190/190 [==============================] - 0s 3ms/step - loss: 1.6021 - val_loss: 2.1075\n",
            "Epoch 42/50\n",
            "190/190 [==============================] - 0s 2ms/step - loss: 1.6092 - val_loss: 1.9506\n",
            "Epoch 43/50\n",
            "190/190 [==============================] - 0s 2ms/step - loss: 1.6109 - val_loss: 1.8983\n",
            "Epoch 44/50\n",
            "190/190 [==============================] - 0s 2ms/step - loss: 1.6178 - val_loss: 1.8482\n",
            "Epoch 45/50\n",
            "190/190 [==============================] - 0s 2ms/step - loss: 1.6124 - val_loss: 2.4298\n",
            "Epoch 46/50\n",
            "190/190 [==============================] - 0s 2ms/step - loss: 1.6159 - val_loss: 1.8629\n",
            "Epoch 47/50\n",
            "190/190 [==============================] - 0s 2ms/step - loss: 1.6119 - val_loss: 1.8628\n",
            "Epoch 48/50\n",
            "190/190 [==============================] - 0s 2ms/step - loss: 1.6065 - val_loss: 1.8408\n",
            "Epoch 49/50\n",
            "190/190 [==============================] - 0s 2ms/step - loss: 1.6117 - val_loss: 1.9696\n",
            "Epoch 50/50\n",
            "190/190 [==============================] - 0s 2ms/step - loss: 1.6062 - val_loss: 1.9280\n"
          ]
        },
        {
          "output_type": "execute_result",
          "data": {
            "text/plain": [
              "<keras.callbacks.History at 0x7f1ca9c63e10>"
            ]
          },
          "metadata": {},
          "execution_count": 67
        }
      ]
    },
    {
      "cell_type": "code",
      "source": [
        "loss = model.evaluate(features.to_numpy(),\n",
        "target.to_numpy())\n",
        "print('loss:', loss)"
      ],
      "metadata": {
        "colab": {
          "base_uri": "https://localhost:8080/"
        },
        "id": "kd71iZSygcLb",
        "outputId": "2501c750-1b46-4184-8b54-fdd2989d8d8d"
      },
      "execution_count": 68,
      "outputs": [
        {
          "output_type": "stream",
          "name": "stdout",
          "text": [
            "238/238 [==============================] - 0s 2ms/step - loss: 1.8641\n",
            "loss: 1.864100456237793\n"
          ]
        }
      ]
    },
    {
      "cell_type": "markdown",
      "source": [
        "### Exercise 9: Creating a Logistic Regression Model as an ANN with TensorFlow"
      ],
      "metadata": {
        "id": "MzSR2qz_g8su"
      }
    },
    {
      "cell_type": "code",
      "source": [
        "import tensorflow as tf\n",
        "import pandas as pd"
      ],
      "metadata": {
        "id": "zhz6K8utg6Wm"
      },
      "execution_count": 69,
      "outputs": []
    },
    {
      "cell_type": "code",
      "source": [
        "df = pd.read_csv('qsar_androgen_receptor.csv', sep=';')"
      ],
      "metadata": {
        "id": "TJgiXc9qhBXq"
      },
      "execution_count": 74,
      "outputs": []
    },
    {
      "cell_type": "code",
      "source": [
        "df.dropna(inplace=True)"
      ],
      "metadata": {
        "id": "jjgyIIg5hDaP"
      },
      "execution_count": 75,
      "outputs": []
    },
    {
      "cell_type": "code",
      "source": [
        "target = df['positive'].apply(lambda x: 1 if\n",
        "x=='positive' else 0)\n",
        "features = df.drop('positive', axis=1)"
      ],
      "metadata": {
        "id": "e68JAcvmiBTV"
      },
      "execution_count": 76,
      "outputs": []
    },
    {
      "cell_type": "code",
      "source": [
        "model = tf.keras.Sequential()"
      ],
      "metadata": {
        "id": "Jg3r2-HtiDM7"
      },
      "execution_count": 77,
      "outputs": []
    },
    {
      "cell_type": "code",
      "source": [
        "model.add(tf.keras.layers.InputLayer\\\n",
        "(input_shape=(features.shape[1],), \\\n",
        "name='Input_layer'))"
      ],
      "metadata": {
        "id": "ne2_YffiiFKX"
      },
      "execution_count": 78,
      "outputs": []
    },
    {
      "cell_type": "code",
      "source": [
        "model.add(tf.keras.layers.Dense(1,\n",
        "name='Output_layer', \\\n",
        "activation='sigmoid')\n",
        ")"
      ],
      "metadata": {
        "id": "1OZNaVUEiHkc"
      },
      "execution_count": 79,
      "outputs": []
    },
    {
      "cell_type": "code",
      "source": [
        "model.compile(tf.optimizers.RMSprop(0.0001), \\\n",
        "loss='binary_crossentropy',\n",
        "metrics=['accuracy'])"
      ],
      "metadata": {
        "id": "yctWShVKiLEP"
      },
      "execution_count": 80,
      "outputs": []
    },
    {
      "cell_type": "code",
      "source": [
        "tensorboard_callback = tf.keras.callbacks.TensorBoard(log_dir=\"./logs\")"
      ],
      "metadata": {
        "id": "yMu9e35IiTDo"
      },
      "execution_count": 83,
      "outputs": []
    },
    {
      "cell_type": "code",
      "source": [
        "model.fit(x=features.to_numpy(), y=target.to_numpy(),\n",
        "epochs=50, callbacks=[tensorboard_callback], validation_split=0.2)"
      ],
      "metadata": {
        "colab": {
          "base_uri": "https://localhost:8080/"
        },
        "id": "s6tu4ljUiVCY",
        "outputId": "394f3dcc-5335-4f41-bde0-6927640ba585"
      },
      "execution_count": 84,
      "outputs": [
        {
          "output_type": "stream",
          "name": "stdout",
          "text": [
            "Epoch 1/50\n",
            "43/43 [==============================] - 1s 6ms/step - loss: 0.6290 - accuracy: 0.7107 - val_loss: 0.5283 - val_accuracy: 0.8728\n",
            "Epoch 2/50\n",
            "43/43 [==============================] - 0s 3ms/step - loss: 0.5787 - accuracy: 0.8049 - val_loss: 0.4615 - val_accuracy: 0.9201\n",
            "Epoch 3/50\n",
            "43/43 [==============================] - 0s 3ms/step - loss: 0.5438 - accuracy: 0.8383 - val_loss: 0.4154 - val_accuracy: 0.9231\n",
            "Epoch 4/50\n",
            "43/43 [==============================] - 0s 3ms/step - loss: 0.5182 - accuracy: 0.8591 - val_loss: 0.3848 - val_accuracy: 0.9231\n",
            "Epoch 5/50\n",
            "43/43 [==============================] - 0s 3ms/step - loss: 0.4993 - accuracy: 0.8665 - val_loss: 0.3641 - val_accuracy: 0.9260\n",
            "Epoch 6/50\n",
            "43/43 [==============================] - 0s 3ms/step - loss: 0.4844 - accuracy: 0.8694 - val_loss: 0.3469 - val_accuracy: 0.9260\n",
            "Epoch 7/50\n",
            "43/43 [==============================] - 0s 3ms/step - loss: 0.4714 - accuracy: 0.8702 - val_loss: 0.3363 - val_accuracy: 0.9260\n",
            "Epoch 8/50\n",
            "43/43 [==============================] - 0s 3ms/step - loss: 0.4608 - accuracy: 0.8702 - val_loss: 0.3263 - val_accuracy: 0.9260\n",
            "Epoch 9/50\n",
            "43/43 [==============================] - 0s 3ms/step - loss: 0.4513 - accuracy: 0.8709 - val_loss: 0.3207 - val_accuracy: 0.9260\n",
            "Epoch 10/50\n",
            "43/43 [==============================] - 0s 3ms/step - loss: 0.4433 - accuracy: 0.8709 - val_loss: 0.3148 - val_accuracy: 0.9260\n",
            "Epoch 11/50\n",
            "43/43 [==============================] - 0s 3ms/step - loss: 0.4353 - accuracy: 0.8709 - val_loss: 0.3097 - val_accuracy: 0.9260\n",
            "Epoch 12/50\n",
            "43/43 [==============================] - 0s 3ms/step - loss: 0.4275 - accuracy: 0.8709 - val_loss: 0.3059 - val_accuracy: 0.9260\n",
            "Epoch 13/50\n",
            "43/43 [==============================] - 0s 3ms/step - loss: 0.4201 - accuracy: 0.8709 - val_loss: 0.3027 - val_accuracy: 0.9260\n",
            "Epoch 14/50\n",
            "43/43 [==============================] - 0s 3ms/step - loss: 0.4130 - accuracy: 0.8717 - val_loss: 0.3009 - val_accuracy: 0.9260\n",
            "Epoch 15/50\n",
            "43/43 [==============================] - 0s 3ms/step - loss: 0.4064 - accuracy: 0.8724 - val_loss: 0.2984 - val_accuracy: 0.9260\n",
            "Epoch 16/50\n",
            "43/43 [==============================] - 0s 3ms/step - loss: 0.3998 - accuracy: 0.8724 - val_loss: 0.2976 - val_accuracy: 0.9231\n",
            "Epoch 17/50\n",
            "43/43 [==============================] - 0s 3ms/step - loss: 0.3933 - accuracy: 0.8731 - val_loss: 0.2951 - val_accuracy: 0.9231\n",
            "Epoch 18/50\n",
            "43/43 [==============================] - 0s 3ms/step - loss: 0.3872 - accuracy: 0.8754 - val_loss: 0.2938 - val_accuracy: 0.9231\n",
            "Epoch 19/50\n",
            "43/43 [==============================] - 0s 3ms/step - loss: 0.3813 - accuracy: 0.8754 - val_loss: 0.2932 - val_accuracy: 0.9260\n",
            "Epoch 20/50\n",
            "43/43 [==============================] - 0s 3ms/step - loss: 0.3756 - accuracy: 0.8754 - val_loss: 0.2915 - val_accuracy: 0.9260\n",
            "Epoch 21/50\n",
            "43/43 [==============================] - 0s 3ms/step - loss: 0.3705 - accuracy: 0.8761 - val_loss: 0.2908 - val_accuracy: 0.9260\n",
            "Epoch 22/50\n",
            "43/43 [==============================] - 0s 3ms/step - loss: 0.3653 - accuracy: 0.8761 - val_loss: 0.2909 - val_accuracy: 0.9290\n",
            "Epoch 23/50\n",
            "43/43 [==============================] - 0s 3ms/step - loss: 0.3601 - accuracy: 0.8783 - val_loss: 0.2913 - val_accuracy: 0.9320\n",
            "Epoch 24/50\n",
            "43/43 [==============================] - 0s 3ms/step - loss: 0.3550 - accuracy: 0.8791 - val_loss: 0.2903 - val_accuracy: 0.9320\n",
            "Epoch 25/50\n",
            "43/43 [==============================] - 0s 3ms/step - loss: 0.3502 - accuracy: 0.8798 - val_loss: 0.2905 - val_accuracy: 0.9349\n",
            "Epoch 26/50\n",
            "43/43 [==============================] - 0s 3ms/step - loss: 0.3457 - accuracy: 0.8813 - val_loss: 0.2916 - val_accuracy: 0.9379\n",
            "Epoch 27/50\n",
            "43/43 [==============================] - 0s 3ms/step - loss: 0.3413 - accuracy: 0.8813 - val_loss: 0.2911 - val_accuracy: 0.9379\n",
            "Epoch 28/50\n",
            "43/43 [==============================] - 0s 3ms/step - loss: 0.3370 - accuracy: 0.8843 - val_loss: 0.2905 - val_accuracy: 0.9349\n",
            "Epoch 29/50\n",
            "43/43 [==============================] - 0s 3ms/step - loss: 0.3328 - accuracy: 0.8850 - val_loss: 0.2909 - val_accuracy: 0.9320\n",
            "Epoch 30/50\n",
            "43/43 [==============================] - 0s 3ms/step - loss: 0.3288 - accuracy: 0.8843 - val_loss: 0.2905 - val_accuracy: 0.9320\n",
            "Epoch 31/50\n",
            "43/43 [==============================] - 0s 3ms/step - loss: 0.3249 - accuracy: 0.8858 - val_loss: 0.2915 - val_accuracy: 0.9320\n",
            "Epoch 32/50\n",
            "43/43 [==============================] - 0s 3ms/step - loss: 0.3211 - accuracy: 0.8872 - val_loss: 0.2920 - val_accuracy: 0.9290\n",
            "Epoch 33/50\n",
            "43/43 [==============================] - 0s 4ms/step - loss: 0.3174 - accuracy: 0.8872 - val_loss: 0.2923 - val_accuracy: 0.9320\n",
            "Epoch 34/50\n",
            "43/43 [==============================] - 0s 3ms/step - loss: 0.3140 - accuracy: 0.8872 - val_loss: 0.2929 - val_accuracy: 0.9290\n",
            "Epoch 35/50\n",
            "43/43 [==============================] - 0s 3ms/step - loss: 0.3106 - accuracy: 0.8902 - val_loss: 0.2937 - val_accuracy: 0.9290\n",
            "Epoch 36/50\n",
            "43/43 [==============================] - 0s 3ms/step - loss: 0.3075 - accuracy: 0.8917 - val_loss: 0.2967 - val_accuracy: 0.9260\n",
            "Epoch 37/50\n",
            "43/43 [==============================] - 0s 3ms/step - loss: 0.3045 - accuracy: 0.8939 - val_loss: 0.2952 - val_accuracy: 0.9260\n",
            "Epoch 38/50\n",
            "43/43 [==============================] - 0s 3ms/step - loss: 0.3017 - accuracy: 0.8932 - val_loss: 0.2970 - val_accuracy: 0.9231\n",
            "Epoch 39/50\n",
            "43/43 [==============================] - 0s 3ms/step - loss: 0.2988 - accuracy: 0.8954 - val_loss: 0.2988 - val_accuracy: 0.9260\n",
            "Epoch 40/50\n",
            "43/43 [==============================] - 0s 3ms/step - loss: 0.2961 - accuracy: 0.8999 - val_loss: 0.2998 - val_accuracy: 0.9290\n",
            "Epoch 41/50\n",
            "43/43 [==============================] - 0s 3ms/step - loss: 0.2935 - accuracy: 0.9021 - val_loss: 0.2995 - val_accuracy: 0.9260\n",
            "Epoch 42/50\n",
            "43/43 [==============================] - 0s 3ms/step - loss: 0.2910 - accuracy: 0.9021 - val_loss: 0.2997 - val_accuracy: 0.9260\n",
            "Epoch 43/50\n",
            "43/43 [==============================] - 0s 3ms/step - loss: 0.2885 - accuracy: 0.9036 - val_loss: 0.2982 - val_accuracy: 0.9260\n",
            "Epoch 44/50\n",
            "43/43 [==============================] - 0s 3ms/step - loss: 0.2862 - accuracy: 0.9028 - val_loss: 0.2996 - val_accuracy: 0.9260\n",
            "Epoch 45/50\n",
            "43/43 [==============================] - 0s 3ms/step - loss: 0.2837 - accuracy: 0.9036 - val_loss: 0.3001 - val_accuracy: 0.9201\n",
            "Epoch 46/50\n",
            "43/43 [==============================] - 0s 3ms/step - loss: 0.2815 - accuracy: 0.9050 - val_loss: 0.3011 - val_accuracy: 0.9172\n",
            "Epoch 47/50\n",
            "43/43 [==============================] - 0s 3ms/step - loss: 0.2793 - accuracy: 0.9050 - val_loss: 0.3037 - val_accuracy: 0.9172\n",
            "Epoch 48/50\n",
            "43/43 [==============================] - 0s 3ms/step - loss: 0.2771 - accuracy: 0.9050 - val_loss: 0.3060 - val_accuracy: 0.9142\n",
            "Epoch 49/50\n",
            "43/43 [==============================] - 0s 3ms/step - loss: 0.2751 - accuracy: 0.9095 - val_loss: 0.3054 - val_accuracy: 0.9112\n",
            "Epoch 50/50\n",
            "43/43 [==============================] - 0s 3ms/step - loss: 0.2732 - accuracy: 0.9110 - val_loss: 0.3046 - val_accuracy: 0.9112\n"
          ]
        },
        {
          "output_type": "execute_result",
          "data": {
            "text/plain": [
              "<keras.callbacks.History at 0x7f1cae1ad490>"
            ]
          },
          "metadata": {},
          "execution_count": 84
        }
      ]
    },
    {
      "cell_type": "code",
      "source": [
        "loss, accuracy = model.evaluate(features.to_numpy(),\n",
        "\\\n",
        "target.to_numpy())\n",
        "print(f'loss: {loss}, accuracy: {accuracy}')"
      ],
      "metadata": {
        "colab": {
          "base_uri": "https://localhost:8080/"
        },
        "id": "QbgDFjqqiizH",
        "outputId": "3eee42d2-8b01-4432-c022-fad937381745"
      },
      "execution_count": 85,
      "outputs": [
        {
          "output_type": "stream",
          "name": "stdout",
          "text": [
            "53/53 [==============================] - 0s 2ms/step - loss: 0.2782 - accuracy: 0.9116\n",
            "loss: 0.278238445520401, accuracy: 0.9116251468658447\n"
          ]
        }
      ]
    },
    {
      "cell_type": "code",
      "source": [],
      "metadata": {
        "id": "D2l2YPTBij6j"
      },
      "execution_count": null,
      "outputs": []
    }
  ]
}
{
  "cells": [
    {
      "cell_type": "markdown",
      "id": "915c2dfa",
      "metadata": {
        "id": "915c2dfa"
      },
      "source": [
        "### This Notebook has got two parts. \n",
        "### You may want to work on the Part I first, which is at the bottom of this page. \n",
        "### Then come back to the Part II  in the top."
      ]
    },
    {
      "cell_type": "markdown",
      "id": "deb82a08",
      "metadata": {
        "id": "deb82a08"
      },
      "source": [
        "# Part II Problem Exercises"
      ]
    },
    {
      "cell_type": "markdown",
      "id": "246caaa3",
      "metadata": {
        "id": "246caaa3"
      },
      "source": [
        "## Exercise 1, with List\n",
        "Create a list called `years_list`, starting with the year of your birth, and each year thereafter until the year of your fifth birthday. For example, if you were born in 1980, the list would be `years_list = [1980, 1981, 1982, 1983, 1984, 1985]`.   ((We are NOT going to check if your year of birth in this exercise is matching with your true records.))\n",
        "\n",
        "In which year in `years_list` was your third birthday? Remember, you were 0 years of age for your first year."
      ]
    },
    {
      "cell_type": "markdown",
      "id": "ea29c84e",
      "metadata": {
        "id": "ea29c84e"
      },
      "source": [
        "### Notes on Lists\n",
        "\n",
        "A list is a sequence of elements ordered by their position. Duplicates are allowed. Lists provide high-performance indexed access. Since the list is a sequential data type, it possesses all the previously described operators for sequences. In addition, the following indexed, 0-based accesses and operations can be performed on lists:\n",
        "\n",
        "`pop(i)` returns the ith element of the list and removes it from the list. By default (i. e., without specifying the index), the first element is returned.\n",
        "\n",
        "`list[i] = element` replaces the element at position i with the passed element.\n",
        "\n",
        "`append(element)` appends the element to the end of the list.\n",
        "\n",
        "`insert(i, element)` inserts the element at index i in the list.\n",
        "\n",
        "`extend(other_list)` appends the elements of other_list to the end of the list.\n",
        "\n",
        "`count(value)` counts how many times the value value occurs in the list.\n",
        "\n",
        "`index(value)` returns the index where the value value first occurs in the list.\n",
        "\n",
        "`remove(value)` removes the element with the value value from the list. Only the first one will be deleted if multiple elements with this value exist. If there is no such value, a ValueError is raised.\n",
        "\n",
        "`reverse()` reverses the order of the elements in the list.\n",
        "\n",
        "`sort()` sorts the list in ascending order. An inverse (descending) sort is obtained with sort(reverse=True).\n",
        "\n",
        "A list is a sequence of elements ordered by their position. Duplicates are allowed. Lists provide high-performance indexed access. Since the list is a sequential data type, it possesses all theoperators for sequences. In addition, 0-based accesses and operations can be performed on lists.\n"
      ]
    },
    {
      "cell_type": "code",
      "source": [
        "years_list = [i for i in range(2001,2001+6)]\n",
        "years_list"
      ],
      "metadata": {
        "colab": {
          "base_uri": "https://localhost:8080/"
        },
        "id": "OXX3WjlD1Aur",
        "outputId": "5274740e-1139-4796-829f-4b8a2427e3c2"
      },
      "id": "OXX3WjlD1Aur",
      "execution_count": null,
      "outputs": [
        {
          "output_type": "execute_result",
          "data": {
            "text/plain": [
              "[2001, 2002, 2003, 2004, 2005, 2006]"
            ]
          },
          "metadata": {},
          "execution_count": 64
        }
      ]
    },
    {
      "cell_type": "code",
      "source": [
        "years_list[3]"
      ],
      "metadata": {
        "colab": {
          "base_uri": "https://localhost:8080/"
        },
        "id": "-pnJFk-q20ry",
        "outputId": "08525321-eb9a-4972-c195-90281bea178e"
      },
      "id": "-pnJFk-q20ry",
      "execution_count": null,
      "outputs": [
        {
          "output_type": "execute_result",
          "data": {
            "text/plain": [
              "2004"
            ]
          },
          "metadata": {},
          "execution_count": 65
        }
      ]
    },
    {
      "cell_type": "markdown",
      "id": "662beb47",
      "metadata": {
        "id": "662beb47"
      },
      "source": [
        "## Exercise 2, with List methods\n",
        "Now create two lists, then add few elements, remove some elements in one of the lists, then `append` one list with another list, `reverse` the list and demonstrate the use of these methods in the lists.\n",
        "For example,\n",
        "\n",
        "`numbers = [1, 2, 3, 4]`\n",
        "\n",
        "`names = [\"Peter\", \"Tim\", \"Mike\", \"Tom\", \"Mike\"]`\n",
        "\n",
        "`names.append(\"Tom\")`\n",
        "\n",
        "Create such lists, experiment with these methods and print them."
      ]
    },
    {
      "cell_type": "code",
      "source": [
        "numbers = [1, 2, 3, 4]\n",
        "\n",
        "names = [\"Peter\", \"Tim\", \"Mike\", \"Tom\", \"Mike\"]\n",
        "\n",
        "names.append(\"Tom\")"
      ],
      "metadata": {
        "id": "9IEyQ3PW275x"
      },
      "id": "9IEyQ3PW275x",
      "execution_count": null,
      "outputs": []
    },
    {
      "cell_type": "code",
      "source": [
        "numbers.append(names)\n",
        "numbers.reverse()"
      ],
      "metadata": {
        "id": "ipMhCY4W3JTv"
      },
      "id": "ipMhCY4W3JTv",
      "execution_count": null,
      "outputs": []
    },
    {
      "cell_type": "code",
      "source": [
        "print(numbers)"
      ],
      "metadata": {
        "colab": {
          "base_uri": "https://localhost:8080/"
        },
        "id": "Wxp_PmKL3O3P",
        "outputId": "3311e005-b8a5-4790-9711-13aee65093b6"
      },
      "id": "Wxp_PmKL3O3P",
      "execution_count": null,
      "outputs": [
        {
          "output_type": "stream",
          "name": "stdout",
          "text": [
            "[['Peter', 'Tim', 'Mike', 'Tom', 'Mike', 'Tom'], 4, 3, 2, 1]\n"
          ]
        }
      ]
    },
    {
      "cell_type": "markdown",
      "id": "f7eebc90",
      "metadata": {
        "id": "f7eebc90"
      },
      "source": [
        "## Exercise 3, with Sets\n",
        "Find the common elements of two lists, A and B, and return them as a set using 'intersection' method\n",
        "\n",
        "Examples\n",
        "\n",
        "list1 = [1, 2, 4, 7, 8] \n",
        "\n",
        "list2 = [2, 3, 7, 9] \n",
        "\n",
        "result = {2, 7}\n"
      ]
    },
    {
      "cell_type": "code",
      "source": [
        "list1 = [1, 2, 4, 7, 8]\n",
        "\n",
        "list2 = [2, 3, 7, 9]\n",
        "\n",
        "list(set(list1).intersection(list2))"
      ],
      "metadata": {
        "colab": {
          "base_uri": "https://localhost:8080/"
        },
        "id": "efjhBMRY3sp9",
        "outputId": "ecf80687-29c2-4d7c-ad6c-0f1cd6334d04"
      },
      "id": "efjhBMRY3sp9",
      "execution_count": null,
      "outputs": [
        {
          "output_type": "execute_result",
          "data": {
            "text/plain": [
              "[2, 7]"
            ]
          },
          "metadata": {},
          "execution_count": 72
        }
      ]
    },
    {
      "cell_type": "markdown",
      "id": "4c2d1c6e",
      "metadata": {
        "id": "4c2d1c6e"
      },
      "source": [
        "## Exercise 3: Create Dictionary\n",
        "Define a dict, `menu`, that contains the items and prices in rupees on a restaurant menu\n",
        "\n",
        "- sandwich is 45\n",
        "- coffee is 22\n",
        "- juice is 50\n",
        "- cake is 63"
      ]
    },
    {
      "cell_type": "code",
      "source": [
        "menu = { 'sandwich': 45 , 'coffee':22 , 'juice':50 , 'cake':63}"
      ],
      "metadata": {
        "id": "jW1HizOp4JqP"
      },
      "id": "jW1HizOp4JqP",
      "execution_count": null,
      "outputs": []
    },
    {
      "cell_type": "markdown",
      "id": "e93283fd",
      "metadata": {
        "id": "e93283fd"
      },
      "source": [
        "## Exercise 4: Odds and evens\n",
        "\n",
        "1. Define two empty lists, `odds` and `evens`.\n",
        "2. Ask the user, repeatedly, to enter a number.\n",
        "     - If they enter an empty string, exit the loop\n",
        "     - If they enter a non-numeric string, scold them and try again\n",
        "     - Turn the user's input into an integer, and check if it's odd or even. If it's odd, add it to `odds`. If it's even, add it to `evens`.\n",
        "3. After the loop, print both `odds` and `evens`.  "
      ]
    },
    {
      "cell_type": "code",
      "source": [
        "odd = []\n",
        "even = []\n",
        "\n",
        "u_input = input('Enter a number : ')\n",
        "if u_input == '':\n",
        "  exit\n",
        "if u_input.isnumeric()== False:\n",
        "  print(\"Please try again\")\n",
        "  \n",
        "\n",
        "elif u_input.isnumeric()== True:\n",
        "  num = int(u_input)\n",
        "  if num%2 == 0:\n",
        "    print(\"Number is even\")\n",
        "  else:\n",
        "    print(\"Number is odd\")\n",
        "\n",
        "\n"
      ],
      "metadata": {
        "colab": {
          "base_uri": "https://localhost:8080/"
        },
        "id": "TBicfOgz4Wp5",
        "outputId": "3086dc90-bed1-4b3f-d836-5c70fb388d67"
      },
      "id": "TBicfOgz4Wp5",
      "execution_count": null,
      "outputs": [
        {
          "output_type": "stream",
          "name": "stdout",
          "text": [
            "Enter a number : 24\n",
            "Number is even\n"
          ]
        }
      ]
    },
    {
      "cell_type": "markdown",
      "id": "68f24b79",
      "metadata": {
        "id": "68f24b79"
      },
      "source": [
        "## Exercise 5: Vowels, digits, and others\n",
        "\n",
        "1. Define a `counts` dict with three keys: `vowels`, `digits`, and `others`.  All three should have the value 0.\n",
        "2. Ask the user, repeatedly, to enter a string.\n",
        "    - If they enter an empty string, stop asking, and print `counts`.\n",
        "3. Go through each character in the entered string, and check:\n",
        "    - Is it a vowel? If so, add 1 to `counts['vowels']`\n",
        "    - Is it a digit? If so, add 1 to `counts['digits']`\n",
        "    - If neither, add 1 to `counts['others']`.\n",
        "    \n",
        "Example:\n",
        "\n",
        "    Enter string: hello\n",
        "    Enter string: bye 123\n",
        "    Enter string: [ENTER]\n",
        "    {'vowels':3, 'digits':3, 'others':6}"
      ]
    },
    {
      "cell_type": "code",
      "source": [
        "counts = {'vowels':0 , 'digits':0 , 'others':0}\n",
        "avowels = ('a', 'e', 'i', 'o', 'u')\n",
        "inp = input('Enter a string please : ')\n",
        "if inp=='':\n",
        "  print(counts)\n",
        "  exit\n",
        "\n",
        "else:\n",
        "  for i in str(inp):\n",
        "    if i in avowels:\n",
        "      counts['vowels']=counts['vowels'] + 1\n",
        "    elif i.isnumeric== True:\n",
        "      counts['digits'] = counts['digits'] + 1\n",
        "    else:\n",
        "      counts['others']= counts['others'] + 1\n",
        "     \n",
        "print(counts)"
      ],
      "metadata": {
        "colab": {
          "base_uri": "https://localhost:8080/"
        },
        "id": "9VJ7AzgI6bs1",
        "outputId": "7994d32f-8418-4f31-fa21-6494eda0b09e"
      },
      "id": "9VJ7AzgI6bs1",
      "execution_count": null,
      "outputs": [
        {
          "output_type": "stream",
          "name": "stdout",
          "text": [
            "Enter a string please : rid\n",
            "{'vowels': 1, 'digits': 0, 'others': 2}\n"
          ]
        }
      ]
    },
    {
      "cell_type": "markdown",
      "id": "54738c92",
      "metadata": {
        "id": "54738c92"
      },
      "source": [
        "# Part I Practice Exercises\n",
        "\n",
        "### To make things easier, first work on the Practice Exercises given in the pdf file and enter them in cells below."
      ]
    },
    {
      "cell_type": "markdown",
      "source": [
        "### Exercise 1"
      ],
      "metadata": {
        "id": "wXxqqy_Xl3wU"
      },
      "id": "wXxqqy_Xl3wU"
    },
    {
      "cell_type": "code",
      "execution_count": null,
      "id": "fda589fb",
      "metadata": {
        "id": "fda589fb",
        "colab": {
          "base_uri": "https://localhost:8080/"
        },
        "outputId": "7d11c3ab-33f0-4b09-9462-3fbb24455554"
      },
      "outputs": [
        {
          "output_type": "stream",
          "name": "stdout",
          "text": [
            "['bread', 'milk', 'eggs']\n"
          ]
        }
      ],
      "source": [
        "shopping = ['bread' , 'milk', 'eggs']\n",
        "print(shopping)"
      ]
    },
    {
      "cell_type": "code",
      "execution_count": null,
      "id": "bf8292cf",
      "metadata": {
        "id": "bf8292cf",
        "colab": {
          "base_uri": "https://localhost:8080/"
        },
        "outputId": "d7a24d88-457a-4846-ac40-ac2a948ec3c2"
      },
      "outputs": [
        {
          "output_type": "stream",
          "name": "stdout",
          "text": [
            "bread\n",
            "milk\n",
            "eggs\n"
          ]
        }
      ],
      "source": [
        "i=0\n",
        "for i in shopping:\n",
        "  print(i)\n",
        "  "
      ]
    },
    {
      "cell_type": "code",
      "execution_count": null,
      "id": "767e869d",
      "metadata": {
        "id": "767e869d",
        "colab": {
          "base_uri": "https://localhost:8080/"
        },
        "outputId": "d5a24d42-219a-4496-bc00-65a96d6bdbfd"
      },
      "outputs": [
        {
          "output_type": "stream",
          "name": "stdout",
          "text": [
            "[365, 'days', True]\n"
          ]
        }
      ],
      "source": [
        "mixed = [365, \"days\", True]\n",
        "print(mixed)"
      ]
    },
    {
      "cell_type": "markdown",
      "source": [
        "### Exercise 2 : Basic List Operations"
      ],
      "metadata": {
        "id": "KN3fi7NwqVKx"
      },
      "id": "KN3fi7NwqVKx"
    },
    {
      "cell_type": "code",
      "execution_count": null,
      "id": "df8e1db3",
      "metadata": {
        "id": "df8e1db3",
        "colab": {
          "base_uri": "https://localhost:8080/"
        },
        "outputId": "a7b5c090-d8b8-4dd1-b18b-3b99fa35676f"
      },
      "outputs": [
        {
          "output_type": "stream",
          "name": "stdout",
          "text": [
            "3\n"
          ]
        }
      ],
      "source": [
        "shopping = [\"bread\",\"milk\", \"eggs\"]\n",
        "print(len(shopping))"
      ]
    },
    {
      "cell_type": "code",
      "execution_count": null,
      "id": "3f7ba376",
      "metadata": {
        "id": "3f7ba376",
        "colab": {
          "base_uri": "https://localhost:8080/"
        },
        "outputId": "2fde95d2-7ee5-4ace-db13-528875bc56b8"
      },
      "outputs": [
        {
          "output_type": "stream",
          "name": "stdout",
          "text": [
            "[1, 2, 3, 4, 5, 6]\n"
          ]
        }
      ],
      "source": [
        "list1 = [1,2,3]\n",
        "list2 = [4,5,6]\n",
        "final_list = list1 + list2\n",
        "print(final_list)"
      ]
    },
    {
      "cell_type": "code",
      "source": [
        "list3 = ['iiserb']\n",
        "print(list3*3)"
      ],
      "metadata": {
        "colab": {
          "base_uri": "https://localhost:8080/"
        },
        "id": "ndyOYnOTtStq",
        "outputId": "d2eaac78-7103-4e59-d6e4-66c26ccff780"
      },
      "id": "ndyOYnOTtStq",
      "execution_count": null,
      "outputs": [
        {
          "output_type": "stream",
          "name": "stdout",
          "text": [
            "['iiserb', 'iiserb', 'iiserb']\n"
          ]
        }
      ]
    },
    {
      "cell_type": "markdown",
      "source": [
        "### Exercise 3: Accessing an Item from Shopping List Data"
      ],
      "metadata": {
        "id": "17PvX5ORs112"
      },
      "id": "17PvX5ORs112"
    },
    {
      "cell_type": "code",
      "execution_count": null,
      "id": "40580859",
      "metadata": {
        "id": "40580859",
        "colab": {
          "base_uri": "https://localhost:8080/"
        },
        "outputId": "cf798a5c-596e-44a7-843e-987a209973c0"
      },
      "outputs": [
        {
          "output_type": "stream",
          "name": "stdout",
          "text": [
            "milk\n"
          ]
        }
      ],
      "source": [
        "shopping = [\"bread\",\"milk\", \"eggs\"]\n",
        "print(shopping[1])"
      ]
    },
    {
      "cell_type": "code",
      "execution_count": null,
      "id": "d24e7469",
      "metadata": {
        "id": "d24e7469"
      },
      "outputs": [],
      "source": [
        "shopping[1] = \"banana\""
      ]
    },
    {
      "cell_type": "code",
      "execution_count": null,
      "id": "6edbbd43",
      "metadata": {
        "id": "6edbbd43",
        "colab": {
          "base_uri": "https://localhost:8080/"
        },
        "outputId": "f726deeb-5918-4ab3-8884-866c70c3bc36"
      },
      "outputs": [
        {
          "output_type": "stream",
          "name": "stdout",
          "text": [
            "['bread', 'banana', 'eggs']\n"
          ]
        }
      ],
      "source": [
        "print(shopping)"
      ]
    },
    {
      "cell_type": "code",
      "execution_count": null,
      "id": "706e9f3c",
      "metadata": {
        "id": "706e9f3c",
        "colab": {
          "base_uri": "https://localhost:8080/"
        },
        "outputId": "dc61078c-a281-4fd5-93f3-e1ce867dead2"
      },
      "outputs": [
        {
          "output_type": "stream",
          "name": "stdout",
          "text": [
            "eggs\n"
          ]
        }
      ],
      "source": [
        "print(shopping[-1])"
      ]
    },
    {
      "cell_type": "code",
      "execution_count": null,
      "id": "c723e8cb",
      "metadata": {
        "id": "c723e8cb",
        "colab": {
          "base_uri": "https://localhost:8080/"
        },
        "outputId": "191a7f43-c3ae-4812-c6a9-f5ce384873cd"
      },
      "outputs": [
        {
          "output_type": "stream",
          "name": "stdout",
          "text": [
            "['bread', 'banana']\n"
          ]
        }
      ],
      "source": [
        "print(shopping[0:2])"
      ]
    },
    {
      "cell_type": "code",
      "execution_count": null,
      "id": "50092331",
      "metadata": {
        "id": "50092331",
        "colab": {
          "base_uri": "https://localhost:8080/"
        },
        "outputId": "29e99199-f613-4145-c71b-117fc9cb24b4"
      },
      "outputs": [
        {
          "output_type": "stream",
          "name": "stdout",
          "text": [
            "['bread', 'banana', 'eggs']\n"
          ]
        }
      ],
      "source": [
        "print(shopping[0:3])"
      ]
    },
    {
      "cell_type": "code",
      "source": [
        "print(shopping[1:2])"
      ],
      "metadata": {
        "colab": {
          "base_uri": "https://localhost:8080/"
        },
        "id": "KXT1PyIRurkG",
        "outputId": "c57741a4-36de-4ae5-e5f3-7c082e46bd19"
      },
      "id": "KXT1PyIRurkG",
      "execution_count": null,
      "outputs": [
        {
          "output_type": "stream",
          "name": "stdout",
          "text": [
            "['banana']\n"
          ]
        }
      ]
    },
    {
      "cell_type": "markdown",
      "source": [
        "### Exercise 4: Adding Items to Our Shopping List"
      ],
      "metadata": {
        "id": "icVyJHynuuuy"
      },
      "id": "icVyJHynuuuy"
    },
    {
      "cell_type": "code",
      "source": [
        "shopping.append('apple')"
      ],
      "metadata": {
        "id": "-T9fPLycut_F"
      },
      "id": "-T9fPLycut_F",
      "execution_count": null,
      "outputs": []
    },
    {
      "cell_type": "code",
      "source": [
        "print(shopping)"
      ],
      "metadata": {
        "colab": {
          "base_uri": "https://localhost:8080/"
        },
        "id": "-Z5iDSBuuxn_",
        "outputId": "e1c1dbea-d09c-4b55-e5b8-631b9f3237bd"
      },
      "id": "-Z5iDSBuuxn_",
      "execution_count": null,
      "outputs": [
        {
          "output_type": "stream",
          "name": "stdout",
          "text": [
            "['bread', 'banana', 'eggs', 'apple']\n"
          ]
        }
      ]
    },
    {
      "cell_type": "code",
      "source": [
        "shopping = []"
      ],
      "metadata": {
        "id": "W4nxRu2lvLb6"
      },
      "id": "W4nxRu2lvLb6",
      "execution_count": null,
      "outputs": []
    },
    {
      "cell_type": "code",
      "source": [
        "shopping.append('bread')\n",
        "shopping.append('milk')\n",
        "shopping.append('eggs')\n",
        "shopping.append('apple')\n",
        "print(shopping)"
      ],
      "metadata": {
        "colab": {
          "base_uri": "https://localhost:8080/"
        },
        "id": "mL1TGEH6vNre",
        "outputId": "4e165aef-a568-4d22-c8b9-067d3d55f6dc"
      },
      "id": "mL1TGEH6vNre",
      "execution_count": null,
      "outputs": [
        {
          "output_type": "stream",
          "name": "stdout",
          "text": [
            "['bread', 'milk', 'eggs', 'apple']\n"
          ]
        }
      ]
    },
    {
      "cell_type": "code",
      "source": [
        "shopping.insert(2,'ham')\n",
        "print(shopping)"
      ],
      "metadata": {
        "colab": {
          "base_uri": "https://localhost:8080/"
        },
        "id": "f90AO9CbvaKj",
        "outputId": "6d0cb0f1-cc99-4563-93f1-ca182ca22727"
      },
      "id": "f90AO9CbvaKj",
      "execution_count": null,
      "outputs": [
        {
          "output_type": "stream",
          "name": "stdout",
          "text": [
            "['bread', 'milk', 'ham', 'eggs', 'apple']\n"
          ]
        }
      ]
    },
    {
      "cell_type": "markdown",
      "source": [
        "### Exercise 5: Using a Dictionary to Store a Movie Record"
      ],
      "metadata": {
        "id": "KWyjFuHWvvuv"
      },
      "id": "KWyjFuHWvvuv"
    },
    {
      "cell_type": "code",
      "source": [
        "movie = {\n",
        "\"title\": \"The Godfather\",\n",
        "\"director\": \"Francis Ford Coppola\",\n",
        "\"year\": 1972,\n",
        "\"rating\": 9.2\n",
        "}"
      ],
      "metadata": {
        "id": "7wM18wkLvnLA"
      },
      "id": "7wM18wkLvnLA",
      "execution_count": null,
      "outputs": []
    },
    {
      "cell_type": "code",
      "source": [
        "movie['year']"
      ],
      "metadata": {
        "colab": {
          "base_uri": "https://localhost:8080/"
        },
        "id": "yHV5Xb7ev17V",
        "outputId": "d8d71d6b-3957-4ef9-e031-8b8549252f37"
      },
      "id": "yHV5Xb7ev17V",
      "execution_count": null,
      "outputs": [
        {
          "output_type": "execute_result",
          "data": {
            "text/plain": [
              "1972"
            ]
          },
          "metadata": {},
          "execution_count": 30
        }
      ]
    },
    {
      "cell_type": "code",
      "source": [
        "movie['rating'] = (movie['rating'] + 9.3)/2"
      ],
      "metadata": {
        "id": "l_bsJkLmv6M3"
      },
      "id": "l_bsJkLmv6M3",
      "execution_count": null,
      "outputs": []
    },
    {
      "cell_type": "code",
      "source": [
        "print(movie['rating'])"
      ],
      "metadata": {
        "colab": {
          "base_uri": "https://localhost:8080/"
        },
        "id": "3bP3JOGhwp9U",
        "outputId": "7d044810-aaf6-4a7f-d315-63ab14a3a957"
      },
      "id": "3bP3JOGhwp9U",
      "execution_count": null,
      "outputs": [
        {
          "output_type": "stream",
          "name": "stdout",
          "text": [
            "9.25\n"
          ]
        }
      ]
    },
    {
      "cell_type": "code",
      "source": [
        "movie = {}\n",
        "movie['title'] = \"The Godfather\"\n",
        "movie['director'] = \"Francis Ford Coppola\"\n",
        "movie['year'] = 1972\n",
        "movie['rating'] = 9.2"
      ],
      "metadata": {
        "id": "X_pwsfG3wvBz"
      },
      "id": "X_pwsfG3wvBz",
      "execution_count": null,
      "outputs": []
    },
    {
      "cell_type": "code",
      "source": [
        "movie['actors'] = ['Marlon Brando', 'Al Pacino', 'James Caan']"
      ],
      "metadata": {
        "id": "OR7rPPAOwzBO"
      },
      "id": "OR7rPPAOwzBO",
      "execution_count": null,
      "outputs": []
    },
    {
      "cell_type": "code",
      "source": [
        "movie['other_details'] = {\n",
        "'runtime': 175,\n",
        "'language': 'English'\n",
        "}"
      ],
      "metadata": {
        "id": "ZLRNooZlxYlY"
      },
      "id": "ZLRNooZlxYlY",
      "execution_count": null,
      "outputs": []
    },
    {
      "cell_type": "code",
      "source": [
        "print(movie)"
      ],
      "metadata": {
        "colab": {
          "base_uri": "https://localhost:8080/"
        },
        "id": "hQ7bVgz-xf1_",
        "outputId": "54e2182b-e866-4ff1-b797-e00d04794dda"
      },
      "id": "hQ7bVgz-xf1_",
      "execution_count": null,
      "outputs": [
        {
          "output_type": "stream",
          "name": "stdout",
          "text": [
            "{'title': 'The Godfather', 'director': 'Francis Ford Coppola', 'year': 1972, 'rating': 9.2, 'actors': ['Marlon Brando', 'Al Pacino', 'James Caan'], 'other_details': {'runtime': 175, 'language': 'English'}}\n"
          ]
        }
      ]
    },
    {
      "cell_type": "markdown",
      "source": [
        "### Exercise 6: Storing Company Employee Table Data Using a List and a Dictionary"
      ],
      "metadata": {
        "id": "9X3lwJ0Oxj1t"
      },
      "id": "9X3lwJ0Oxj1t"
    },
    {
      "cell_type": "code",
      "source": [
        "employees = [{\"name\": \"John Mckee\", \"age\":38, \"department\":\"Sales\"},{\"name\" : \"Lisa Crawford\" , \"age\":29 , \"department\" : \"Marketing\"}, {\"name\" : \"Sujan Patel\" , \"age\" : 38 , \"department\" : \"HR\"}]"
      ],
      "metadata": {
        "id": "qrx_07L2xhCv"
      },
      "id": "qrx_07L2xhCv",
      "execution_count": null,
      "outputs": []
    },
    {
      "cell_type": "code",
      "source": [
        "for key in employees:\n",
        "  print(key)\n",
        "  print('-'*20)\n",
        "  \n"
      ],
      "metadata": {
        "colab": {
          "base_uri": "https://localhost:8080/"
        },
        "id": "0bbmSI3iynZo",
        "outputId": "6457518f-7df5-4274-8871-bfe22df750a0"
      },
      "id": "0bbmSI3iynZo",
      "execution_count": null,
      "outputs": [
        {
          "output_type": "stream",
          "name": "stdout",
          "text": [
            "{'name': 'John Mckee', 'age': 38, 'department': 'Sales'}\n",
            "--------------------\n",
            "{'name': 'Lisa Crawford', 'age': 29, 'department': 'Marketing'}\n",
            "--------------------\n",
            "{'name': 'Sujan Patel', 'age': 38, 'department': 'HR'}\n",
            "--------------------\n"
          ]
        }
      ]
    },
    {
      "cell_type": "code",
      "source": [
        "for employee in employees:\n",
        "\n",
        "  if employee['name'] == 'Sujan Patel':\n",
        "    print(employee)"
      ],
      "metadata": {
        "colab": {
          "base_uri": "https://localhost:8080/"
        },
        "id": "llAnj8QRy4Kw",
        "outputId": "68c28a70-b97e-44e9-8ac7-59a124cd94b8"
      },
      "id": "llAnj8QRy4Kw",
      "execution_count": null,
      "outputs": [
        {
          "output_type": "stream",
          "name": "stdout",
          "text": [
            "{'name': 'Sujan Patel', 'age': 38, 'department': 'HR'}\n"
          ]
        }
      ]
    },
    {
      "cell_type": "markdown",
      "source": [
        "### Exercise 7: Accessing a Dictionary Using Dictionary Methods"
      ],
      "metadata": {
        "id": "tKNtV1GzzIZ6"
      },
      "id": "tKNtV1GzzIZ6"
    },
    {
      "cell_type": "code",
      "source": [
        "orders = {'apple':5, 'orange':3, 'banana':2}\n",
        "print(orders.values())\n",
        "print(list(orders.values()))"
      ],
      "metadata": {
        "colab": {
          "base_uri": "https://localhost:8080/"
        },
        "id": "yrCMP6nGzM1o",
        "outputId": "130adb59-34dc-4f40-e69d-0dbdea20870d"
      },
      "id": "yrCMP6nGzM1o",
      "execution_count": null,
      "outputs": [
        {
          "output_type": "stream",
          "name": "stdout",
          "text": [
            "dict_values([5, 3, 2])\n",
            "[5, 3, 2]\n"
          ]
        }
      ]
    },
    {
      "cell_type": "code",
      "source": [
        "print(list(orders.keys()))"
      ],
      "metadata": {
        "colab": {
          "base_uri": "https://localhost:8080/"
        },
        "id": "3GmC6c07zWEK",
        "outputId": "21439fd4-bb43-4957-9bf5-29fdcd29267b"
      },
      "id": "3GmC6c07zWEK",
      "execution_count": null,
      "outputs": [
        {
          "output_type": "stream",
          "name": "stdout",
          "text": [
            "['apple', 'orange', 'banana']\n"
          ]
        }
      ]
    },
    {
      "cell_type": "code",
      "source": [
        "for tuple in list(orders.items()):\n",
        "\n",
        "  print(tuple)"
      ],
      "metadata": {
        "colab": {
          "base_uri": "https://localhost:8080/"
        },
        "id": "t1PWsPT9zcPB",
        "outputId": "aa223798-0627-44a7-e9c4-6405f5fff1d6"
      },
      "id": "t1PWsPT9zcPB",
      "execution_count": null,
      "outputs": [
        {
          "output_type": "stream",
          "name": "stdout",
          "text": [
            "('apple', 5)\n",
            "('orange', 3)\n",
            "('banana', 2)\n"
          ]
        }
      ]
    },
    {
      "cell_type": "markdown",
      "source": [
        "### Exercise 7: Exploring Tuple Properties in Our Shopping List"
      ],
      "metadata": {
        "id": "M9X6iT52zlSQ"
      },
      "id": "M9X6iT52zlSQ"
    },
    {
      "cell_type": "code",
      "source": [
        "t = ('bread', 'milk', 'eggs')\n",
        "print(len(t))"
      ],
      "metadata": {
        "colab": {
          "base_uri": "https://localhost:8080/"
        },
        "id": "N0fQMzdmzj23",
        "outputId": "33805c4a-4fd4-4225-fe11-b79ee8aaad4f"
      },
      "id": "N0fQMzdmzj23",
      "execution_count": null,
      "outputs": [
        {
          "output_type": "stream",
          "name": "stdout",
          "text": [
            "3\n"
          ]
        }
      ]
    },
    {
      "cell_type": "code",
      "source": [
        "t.append('apple')\n",
        "t[2] = 'apple'"
      ],
      "metadata": {
        "colab": {
          "base_uri": "https://localhost:8080/",
          "height": 182
        },
        "id": "Qjr797c0zwX_",
        "outputId": "89f0e784-b429-4712-e979-43a75d59b4bf"
      },
      "id": "Qjr797c0zwX_",
      "execution_count": null,
      "outputs": [
        {
          "output_type": "error",
          "ename": "AttributeError",
          "evalue": "ignored",
          "traceback": [
            "\u001b[0;31m---------------------------------------------------------------------------\u001b[0m",
            "\u001b[0;31mAttributeError\u001b[0m                            Traceback (most recent call last)",
            "\u001b[0;32m<ipython-input-50-656a23da4fe5>\u001b[0m in \u001b[0;36m<module>\u001b[0;34m\u001b[0m\n\u001b[0;32m----> 1\u001b[0;31m \u001b[0mt\u001b[0m\u001b[0;34m.\u001b[0m\u001b[0mappend\u001b[0m\u001b[0;34m(\u001b[0m\u001b[0;34m'apple'\u001b[0m\u001b[0;34m)\u001b[0m\u001b[0;34m\u001b[0m\u001b[0;34m\u001b[0m\u001b[0m\n\u001b[0m\u001b[1;32m      2\u001b[0m \u001b[0mt\u001b[0m\u001b[0;34m[\u001b[0m\u001b[0;36m2\u001b[0m\u001b[0;34m]\u001b[0m \u001b[0;34m=\u001b[0m \u001b[0;34m'apple'\u001b[0m\u001b[0;34m\u001b[0m\u001b[0;34m\u001b[0m\u001b[0m\n",
            "\u001b[0;31mAttributeError\u001b[0m: 'tuple' object has no attribute 'append'"
          ]
        }
      ]
    },
    {
      "cell_type": "code",
      "source": [
        "print(t + ('apple', 'orange'))\n",
        "print(t)"
      ],
      "metadata": {
        "colab": {
          "base_uri": "https://localhost:8080/"
        },
        "id": "CgCSQ4SIz0ZS",
        "outputId": "e1616097-0ef3-4f32-acfc-574f8800cf69"
      },
      "id": "CgCSQ4SIz0ZS",
      "execution_count": null,
      "outputs": [
        {
          "output_type": "stream",
          "name": "stdout",
          "text": [
            "('bread', 'milk', 'eggs', 'apple', 'orange')\n",
            "('bread', 'milk', 'eggs')\n"
          ]
        }
      ]
    },
    {
      "cell_type": "code",
      "source": [
        "t_mixed = 'apple', True, 3\n",
        "print(t_mixed)\n",
        "t_shopping = ('apple',3), ('orange',2), ('banana',5)\n",
        "print(t_shopping)"
      ],
      "metadata": {
        "colab": {
          "base_uri": "https://localhost:8080/"
        },
        "id": "lnYaQ_m8z6ut",
        "outputId": "214c6d78-f944-4485-c0fd-ddcb94574e70"
      },
      "id": "lnYaQ_m8z6ut",
      "execution_count": null,
      "outputs": [
        {
          "output_type": "stream",
          "name": "stdout",
          "text": [
            "('apple', True, 3)\n",
            "(('apple', 3), ('orange', 2), ('banana', 5))\n"
          ]
        }
      ]
    },
    {
      "cell_type": "markdown",
      "source": [
        "### Exercise 8: Using Sets in Python"
      ],
      "metadata": {
        "id": "m2FEO8hlz-At"
      },
      "id": "m2FEO8hlz-At"
    },
    {
      "cell_type": "code",
      "source": [
        "s1 = set([1,2,3,4,5,6])\n",
        "print(s1)\n",
        "s2 = set([1,2,2,3,4,4,5,6,6])\n",
        "print(s2)\n",
        "s3 = set([3,4,5,6,6,6,1,1,2])\n",
        "print(s3)\n"
      ],
      "metadata": {
        "colab": {
          "base_uri": "https://localhost:8080/"
        },
        "id": "kuxwKKdVz8N0",
        "outputId": "887c1d89-3b3f-4651-dff8-041c877678ff"
      },
      "id": "kuxwKKdVz8N0",
      "execution_count": null,
      "outputs": [
        {
          "output_type": "stream",
          "name": "stdout",
          "text": [
            "{1, 2, 3, 4, 5, 6}\n",
            "{1, 2, 3, 4, 5, 6}\n",
            "{1, 2, 3, 4, 5, 6}\n"
          ]
        }
      ]
    },
    {
      "cell_type": "code",
      "source": [
        "s4 = {\"apple\", \"orange\", \"banana\"}\n",
        "print(s4)"
      ],
      "metadata": {
        "colab": {
          "base_uri": "https://localhost:8080/"
        },
        "id": "8dI9Fajh0Drz",
        "outputId": "cf9b1fc8-429a-4872-937f-801d9c118c6b"
      },
      "id": "8dI9Fajh0Drz",
      "execution_count": null,
      "outputs": [
        {
          "output_type": "stream",
          "name": "stdout",
          "text": [
            "{'banana', 'orange', 'apple'}\n"
          ]
        }
      ]
    },
    {
      "cell_type": "code",
      "source": [
        "s4.add('pineapple')\n",
        "print(s4)"
      ],
      "metadata": {
        "colab": {
          "base_uri": "https://localhost:8080/"
        },
        "id": "26cP9WXI0GAh",
        "outputId": "067acd0d-5215-4c34-f9fb-027490610e39"
      },
      "id": "26cP9WXI0GAh",
      "execution_count": null,
      "outputs": [
        {
          "output_type": "stream",
          "name": "stdout",
          "text": [
            "{'banana', 'orange', 'pineapple', 'apple'}\n"
          ]
        }
      ]
    },
    {
      "cell_type": "markdown",
      "source": [
        "### Exercise 9: Implementing Set Operations"
      ],
      "metadata": {
        "id": "Kb1h905f0Iiw"
      },
      "id": "Kb1h905f0Iiw"
    },
    {
      "cell_type": "code",
      "source": [
        "s5 = {1,2,3,4}\n",
        "s6 = {3,4,5,6}"
      ],
      "metadata": {
        "id": "ewD2_HCd0HxE"
      },
      "id": "ewD2_HCd0HxE",
      "execution_count": null,
      "outputs": []
    },
    {
      "cell_type": "code",
      "source": [
        "print(s5 | s6)\n",
        "print(s5.union(s6))"
      ],
      "metadata": {
        "colab": {
          "base_uri": "https://localhost:8080/"
        },
        "id": "RSaO-o0h0Ye_",
        "outputId": "d8eb9108-7c95-4c24-d525-5529faafc910"
      },
      "id": "RSaO-o0h0Ye_",
      "execution_count": null,
      "outputs": [
        {
          "output_type": "stream",
          "name": "stdout",
          "text": [
            "{1, 2, 3, 4, 5, 6}\n",
            "{1, 2, 3, 4, 5, 6}\n"
          ]
        }
      ]
    },
    {
      "cell_type": "code",
      "source": [
        "print(s5 & s6)\n",
        "print(s5.intersection(s6))"
      ],
      "metadata": {
        "colab": {
          "base_uri": "https://localhost:8080/"
        },
        "id": "P5Hh-zmo0cHM",
        "outputId": "4a5e91a1-945f-4770-cfe8-39b5024ef38b"
      },
      "id": "P5Hh-zmo0cHM",
      "execution_count": null,
      "outputs": [
        {
          "output_type": "stream",
          "name": "stdout",
          "text": [
            "{3, 4}\n",
            "{3, 4}\n"
          ]
        }
      ]
    },
    {
      "cell_type": "code",
      "source": [
        "print(s5 - s6)\n",
        "print(s5.difference(s6))"
      ],
      "metadata": {
        "colab": {
          "base_uri": "https://localhost:8080/"
        },
        "id": "85YP9QqZ0eNn",
        "outputId": "041e3a71-8778-4afb-fca0-b23b72fe893a"
      },
      "id": "85YP9QqZ0eNn",
      "execution_count": null,
      "outputs": [
        {
          "output_type": "stream",
          "name": "stdout",
          "text": [
            "{1, 2}\n",
            "{1, 2}\n"
          ]
        }
      ]
    },
    {
      "cell_type": "code",
      "source": [
        "print(s5 <= s6)\n",
        "print(s5.issubset(s6))\n",
        "\n",
        "s7 = {1,2,3}\n",
        "s8 = {1,2,3,4,5}\n",
        "print(s7 <= s8)\n",
        "print(s7.issubset(s8))"
      ],
      "metadata": {
        "colab": {
          "base_uri": "https://localhost:8080/"
        },
        "id": "g4tuDZ5I0fn8",
        "outputId": "186366d3-e862-4ecd-df21-080f0b66aeee"
      },
      "id": "g4tuDZ5I0fn8",
      "execution_count": null,
      "outputs": [
        {
          "output_type": "stream",
          "name": "stdout",
          "text": [
            "False\n",
            "False\n",
            "True\n",
            "True\n"
          ]
        }
      ]
    },
    {
      "cell_type": "code",
      "source": [
        "print(s7 < s8)\n",
        "s9 = {1,2,3}\n",
        "s10 = {1,2,3}\n",
        "print(s9 < s10)\n",
        "print(s9 < s9)"
      ],
      "metadata": {
        "colab": {
          "base_uri": "https://localhost:8080/"
        },
        "id": "Rb8Hh8o80iQf",
        "outputId": "4732eb40-da88-4bff-e26b-92928e3d7744"
      },
      "id": "Rb8Hh8o80iQf",
      "execution_count": null,
      "outputs": [
        {
          "output_type": "stream",
          "name": "stdout",
          "text": [
            "True\n",
            "False\n",
            "False\n"
          ]
        }
      ]
    },
    {
      "cell_type": "code",
      "source": [
        "print(s8 >= s7)\n",
        "print(s8.issuperset(s7))\n",
        "print(s8 > s7)\n",
        "print(s8 > s8)"
      ],
      "metadata": {
        "colab": {
          "base_uri": "https://localhost:8080/"
        },
        "id": "d8qHFZEK0ryQ",
        "outputId": "a60c74d8-6311-449b-efb3-690c9d130f9f"
      },
      "id": "d8qHFZEK0ryQ",
      "execution_count": null,
      "outputs": [
        {
          "output_type": "stream",
          "name": "stdout",
          "text": [
            "True\n",
            "True\n",
            "True\n",
            "False\n"
          ]
        }
      ]
    },
    {
      "cell_type": "code",
      "source": [],
      "metadata": {
        "id": "dQegeBqE0t8h"
      },
      "id": "dQegeBqE0t8h",
      "execution_count": null,
      "outputs": []
    }
  ],
  "metadata": {
    "kernelspec": {
      "display_name": "Python 3 (ipykernel)",
      "language": "python",
      "name": "python3"
    },
    "language_info": {
      "codemirror_mode": {
        "name": "ipython",
        "version": 3
      },
      "file_extension": ".py",
      "mimetype": "text/x-python",
      "name": "python",
      "nbconvert_exporter": "python",
      "pygments_lexer": "ipython3",
      "version": "3.9.7"
    },
    "colab": {
      "name": "EECS_19244_Rita_Activity3.ipynb",
      "provenance": []
    }
  },
  "nbformat": 4,
  "nbformat_minor": 5
}